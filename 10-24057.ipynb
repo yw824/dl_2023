{
 "cells": [
  {
   "cell_type": "markdown",
   "id": "052a515f",
   "metadata": {},
   "source": [
    "# 실습 9. RNN 학습시켜보기 2"
   ]
  },
  {
   "cell_type": "markdown",
   "id": "3d913c20",
   "metadata": {},
   "source": [
    "<h2>0. Intro</h2>\n",
    "\n",
    "앞서 살펴본 실습 8처럼, 본 문제에서는 수열 분류 문제를 다뤄보도록 할 것이다. 본 연습문제에서 다루고자 하는 문제는 아래와 같다."
   ]
  },
  {
   "cell_type": "markdown",
   "id": "cf656d37",
   "metadata": {},
   "source": [
    "<center>수열을 절반으로 나눴을 때, 앞부분과 뒷부분이 일치하는가?"
   ]
  },
  {
   "cell_type": "markdown",
   "id": "99684906",
   "metadata": {},
   "source": [
    "간단한 예시를 통해 문제를 이해해보도록 하자.\n",
    "\n",
    "예를 들어, [1, 2, 3, 1, 2, 3]의 경우 절반으로 나눴을 때, 앞부분인 [1, 2, 3]과 뒷부분인 [1, 2, 3]은 동일하다고 할 수 있다. 그러나 [1, 9, 2, 1, 8, 3]의 경우에는 앞부분인 [1, 9, 2]와 뒷부분인 [1, 8, 3]은 동일하다고 할 수 없다.\n",
    "\n",
    "이 분류 문제를 조금 다른 관점에서 바라보면, ‘어떠한 수열을 동일한 수열 두 개를 이어붙인 형태라고 할 수 있는가?’ 라고 볼 수 있을 것이다. \n",
    "\n",
    "우리는 본 연습문제를 통해 최종적으로 특정 수열을 입력받았을 때, 주어진 분류 문제에 맞게 수열을 올바르게 분류할 수 있는 신경망 모델을 구축해낼 것이다. 본 문제는 신경망 모델 정의, 데이터셋 생성, 훈련, 정확도 측정의 순서로 구성되었다. 순서대로 신경 모델을 학습시켜보고, 모델의 정확한지 정확도 측정까지 진행해볼 수 있도록 하자.\n",
    "\n",
    "시작에 앞서, 본 문제를 해결하는데 필요한 라이브러리들을 import하도록 하자."
   ]
  },
  {
   "cell_type": "code",
   "execution_count": 1,
   "id": "ac9c8122",
   "metadata": {},
   "outputs": [],
   "source": [
    "\n",
    "from collections import defaultdict\n",
    "\n",
    "import numpy as np\n",
    "\n",
    "from mynn.layers.dense import dense\n",
    "from mynn.optimizers.adam import Adam\n",
    "\n",
    "from mygrad.nnet.losses import softmax_crossentropy\n",
    "from mygrad.nnet.initializers import glorot_normal\n",
    "from mygrad.nnet.activations import relu\n",
    "\n",
    "import mygrad as mg\n",
    "\n",
    "%matplotlib notebook\n",
    "import matplotlib.pyplot as plt\n"
   ]
  },
  {
   "cell_type": "markdown",
   "id": "c1a721f2",
   "metadata": {},
   "source": [
    "<h2>1. One-Hot 인코딩</h2>\n",
    "\n",
    "이제 신경망 모델을 정의해볼 것이다. 모델을 정의하기에 앞서, 모델이 어떤 형태의 값을 입력받아서 어떤 형태의 값을 출력하게 될 것인지에 대한 논의이 필요할 것이다. 뿐만 아니라 입력받은 값을 신경망 내에서 어떠한 방식으로 처리할 것인지에 대한 논의를 거쳐야 할 것이다. 이들에 대한 간단한 논의를 진행한 후, 모델을 구성해볼 수 있도록 하자.\n",
    "\n",
    "우선, 신경망은 수열 $(\\overrightarrow{x_t})^T_{t=1}$를 입력받을 것이다. 이 수열은 우리가 분류하고자 하는 길이 T의 수열에 One-hot 인코딩이 이루어진 (T, C) 모양의 배열이다. 여기서 T는 수열의 길이, C는 원소가 임베딩된 차원을 지칭한다. 이어 분류의 가짓수가 총 K개 존재한다면, 신경망은 결과 값으로 K개의 분류 점수를 출력할 것이다. 본 문제에서는 ‘yes or no' 2가지가 있으므로 K=2라고 할 수 있다."
   ]
  },
  {
   "cell_type": "markdown",
   "id": "90ebafe4",
   "metadata": {},
   "source": [
    "**Note** : 정수로 구성된 수열을 One-hot 인코딩한다면 어떠한 형태를 띠게 되는가?\n",
    "0~9까지의 각 정수는 One-hot 인코딩을 통해 길이 10의 배열로 변형된다."
   ]
  },
  {
   "cell_type": "markdown",
   "id": "d0c69ec4",
   "metadata": {},
   "source": [
    "* 0 -> [1, 0, 0, 0, 0, 0, 0, 0, 0, 0]\n",
    "* 1 -> [0, 1, 0, 0, 0, 0, 0, 0, 0, 0]\n",
    "* 2 -> [0, 0, 1, 0, 0, 0, 0, 0, 0, 0]\n",
    "\n",
    "  ⦙  \n",
    "\n",
    "\n",
    "* 9 -> [0, 0, 0, 0, 0, 0, 0, 0, 0, 1]\n",
    "\n",
    "아래의 예시를 통해 직관적인 이해를 도모해보자."
   ]
  },
  {
   "cell_type": "code",
   "execution_count": 2,
   "id": "0ec0c2ee",
   "metadata": {},
   "outputs": [
    {
     "data": {
      "text/plain": [
       "array([[0., 0., 1., 0., 0., 0., 0., 0., 0., 0.],\n",
       "       [1., 0., 0., 0., 0., 0., 0., 0., 0., 0.],\n",
       "       [0., 0., 1., 0., 0., 0., 0., 0., 0., 0.],\n",
       "       [1., 0., 0., 0., 0., 0., 0., 0., 0., 0.]])"
      ]
     },
     "execution_count": 2,
     "metadata": {},
     "output_type": "execute_result"
    }
   ],
   "source": [
    "# 길이가 4인 정수로 구성된 수열\n",
    "np.array([2, 0, 2, 0])\n",
    "\n",
    "# 위 수열이 one-hot 인코딩된 결과는 아래와 같다.\n",
    "\n",
    "# (4, 10) 모양\n",
    "np.array([[ 0., 0., 1., 0., 0., 0., 0., 0., 0., 0.],\n",
    "[ 1., 0., 0., 0., 0., 0., 0., 0., 0., 0.],\n",
    "[ 0., 0., 1., 0., 0., 0., 0., 0., 0., 0.],\n",
    "[ 1., 0., 0., 0., 0., 0., 0., 0., 0., 0.]])\n"
   ]
  },
  {
   "cell_type": "markdown",
   "id": "a9d7238c",
   "metadata": {},
   "source": [
    "위 예시와 같은 방식으로, 길이 T의 수열에 있는 T개의 정수가 각각 길이 C의 배열로 변환된다. 이렇게 우리는 One-hot 인코딩을 통해 $(T, C)_{C=10}$모양의 배열을 출력받게 될 것이다."
   ]
  },
  {
   "cell_type": "markdown",
   "id": "0d9eaa3d",
   "metadata": {},
   "source": [
    "<h2>2. 신경망 모델 파헤쳐보기</h2>\n",
    "\n",
    "그러면 이제 이 입력받은 배열을 가지고 어떻게 가공할 것인지 살펴보자. 살펴보기 전에, 위에 제시한 분류 문제를 컴퓨터의 관점에 맞춰 이진 분류 형식으로 조금 변형해보겠다. 우리가 다루게 될 문제를 이진 분류 문제로 표현해보면, 아래와 같다.\n",
    "\n",
    "주어진 수열을 절반으로 나눈 뒤, 앞부분과 뒷부분이 같다면 1, 다르다면 0을 출력한다.\n",
    "\n",
    "최종적으로, 0 아니면 1의 값을 결과 값으로 출력하게 되는 것이다. 이와 같은 값을 최종적으로 출력하기 위해서 신경망이 입력 값을 가공하는 과정을 아래에 수식으로 표현해보았다.\n"
   ]
  },
  {
   "cell_type": "markdown",
   "id": "16212c22",
   "metadata": {},
   "source": [
    "$$\\overrightarrow{h_t}=ReLU(\\overrightarrow{x_t}W_{xh}+\\overrightarrow{h_{t-1}}W_{hh}+\\overrightarrow{b_h})$$\n",
    "$$\\overrightarrow{y_t}=\\overrightarrow{h_t}W_{hy}+\\overrightarrow{b_y}$$"
   ]
  },
  {
   "cell_type": "markdown",
   "id": "797364ce",
   "metadata": {},
   "source": [
    "위 식을 이해하기 전에, 우선 각각의 기호가 지칭하는 바가 무엇인지 알아보자.\n",
    "\n",
    "* $\\overrightarrow{h_t}$는 hidden state를 말하고, $\\overrightarrow{x_t}$는 수열의 t번째 원소에 대응되는 배열을 나타낸다. (t = 1, 2, 3, …, T, T는 수열의 길이) 그리고 수열 $\\overrightarrow{y_t}$은 결과 값인 분류 점수다. 위 식을 보면, t가 1, 2, 3, …, T일 경우 모두에 대한 각각의 결과 값을 계산한다는 것을 알 수 있다. 그러나 본 문제의 경우, 가장 마지막에 출력되는 최종적인 결과 값, $\\overrightarrow{y_T}$만 고려할 것이다. 그리고 $\\overrightarrow{b_h}$와 $\\overrightarrow{b_y}$는 신경망의 매개변수로서 신경망이 학습하는 과정에서 지속적으로 조정될 것이다. 각 기호들에 대해 조금 더 구체적으로 풀어서 설명해보자면 아래와 같다.\n",
    "\n",
    "* $\\overrightarrow{x_t}$는 수열의 t번째 원소를 One-hot 인코딩한 배열로, (1, C)의 모양을 갖는다.\n",
    "\n",
    "* $\\overrightarrow{h_t}$는 “hidden descriptor”로서 $\\overrightarrow{x_t}$의 정보와 앞 원소들에 대한 정보 $\\overrightarrow{h_{t-1}}$을 내포하고 있으며, (1, D)의 모양을 가진다. D의 값은 우리가 임의로 정할 수 있으며, 이 값은 신경망 내 층의 크기를 나타낸다.\n",
    "\n",
    "* $W_{xh}$와 $\\overrightarrow{b_h}$는 밀집층의 가중치와 편향을 나타내며, 입력 값 $\\overrightarrow{x_t}$을 받아서 hidden state $\\overrightarrow{h_t}$를 계산하는 데 쓰인다. $W_{xh}$는 (C, D)의 모양을 가지며, $\\overrightarrow{b_h}$는 (1, D)의 모양을 갖는다.\n",
    "\n",
    "* $W_{hh}$ 또한 밀집층의 가중치를 나타내며, 이전 hidden state $\\overrightarrow{h_{t-1}}$을 가지고 현재 hidden state $\\overrightarrow{h_t}$를 계산하는 데 쓰인다. $W_{hh}$의 경우, (D, D)의 모양을 갖는다.\n",
    "\n",
    "* $W_{hy}$와 $\\overrightarrow{b_y}$도 밀집층의 가중치와 편향을 나타내며, hidden state $\\overrightarrow{h_t}$를 이용하여 결과 값인 분류 점수 를 계산하는 데 사용된다. $W_{hy}$는 (D, K)의 모양을 가지며, $\\overrightarrow{b_y}$는 (1, K)의 모양을 갖는다. 여기서, K는 분류의 총 가짓수를 말한다. 위에 언급한 바, 이 문제에 한하여 최종 분류 점수에만 관심이 있으므로, 마지막 hidden state $\\overrightarrow{h_T}$만을 이용해서 최종 분류 점수 $\\overrightarrow{y_T}$를 계산할 것이다."
   ]
  },
  {
   "cell_type": "markdown",
   "id": "d841a82e",
   "metadata": {},
   "source": [
    "위와 같이 hidden state와 결과 값을 구하고, 이를 기반으로 다음 hidden state와 결과 값을 구하는 순환적인 구조를 통해 최종 분류 점수를 산출한다. 그리고 구한 최종 분류 점수에 활성화 함수를 적용해서 손실을 계산한다. 이렇게 순전파 과정이 완료된다.\n",
    "\n",
    "순전파를 진행했다면, 역전파 또한 진행되어야 한다. 역전파를 통해서 gradient 값에 따라 매개변수를 조정하는 과정을 거침으로써 신경망의 학습 과정이 온전히 완료될 것이다. 역전파는 후술할 Adam Optimizer를 통해서 진행될 것이다."
   ]
  },
  {
   "cell_type": "markdown",
   "id": "25d2b1be",
   "metadata": {},
   "source": [
    "<h2>3. 순환 신경망 모델 구축하기</h2>\n",
    "\n",
    "자 이제, MyGrad와 MyNN 라이브러리를 이용하여 신경망 모델을 정의해보자. 모델을 구축하는 데 있어서 기반이 되는 식을 아래에 다시 제시해놓겠다."
   ]
  },
  {
   "cell_type": "markdown",
   "id": "58d0f24c",
   "metadata": {},
   "source": [
    "$$\\overrightarrow{h_t}=ReLU(\\overrightarrow{x_t}W_{xh}+\\overrightarrow{h_{t-1}}W_{hh}+\\overrightarrow{b_h})$$\n",
    "$$\\overrightarrow{y_t}=\\overrightarrow{h_t}W_{hy}+\\overrightarrow{b_y}$$"
   ]
  },
  {
   "cell_type": "markdown",
   "id": "0ea1386c",
   "metadata": {},
   "source": [
    "__ __init__ __\n",
    "\n",
    "세 개의 값을 입력으로 받는다 : dim_input(C), dim_recurrent(D), dim_output(K)\n",
    "\n",
    "입력받은 값들을 바탕으로 세 개의 밀집층을 생성한다.\n",
    "\n",
    "**Note** : 하나의 밀집층에는 편향이 존재하지 않아도 된다. $W_{xh}$와 $W_{hh}$이 하나의 식 안에 존재하기 때문에 두 개의 밀집층에 대해서 편향은 하나만 존재해도 괜찮다."
   ]
  },
  {
   "cell_type": "markdown",
   "id": "c71be189",
   "metadata": {},
   "source": [
    "__ __call__ __\n",
    "\n",
    "최초의 hidden state $\\overrightarrow{h_{t=0}}$가 정의되어 있지 않은 경우, 모든 원소를 0으로 초기화한 (1, D) 모양의 배열로 최초의 hidden state를 생성한다.\n",
    "\n",
    "입력받은 수열 $(\\overrightarrow{x_t})^T_{t=1}$을 가지고 연산을 진행한다. 진행하면서 스텝마다 계산된 hidden state들을 저장해놓는다.\n",
    "\n",
    "수열에 있는 모든 원소들에 대해 hidden state 계산이 완료되었다면, 저장된 hidden state들을 가지고 각각에 대한 결과 값인 분류 점수를 계산하고 저장해놓는다.\n",
    "\n",
    "최종적으로 저장된 분류 점수와 hidden state를 리턴한다. 여기서, hidden state는 (T, D)의 모양을 가지고, 분류 점수는 (T, K)의 모양을 갖는다."
   ]
  },
  {
   "cell_type": "markdown",
   "id": "112fc5e4",
   "metadata": {},
   "source": [
    "__parameters__\n",
    "\n",
    "학습 가능한 매개변수들을 하나의 튜플로 묶어서 출력한다.\n",
    "\n",
    "우리는 궁극적으로 최종 분류 점수인 를 기반으로 손실을 계산해내고자 한다. 우리는 이 점수에 softmax-crossentropy 함수를 적용하여 손실을 계산해낼 것이다.\n",
    "\n",
    "**Note** : glorot_normal 함수를 weight_initializer로 활용하여 밀집층 최초 생성에 사용하도록 하자."
   ]
  },
  {
   "cell_type": "code",
   "execution_count": 10,
   "id": "80dc5a35",
   "metadata": {},
   "outputs": [],
   "source": [
    "class RNN():\n",
    "    \"\"\"분류 점수와 hidden descriptor를 출력해주는 간단한 RNN을 구현해보자\"\"\"\n",
    "\n",
    "    def __init__(self, dim_input, dim_recurrent, dim_output):\n",
    "        \"\"\" RNN에 필요한 층들을 생성해보자\n",
    "        매개변수(Parameters)\n",
    "        ----------\n",
    "        dim_input: int \n",
    "        입력받을 데이터의 차원 (C)\n",
    "        dim_recurrent: int\n",
    "        RNN에서 쓰일 hidden state의 차원 (D)\n",
    "        dim_output: int\n",
    "        RNN에서 출력할 분류 점수의 차원 (K)\n",
    "        \"\"\"\n",
    "        # 위에 설명한 으로 표현되는 층을 생성하자.\n",
    "        # 각 층의 의미를 잘 나타내도록 층의 이름을 성심껏 지어보자.\n",
    "        self.fc_x2h = dense(dim_input, dim_recurrent, weight_initializer=glorot_normal)\n",
    "        self.fc_h2h = dense(dim_recurrent, dim_recurrent, weight_initializer=glorot_normal, bias = False)\n",
    "        self.fc_h2y = dense(dim_recurrent, dim_output, weight_initializer=glorot_normal)\n",
    "    \n",
    "\n",
    "    def __call__(self, x, h=None):\n",
    "        \"\"\" RNN의 순전파를 구현해보자.\n",
    "        비록 최종 분류 점수만을 기반으로 손실함수의 값이 계산되지만, \n",
    "        전체 수열에 대한 hidden state와 분류 점수들 모두 리턴할 것이다.\n",
    "        매개변수(Parameters)\n",
    "        ----------\n",
    "        x: Union[numpy.ndarray, mygrad.Tensor], shape=(T, C)\n",
    "        수열이 One-hot 인코딩된 배열\n",
    "        h: Optional[Union[numpy.ndarray, mygrad.Tensor]], shape=(1, D)\n",
    "        최초의 hidden state를 나타낸다.\n",
    "        입력된 값이 없을 경우 0으로 값이 초기화된 배열로 설정한다.\n",
    "\n",
    "        반환 값(Returns)\n",
    "        -------\n",
    "        Tuple[y, h]\n",
    "        y: mygrad.Tensor, shape=(T, K)\n",
    "        각 스텝마다 계산된 결과 값들(분류 점수)\n",
    "        h: mygrad.Tensor, shape=(T, D)\n",
    "        각 스텝마다 계산된 hidden state들\n",
    "        \"\"\"\n",
    "        # 최초 hidden state 값이 입력되지 않은 경우, 모든 원소를 0으로 초기화한다.\n",
    "        #\n",
    "        # 각 x_t에 대해 대응되는 h_t를 저장해놓도록 하자. (h_0 제외)\n",
    "        # \n",
    "        # mg.concatenate(list_of_h, axis=0)을 이용하여 hidden state들을 나타내는\n",
    "        # (T, K) 모양의 배열을 만들도록 하자.\n",
    "        #\n",
    "        # for-loop을 활용하는 것이 적절한 방법일 것이다.\n",
    "        #\n",
    "        # x_t의 모양과 for-loop의 결과 값의 모양에 유념하자. 두 값의 모양은 다르다.\n",
    "\n",
    "        h_t = np.zeros((1, self.fc_x2h.weight.shape[0]), dtype=np.float32) if h is None else h\n",
    "        h = [] # 최초 hidden state 값은 저장하지 않을 것이다.\n",
    "        \n",
    "        for x_t in x:\n",
    "            # x_t[np.newaxis]는 (C,) 모양의 x_t를 (1, C) 모양으로 바꾸어준다.\n",
    "            #\n",
    "            # h_t는 (1, D) 모양의 hidden descriptor이다.\n",
    "            h_t = relu(self.fc_x2h(x_t[np.newaxis]) + self.fc_h2h(h_t))\n",
    "            h.append(h_t)\n",
    "        \n",
    "        # T개의 descriptor들이 있는 (T, D)모양의 배열 (각 descriptor는 (D,) 모양이다)\n",
    "        all_h = mg.concatenate(h, axis = 0)\n",
    "        \n",
    "        # all_y는 T개의 예측 점수가 들어 있는 (T, K) 모양의 배열이다.\n",
    "        # 각 점수들은 T개의 hidden descriptor로부터 각기 산출된다.\n",
    "        #\n",
    "        # 본 연습문제에서는 all_y[-1:]만을 우리의 예측 점수로 삼을 것이다.\n",
    "        all_y = self.fc_h2y(all_h)\n",
    "        return all_y , all_h\n",
    "\n",
    "    @property\n",
    "    def parameters(self):\n",
    "        \"\"\" 클래스 내 모든 매개변수들을 출력해주는 함수\n",
    "        이 함수는 클래스의 attribute로서 접근이 가능하다. `model.parameters` \n",
    "        반환 값(Returns)\n",
    "        -------\n",
    "        Tuple[Tensor, ...]\n",
    "        학습 가능한 매개변수 전부를 출력한다.\n",
    "        \"\"\"\n",
    "        return self.fc_x2h.parameters + self.fc_h2h.parameters + self.fc_h2y.parameters"
   ]
  },
  {
   "cell_type": "markdown",
   "id": "ef035fbe",
   "metadata": {},
   "source": [
    "<h2>4. 학습에 사용할 데이터셋 생성</h2>\n",
    "\n",
    "자, 모델을 정의했으니 학습에 사용할 데이터셋을 만들어보자. 데이터셋이 신경망에 적절히 입력되려면, 어떠한 성질을 갖추어야 할까?\n",
    "\n",
    "우리가 다루고자 하는 문제는 아래와 같다."
   ]
  },
  {
   "cell_type": "markdown",
   "id": "921efdf9",
   "metadata": {},
   "source": [
    "<center>수열을 절반으로 나눴을 때, 앞부분과 뒷부분이 일치하는가?"
   ]
  },
  {
   "cell_type": "markdown",
   "id": "4ffc58c5",
   "metadata": {},
   "source": [
    "우선, 우리가 다룰 문제는 수열을 절반으로 나누는 것을 상정하고 있으므로, 입력받을 수열의 길이는 반드시 짝수여야 할 것이다. 우리는 수열을 절반으로 나눈 뒤 앞부분과 뒷부분으로 구분하고, 각 부분을 패턴이라고 통칭할 것이다.\n",
    "\n",
    "앞부분과 뒷부분이 일치한 수열을 만든다면 동일한 패턴 2개를 이어붙이는 것이고, 앞부분과 뒷부분이 다르다면 서로 다른 패턴 2개를 이어붙이는 것이다. 여기서 패턴의 길이는 수열의 길이의 절반이라고 할 수 있을 것이다.\n",
    "\n",
    "이외에 데이터셋이 갖추어야 할 성질들을 아래에 쭉 나열해보겠다."
   ]
  },
  {
   "cell_type": "markdown",
   "id": "ad795f89",
   "metadata": {},
   "source": [
    "* 패턴 길이의 최솟값과 최댓값을 함수 사용자 임의로 지정할 수 있다.\n",
    "* 위에서 지정한 범위 내에서 랜덤으로 패턴의 길이를 정한다.\n",
    "* 위에서 정한 길이만큼 0~9의 정수로 구성된 패턴을 랜덤으로 생성한다.\n",
    "* 수열의 앞부분에 위에서 생성한 패턴을 넣는다.\n",
    "* 수열의 앞부분과 뒷부분을 동일하게 할 것인가에 대해 50%의 확률로 결정한다.\n",
    "* 위에서 결정된 내용을 바탕으로 수열의 뒷부분을 채워 넣는다.\n",
    "* float32를 타입으로 갖는 (T, 10) 모양의 numpy 배열 x을 만든다. 여기서 i번째 행은 수열의 i번째 항을 one-hot 인코딩한 배열이다.\n",
    "* int16을 타입으로 갖는 (1, ) 모양의 numpy 배열 y를 만든다. 수열의 앞부분과 뒷부분이 같다면 array([1]), 다르다면 array([0])의 값을 갖는다.\n",
    "* (x, y, 수열)의 tuple 형식으로 리턴한다.\n",
    "\n",
    "**Hint** : np.random.rand() < 0.5는 정확히 50% 확률로 True 혹은 False 값을 갖는다."
   ]
  },
  {
   "cell_type": "markdown",
   "id": "cc469336",
   "metadata": {},
   "source": [
    "위 함수의 이해를 돕기 위해, 예시를 들어보겠다. 생성된 수열이 [2, 0, 2, 0]이라고 하자. 이 수열은 절반으로 나눴을 때, 앞부분과 뒷부분이 동일하기 때문에 y는 array([1])일 것이다. 그리고 x의 경우 아래와 같이 표현할 수 있을 것이다."
   ]
  },
  {
   "cell_type": "code",
   "execution_count": 11,
   "id": "bbe1ca81",
   "metadata": {},
   "outputs": [
    {
     "data": {
      "text/plain": [
       "array([[0., 0., 1., 0., 0., 0., 0., 0., 0., 0.],\n",
       "       [1., 0., 0., 0., 0., 0., 0., 0., 0., 0.],\n",
       "       [0., 0., 1., 0., 0., 0., 0., 0., 0., 0.],\n",
       "       [1., 0., 0., 0., 0., 0., 0., 0., 0., 0.]])"
      ]
     },
     "execution_count": 11,
     "metadata": {},
     "output_type": "execute_result"
    }
   ],
   "source": [
    "np.array([[ 0., 0., 1., 0., 0., 0., 0., 0., 0., 0.],\n",
    "[ 1., 0., 0., 0., 0., 0., 0., 0., 0., 0.],\n",
    "[ 0., 0., 1., 0., 0., 0., 0., 0., 0., 0.],\n",
    "[ 1., 0., 0., 0., 0., 0., 0., 0., 0., 0.]])"
   ]
  },
  {
   "cell_type": "markdown",
   "id": "4d7e5c0f",
   "metadata": {},
   "source": [
    "그리고 수열의 경우, array([2, 0, 2, 0])로 표현될 것이다.\n",
    "\n",
    "그럼 이제 위에 제시한 설명을 바탕으로 데이터셋을 생성해주는 함수를 구현해보자!\n",
    "\n",
    "**Note** : 아래의 generate_sequence 함수는 palindrome을 입력받는다. palindrome이란 중앙을 기준으로 대칭인 수열을 나타내며, [1, 2, 3, 3, 2, 1]과 같은 수열이 palindrome의 예시라고 할 수 있다. palindrome=True라고 설정하게 되면, 본 신경망에서 다루는 분류 문제가 달라진다. 원래는 수열의 앞부분과 뒷부분이 일치하는지 따지는 문제였던 반면에, 수열이 palindrome인지 아닌지 따지는 문제로 바뀌게 된다."
   ]
  },
  {
   "cell_type": "code",
   "execution_count": 12,
   "id": "fd72ea3f",
   "metadata": {},
   "outputs": [],
   "source": [
    "def generate_sequence(pattern_length_min=1, pattern_length_max=10, palindrome = False):\n",
    "    \"\"\"\n",
    "    임의로 수열을 생성해보자. 앞부분과 뒷부분은 50%의 확률로 동일할 것이다.\n",
    "    매개변수(Parameters)\n",
    "    ----------\n",
    "    pattern_length_min : int, optional (default=1)\n",
    "    패턴의 최소 길이\n",
    "    pattern_length_max : int, optional (default=10)\n",
    "    패턴의 최대 길이\n",
    "    palindrome : bool, optional (default=False)\n",
    "    True일 경우, 앞부분과 뒷부분이 동일한 수열 대신 palindrome인 수열을 생성\n",
    "\n",
    "    반환 값(Returns)\n",
    "    -------\n",
    "    Tuple[numpy.ndarray, numpy.ndarray, numpy.ndarray]\n",
    "    1. (T, 10) 모양으로 수열이 one-hot encoding된 결과\n",
    "    2. 앞부분과 뒷부분이 동일한지 여부 : 동일하면 1, 아니면 0\n",
    "    3. (T, ) 모양의 실제 수열\n",
    "    \"\"\"\n",
    "\n",
    "    pattern_length = np.random.randint(pattern_length_min, pattern_length_max + 1)\n",
    "    pattern = np.random.randint(0, 10, pattern_length)\n",
    "    match = np.random.rand() >= 0.5\n",
    "    \n",
    "    sequence = np.zeros(2 * pattern_length, dtype = np.int64)\n",
    "    sequence[:pattern_length] = pattern\n",
    "    if match:\n",
    "        sequence[pattern_length:] = pattern[::-1] if palindrome else pattern\n",
    "    else:\n",
    "        # 전반부와 후반부가 일치하지 않을 경우\n",
    "        second_half = np.random.randint(0, 10, pattern_length)\n",
    "        while np.array_equal(second_half, pattern):\n",
    "            second_half = np.random.randint(0, 10, pattern_length)\n",
    "        sequence[pattern_length:] = second_half\n",
    "    \n",
    "    # 0에서 9까지의 숫자들로 one-hot 인코딩 수행\n",
    "    # x = np.zeros(pattern_length * 2, 10, dtype)\n",
    "    x = np.zeros((len(sequence), 10), dtype=np.float32) \n",
    "    y = np.array([1.0 if match else 0], dtype=np.int16)\n",
    "\n",
    "    for i, ch in enumerate(sequence):\n",
    "        x[i, ch] = 1\n",
    "    \n",
    "    return x, y, sequence\n"
   ]
  },
  {
   "cell_type": "markdown",
   "id": "ba5516f9",
   "metadata": {},
   "source": [
    "generate_sequence 함수를 의도한 대로 정확히 구현했는지 테스트해보자.\n",
    "\n",
    "* 입력해준 최소, 최대 범위 내에서 수열이 생성되는가?\n",
    "* x 값이 실제 수열에 잘 대응되는가? One-hot 인코딩된 결과를 올바르게 표현했는가?\n",
    "* 분류 문제에 따라 y 값이 적절히 출력되었는가?\n",
    "\n",
    "위 조건들 중 하나라도 위배할 시 실패했음을 알려주는 간단한 코드를 작성해보자."
   ]
  },
  {
   "cell_type": "code",
   "execution_count": 13,
   "id": "a1b703d5",
   "metadata": {},
   "outputs": [],
   "source": [
    "\n",
    "# 이것은 선택사항이다.\n",
    "\n",
    "for i in range(100):\n",
    "    x, y, seq = generate_sequence()\n",
    "    assert len(x) == len(seq)\n",
    "    assert np.all(seq[:len(seq)//2] == seq[-len(seq)//2:]).item() is bool(y.item())\n",
    "    assert np.all(x[:len(x)//2] == x[-len(x)//2:]).item() is bool(y.item())\n"
   ]
  },
  {
   "cell_type": "markdown",
   "id": "21964923",
   "metadata": {},
   "source": [
    "<h2>5. 신경망 학습시키기</h2>\n",
    "\n",
    "학습을 진행됨에 따라 바뀌는 loss와 정확도를 시각화해주는 noggin plot을 세팅해보자."
   ]
  },
  {
   "cell_type": "code",
   "execution_count": 14,
   "id": "d0057872",
   "metadata": {},
   "outputs": [
    {
     "data": {
      "application/javascript": "/* Put everything inside the global mpl namespace */\n/* global mpl */\nwindow.mpl = {};\n\nmpl.get_websocket_type = function () {\n    if (typeof WebSocket !== 'undefined') {\n        return WebSocket;\n    } else if (typeof MozWebSocket !== 'undefined') {\n        return MozWebSocket;\n    } else {\n        alert(\n            'Your browser does not have WebSocket support. ' +\n                'Please try Chrome, Safari or Firefox ≥ 6. ' +\n                'Firefox 4 and 5 are also supported but you ' +\n                'have to enable WebSockets in about:config.'\n        );\n    }\n};\n\nmpl.figure = function (figure_id, websocket, ondownload, parent_element) {\n    this.id = figure_id;\n\n    this.ws = websocket;\n\n    this.supports_binary = this.ws.binaryType !== undefined;\n\n    if (!this.supports_binary) {\n        var warnings = document.getElementById('mpl-warnings');\n        if (warnings) {\n            warnings.style.display = 'block';\n            warnings.textContent =\n                'This browser does not support binary websocket messages. ' +\n                'Performance may be slow.';\n        }\n    }\n\n    this.imageObj = new Image();\n\n    this.context = undefined;\n    this.message = undefined;\n    this.canvas = undefined;\n    this.rubberband_canvas = undefined;\n    this.rubberband_context = undefined;\n    this.format_dropdown = undefined;\n\n    this.image_mode = 'full';\n\n    this.root = document.createElement('div');\n    this.root.setAttribute('style', 'display: inline-block');\n    this._root_extra_style(this.root);\n\n    parent_element.appendChild(this.root);\n\n    this._init_header(this);\n    this._init_canvas(this);\n    this._init_toolbar(this);\n\n    var fig = this;\n\n    this.waiting = false;\n\n    this.ws.onopen = function () {\n        fig.send_message('supports_binary', { value: fig.supports_binary });\n        fig.send_message('send_image_mode', {});\n        if (fig.ratio !== 1) {\n            fig.send_message('set_device_pixel_ratio', {\n                device_pixel_ratio: fig.ratio,\n            });\n        }\n        fig.send_message('refresh', {});\n    };\n\n    this.imageObj.onload = function () {\n        if (fig.image_mode === 'full') {\n            // Full images could contain transparency (where diff images\n            // almost always do), so we need to clear the canvas so that\n            // there is no ghosting.\n            fig.context.clearRect(0, 0, fig.canvas.width, fig.canvas.height);\n        }\n        fig.context.drawImage(fig.imageObj, 0, 0);\n    };\n\n    this.imageObj.onunload = function () {\n        fig.ws.close();\n    };\n\n    this.ws.onmessage = this._make_on_message_function(this);\n\n    this.ondownload = ondownload;\n};\n\nmpl.figure.prototype._init_header = function () {\n    var titlebar = document.createElement('div');\n    titlebar.classList =\n        'ui-dialog-titlebar ui-widget-header ui-corner-all ui-helper-clearfix';\n    var titletext = document.createElement('div');\n    titletext.classList = 'ui-dialog-title';\n    titletext.setAttribute(\n        'style',\n        'width: 100%; text-align: center; padding: 3px;'\n    );\n    titlebar.appendChild(titletext);\n    this.root.appendChild(titlebar);\n    this.header = titletext;\n};\n\nmpl.figure.prototype._canvas_extra_style = function (_canvas_div) {};\n\nmpl.figure.prototype._root_extra_style = function (_canvas_div) {};\n\nmpl.figure.prototype._init_canvas = function () {\n    var fig = this;\n\n    var canvas_div = (this.canvas_div = document.createElement('div'));\n    canvas_div.setAttribute('tabindex', '0');\n    canvas_div.setAttribute(\n        'style',\n        'border: 1px solid #ddd;' +\n            'box-sizing: content-box;' +\n            'clear: both;' +\n            'min-height: 1px;' +\n            'min-width: 1px;' +\n            'outline: 0;' +\n            'overflow: hidden;' +\n            'position: relative;' +\n            'resize: both;' +\n            'z-index: 2;'\n    );\n\n    function on_keyboard_event_closure(name) {\n        return function (event) {\n            return fig.key_event(event, name);\n        };\n    }\n\n    canvas_div.addEventListener(\n        'keydown',\n        on_keyboard_event_closure('key_press')\n    );\n    canvas_div.addEventListener(\n        'keyup',\n        on_keyboard_event_closure('key_release')\n    );\n\n    this._canvas_extra_style(canvas_div);\n    this.root.appendChild(canvas_div);\n\n    var canvas = (this.canvas = document.createElement('canvas'));\n    canvas.classList.add('mpl-canvas');\n    canvas.setAttribute(\n        'style',\n        'box-sizing: content-box;' +\n            'pointer-events: none;' +\n            'position: relative;' +\n            'z-index: 0;'\n    );\n\n    this.context = canvas.getContext('2d');\n\n    var backingStore =\n        this.context.backingStorePixelRatio ||\n        this.context.webkitBackingStorePixelRatio ||\n        this.context.mozBackingStorePixelRatio ||\n        this.context.msBackingStorePixelRatio ||\n        this.context.oBackingStorePixelRatio ||\n        this.context.backingStorePixelRatio ||\n        1;\n\n    this.ratio = (window.devicePixelRatio || 1) / backingStore;\n\n    var rubberband_canvas = (this.rubberband_canvas = document.createElement(\n        'canvas'\n    ));\n    rubberband_canvas.setAttribute(\n        'style',\n        'box-sizing: content-box;' +\n            'left: 0;' +\n            'pointer-events: none;' +\n            'position: absolute;' +\n            'top: 0;' +\n            'z-index: 1;'\n    );\n\n    // Apply a ponyfill if ResizeObserver is not implemented by browser.\n    if (this.ResizeObserver === undefined) {\n        if (window.ResizeObserver !== undefined) {\n            this.ResizeObserver = window.ResizeObserver;\n        } else {\n            var obs = _JSXTOOLS_RESIZE_OBSERVER({});\n            this.ResizeObserver = obs.ResizeObserver;\n        }\n    }\n\n    this.resizeObserverInstance = new this.ResizeObserver(function (entries) {\n        var nentries = entries.length;\n        for (var i = 0; i < nentries; i++) {\n            var entry = entries[i];\n            var width, height;\n            if (entry.contentBoxSize) {\n                if (entry.contentBoxSize instanceof Array) {\n                    // Chrome 84 implements new version of spec.\n                    width = entry.contentBoxSize[0].inlineSize;\n                    height = entry.contentBoxSize[0].blockSize;\n                } else {\n                    // Firefox implements old version of spec.\n                    width = entry.contentBoxSize.inlineSize;\n                    height = entry.contentBoxSize.blockSize;\n                }\n            } else {\n                // Chrome <84 implements even older version of spec.\n                width = entry.contentRect.width;\n                height = entry.contentRect.height;\n            }\n\n            // Keep the size of the canvas and rubber band canvas in sync with\n            // the canvas container.\n            if (entry.devicePixelContentBoxSize) {\n                // Chrome 84 implements new version of spec.\n                canvas.setAttribute(\n                    'width',\n                    entry.devicePixelContentBoxSize[0].inlineSize\n                );\n                canvas.setAttribute(\n                    'height',\n                    entry.devicePixelContentBoxSize[0].blockSize\n                );\n            } else {\n                canvas.setAttribute('width', width * fig.ratio);\n                canvas.setAttribute('height', height * fig.ratio);\n            }\n            /* This rescales the canvas back to display pixels, so that it\n             * appears correct on HiDPI screens. */\n            canvas.style.width = width + 'px';\n            canvas.style.height = height + 'px';\n\n            rubberband_canvas.setAttribute('width', width);\n            rubberband_canvas.setAttribute('height', height);\n\n            // And update the size in Python. We ignore the initial 0/0 size\n            // that occurs as the element is placed into the DOM, which should\n            // otherwise not happen due to the minimum size styling.\n            if (fig.ws.readyState == 1 && width != 0 && height != 0) {\n                fig.request_resize(width, height);\n            }\n        }\n    });\n    this.resizeObserverInstance.observe(canvas_div);\n\n    function on_mouse_event_closure(name) {\n        /* User Agent sniffing is bad, but WebKit is busted:\n         * https://bugs.webkit.org/show_bug.cgi?id=144526\n         * https://bugs.webkit.org/show_bug.cgi?id=181818\n         * The worst that happens here is that they get an extra browser\n         * selection when dragging, if this check fails to catch them.\n         */\n        var UA = navigator.userAgent;\n        var isWebKit = /AppleWebKit/.test(UA) && !/Chrome/.test(UA);\n        if(isWebKit) {\n            return function (event) {\n                /* This prevents the web browser from automatically changing to\n                 * the text insertion cursor when the button is pressed. We\n                 * want to control all of the cursor setting manually through\n                 * the 'cursor' event from matplotlib */\n                event.preventDefault()\n                return fig.mouse_event(event, name);\n            };\n        } else {\n            return function (event) {\n                return fig.mouse_event(event, name);\n            };\n        }\n    }\n\n    canvas_div.addEventListener(\n        'mousedown',\n        on_mouse_event_closure('button_press')\n    );\n    canvas_div.addEventListener(\n        'mouseup',\n        on_mouse_event_closure('button_release')\n    );\n    canvas_div.addEventListener(\n        'dblclick',\n        on_mouse_event_closure('dblclick')\n    );\n    // Throttle sequential mouse events to 1 every 20ms.\n    canvas_div.addEventListener(\n        'mousemove',\n        on_mouse_event_closure('motion_notify')\n    );\n\n    canvas_div.addEventListener(\n        'mouseenter',\n        on_mouse_event_closure('figure_enter')\n    );\n    canvas_div.addEventListener(\n        'mouseleave',\n        on_mouse_event_closure('figure_leave')\n    );\n\n    canvas_div.addEventListener('wheel', function (event) {\n        if (event.deltaY < 0) {\n            event.step = 1;\n        } else {\n            event.step = -1;\n        }\n        on_mouse_event_closure('scroll')(event);\n    });\n\n    canvas_div.appendChild(canvas);\n    canvas_div.appendChild(rubberband_canvas);\n\n    this.rubberband_context = rubberband_canvas.getContext('2d');\n    this.rubberband_context.strokeStyle = '#000000';\n\n    this._resize_canvas = function (width, height, forward) {\n        if (forward) {\n            canvas_div.style.width = width + 'px';\n            canvas_div.style.height = height + 'px';\n        }\n    };\n\n    // Disable right mouse context menu.\n    canvas_div.addEventListener('contextmenu', function (_e) {\n        event.preventDefault();\n        return false;\n    });\n\n    function set_focus() {\n        canvas.focus();\n        canvas_div.focus();\n    }\n\n    window.setTimeout(set_focus, 100);\n};\n\nmpl.figure.prototype._init_toolbar = function () {\n    var fig = this;\n\n    var toolbar = document.createElement('div');\n    toolbar.classList = 'mpl-toolbar';\n    this.root.appendChild(toolbar);\n\n    function on_click_closure(name) {\n        return function (_event) {\n            return fig.toolbar_button_onclick(name);\n        };\n    }\n\n    function on_mouseover_closure(tooltip) {\n        return function (event) {\n            if (!event.currentTarget.disabled) {\n                return fig.toolbar_button_onmouseover(tooltip);\n            }\n        };\n    }\n\n    fig.buttons = {};\n    var buttonGroup = document.createElement('div');\n    buttonGroup.classList = 'mpl-button-group';\n    for (var toolbar_ind in mpl.toolbar_items) {\n        var name = mpl.toolbar_items[toolbar_ind][0];\n        var tooltip = mpl.toolbar_items[toolbar_ind][1];\n        var image = mpl.toolbar_items[toolbar_ind][2];\n        var method_name = mpl.toolbar_items[toolbar_ind][3];\n\n        if (!name) {\n            /* Instead of a spacer, we start a new button group. */\n            if (buttonGroup.hasChildNodes()) {\n                toolbar.appendChild(buttonGroup);\n            }\n            buttonGroup = document.createElement('div');\n            buttonGroup.classList = 'mpl-button-group';\n            continue;\n        }\n\n        var button = (fig.buttons[name] = document.createElement('button'));\n        button.classList = 'mpl-widget';\n        button.setAttribute('role', 'button');\n        button.setAttribute('aria-disabled', 'false');\n        button.addEventListener('click', on_click_closure(method_name));\n        button.addEventListener('mouseover', on_mouseover_closure(tooltip));\n\n        var icon_img = document.createElement('img');\n        icon_img.src = '_images/' + image + '.png';\n        icon_img.srcset = '_images/' + image + '_large.png 2x';\n        icon_img.alt = tooltip;\n        button.appendChild(icon_img);\n\n        buttonGroup.appendChild(button);\n    }\n\n    if (buttonGroup.hasChildNodes()) {\n        toolbar.appendChild(buttonGroup);\n    }\n\n    var fmt_picker = document.createElement('select');\n    fmt_picker.classList = 'mpl-widget';\n    toolbar.appendChild(fmt_picker);\n    this.format_dropdown = fmt_picker;\n\n    for (var ind in mpl.extensions) {\n        var fmt = mpl.extensions[ind];\n        var option = document.createElement('option');\n        option.selected = fmt === mpl.default_extension;\n        option.innerHTML = fmt;\n        fmt_picker.appendChild(option);\n    }\n\n    var status_bar = document.createElement('span');\n    status_bar.classList = 'mpl-message';\n    toolbar.appendChild(status_bar);\n    this.message = status_bar;\n};\n\nmpl.figure.prototype.request_resize = function (x_pixels, y_pixels) {\n    // Request matplotlib to resize the figure. Matplotlib will then trigger a resize in the client,\n    // which will in turn request a refresh of the image.\n    this.send_message('resize', { width: x_pixels, height: y_pixels });\n};\n\nmpl.figure.prototype.send_message = function (type, properties) {\n    properties['type'] = type;\n    properties['figure_id'] = this.id;\n    this.ws.send(JSON.stringify(properties));\n};\n\nmpl.figure.prototype.send_draw_message = function () {\n    if (!this.waiting) {\n        this.waiting = true;\n        this.ws.send(JSON.stringify({ type: 'draw', figure_id: this.id }));\n    }\n};\n\nmpl.figure.prototype.handle_save = function (fig, _msg) {\n    var format_dropdown = fig.format_dropdown;\n    var format = format_dropdown.options[format_dropdown.selectedIndex].value;\n    fig.ondownload(fig, format);\n};\n\nmpl.figure.prototype.handle_resize = function (fig, msg) {\n    var size = msg['size'];\n    if (size[0] !== fig.canvas.width || size[1] !== fig.canvas.height) {\n        fig._resize_canvas(size[0], size[1], msg['forward']);\n        fig.send_message('refresh', {});\n    }\n};\n\nmpl.figure.prototype.handle_rubberband = function (fig, msg) {\n    var x0 = msg['x0'] / fig.ratio;\n    var y0 = (fig.canvas.height - msg['y0']) / fig.ratio;\n    var x1 = msg['x1'] / fig.ratio;\n    var y1 = (fig.canvas.height - msg['y1']) / fig.ratio;\n    x0 = Math.floor(x0) + 0.5;\n    y0 = Math.floor(y0) + 0.5;\n    x1 = Math.floor(x1) + 0.5;\n    y1 = Math.floor(y1) + 0.5;\n    var min_x = Math.min(x0, x1);\n    var min_y = Math.min(y0, y1);\n    var width = Math.abs(x1 - x0);\n    var height = Math.abs(y1 - y0);\n\n    fig.rubberband_context.clearRect(\n        0,\n        0,\n        fig.canvas.width / fig.ratio,\n        fig.canvas.height / fig.ratio\n    );\n\n    fig.rubberband_context.strokeRect(min_x, min_y, width, height);\n};\n\nmpl.figure.prototype.handle_figure_label = function (fig, msg) {\n    // Updates the figure title.\n    fig.header.textContent = msg['label'];\n};\n\nmpl.figure.prototype.handle_cursor = function (fig, msg) {\n    fig.canvas_div.style.cursor = msg['cursor'];\n};\n\nmpl.figure.prototype.handle_message = function (fig, msg) {\n    fig.message.textContent = msg['message'];\n};\n\nmpl.figure.prototype.handle_draw = function (fig, _msg) {\n    // Request the server to send over a new figure.\n    fig.send_draw_message();\n};\n\nmpl.figure.prototype.handle_image_mode = function (fig, msg) {\n    fig.image_mode = msg['mode'];\n};\n\nmpl.figure.prototype.handle_history_buttons = function (fig, msg) {\n    for (var key in msg) {\n        if (!(key in fig.buttons)) {\n            continue;\n        }\n        fig.buttons[key].disabled = !msg[key];\n        fig.buttons[key].setAttribute('aria-disabled', !msg[key]);\n    }\n};\n\nmpl.figure.prototype.handle_navigate_mode = function (fig, msg) {\n    if (msg['mode'] === 'PAN') {\n        fig.buttons['Pan'].classList.add('active');\n        fig.buttons['Zoom'].classList.remove('active');\n    } else if (msg['mode'] === 'ZOOM') {\n        fig.buttons['Pan'].classList.remove('active');\n        fig.buttons['Zoom'].classList.add('active');\n    } else {\n        fig.buttons['Pan'].classList.remove('active');\n        fig.buttons['Zoom'].classList.remove('active');\n    }\n};\n\nmpl.figure.prototype.updated_canvas_event = function () {\n    // Called whenever the canvas gets updated.\n    this.send_message('ack', {});\n};\n\n// A function to construct a web socket function for onmessage handling.\n// Called in the figure constructor.\nmpl.figure.prototype._make_on_message_function = function (fig) {\n    return function socket_on_message(evt) {\n        if (evt.data instanceof Blob) {\n            var img = evt.data;\n            if (img.type !== 'image/png') {\n                /* FIXME: We get \"Resource interpreted as Image but\n                 * transferred with MIME type text/plain:\" errors on\n                 * Chrome.  But how to set the MIME type?  It doesn't seem\n                 * to be part of the websocket stream */\n                img.type = 'image/png';\n            }\n\n            /* Free the memory for the previous frames */\n            if (fig.imageObj.src) {\n                (window.URL || window.webkitURL).revokeObjectURL(\n                    fig.imageObj.src\n                );\n            }\n\n            fig.imageObj.src = (window.URL || window.webkitURL).createObjectURL(\n                img\n            );\n            fig.updated_canvas_event();\n            fig.waiting = false;\n            return;\n        } else if (\n            typeof evt.data === 'string' &&\n            evt.data.slice(0, 21) === 'data:image/png;base64'\n        ) {\n            fig.imageObj.src = evt.data;\n            fig.updated_canvas_event();\n            fig.waiting = false;\n            return;\n        }\n\n        var msg = JSON.parse(evt.data);\n        var msg_type = msg['type'];\n\n        // Call the  \"handle_{type}\" callback, which takes\n        // the figure and JSON message as its only arguments.\n        try {\n            var callback = fig['handle_' + msg_type];\n        } catch (e) {\n            console.log(\n                \"No handler for the '\" + msg_type + \"' message type: \",\n                msg\n            );\n            return;\n        }\n\n        if (callback) {\n            try {\n                // console.log(\"Handling '\" + msg_type + \"' message: \", msg);\n                callback(fig, msg);\n            } catch (e) {\n                console.log(\n                    \"Exception inside the 'handler_\" + msg_type + \"' callback:\",\n                    e,\n                    e.stack,\n                    msg\n                );\n            }\n        }\n    };\n};\n\nfunction getModifiers(event) {\n    var mods = [];\n    if (event.ctrlKey) {\n        mods.push('ctrl');\n    }\n    if (event.altKey) {\n        mods.push('alt');\n    }\n    if (event.shiftKey) {\n        mods.push('shift');\n    }\n    if (event.metaKey) {\n        mods.push('meta');\n    }\n    return mods;\n}\n\n/*\n * return a copy of an object with only non-object keys\n * we need this to avoid circular references\n * https://stackoverflow.com/a/24161582/3208463\n */\nfunction simpleKeys(original) {\n    return Object.keys(original).reduce(function (obj, key) {\n        if (typeof original[key] !== 'object') {\n            obj[key] = original[key];\n        }\n        return obj;\n    }, {});\n}\n\nmpl.figure.prototype.mouse_event = function (event, name) {\n    if (name === 'button_press') {\n        this.canvas.focus();\n        this.canvas_div.focus();\n    }\n\n    // from https://stackoverflow.com/q/1114465\n    var boundingRect = this.canvas.getBoundingClientRect();\n    var x = (event.clientX - boundingRect.left) * this.ratio;\n    var y = (event.clientY - boundingRect.top) * this.ratio;\n\n    this.send_message(name, {\n        x: x,\n        y: y,\n        button: event.button,\n        step: event.step,\n        modifiers: getModifiers(event),\n        guiEvent: simpleKeys(event),\n    });\n\n    return false;\n};\n\nmpl.figure.prototype._key_event_extra = function (_event, _name) {\n    // Handle any extra behaviour associated with a key event\n};\n\nmpl.figure.prototype.key_event = function (event, name) {\n    // Prevent repeat events\n    if (name === 'key_press') {\n        if (event.key === this._key) {\n            return;\n        } else {\n            this._key = event.key;\n        }\n    }\n    if (name === 'key_release') {\n        this._key = null;\n    }\n\n    var value = '';\n    if (event.ctrlKey && event.key !== 'Control') {\n        value += 'ctrl+';\n    }\n    else if (event.altKey && event.key !== 'Alt') {\n        value += 'alt+';\n    }\n    else if (event.shiftKey && event.key !== 'Shift') {\n        value += 'shift+';\n    }\n\n    value += 'k' + event.key;\n\n    this._key_event_extra(event, name);\n\n    this.send_message(name, { key: value, guiEvent: simpleKeys(event) });\n    return false;\n};\n\nmpl.figure.prototype.toolbar_button_onclick = function (name) {\n    if (name === 'download') {\n        this.handle_save(this, null);\n    } else {\n        this.send_message('toolbar_button', { name: name });\n    }\n};\n\nmpl.figure.prototype.toolbar_button_onmouseover = function (tooltip) {\n    this.message.textContent = tooltip;\n};\n\n///////////////// REMAINING CONTENT GENERATED BY embed_js.py /////////////////\n// prettier-ignore\nvar _JSXTOOLS_RESIZE_OBSERVER=function(A){var t,i=new WeakMap,n=new WeakMap,a=new WeakMap,r=new WeakMap,o=new Set;function s(e){if(!(this instanceof s))throw new TypeError(\"Constructor requires 'new' operator\");i.set(this,e)}function h(){throw new TypeError(\"Function is not a constructor\")}function c(e,t,i,n){e=0 in arguments?Number(arguments[0]):0,t=1 in arguments?Number(arguments[1]):0,i=2 in arguments?Number(arguments[2]):0,n=3 in arguments?Number(arguments[3]):0,this.right=(this.x=this.left=e)+(this.width=i),this.bottom=(this.y=this.top=t)+(this.height=n),Object.freeze(this)}function d(){t=requestAnimationFrame(d);var s=new WeakMap,p=new Set;o.forEach((function(t){r.get(t).forEach((function(i){var r=t instanceof window.SVGElement,o=a.get(t),d=r?0:parseFloat(o.paddingTop),f=r?0:parseFloat(o.paddingRight),l=r?0:parseFloat(o.paddingBottom),u=r?0:parseFloat(o.paddingLeft),g=r?0:parseFloat(o.borderTopWidth),m=r?0:parseFloat(o.borderRightWidth),w=r?0:parseFloat(o.borderBottomWidth),b=u+f,F=d+l,v=(r?0:parseFloat(o.borderLeftWidth))+m,W=g+w,y=r?0:t.offsetHeight-W-t.clientHeight,E=r?0:t.offsetWidth-v-t.clientWidth,R=b+v,z=F+W,M=r?t.width:parseFloat(o.width)-R-E,O=r?t.height:parseFloat(o.height)-z-y;if(n.has(t)){var k=n.get(t);if(k[0]===M&&k[1]===O)return}n.set(t,[M,O]);var S=Object.create(h.prototype);S.target=t,S.contentRect=new c(u,d,M,O),s.has(i)||(s.set(i,[]),p.add(i)),s.get(i).push(S)}))})),p.forEach((function(e){i.get(e).call(e,s.get(e),e)}))}return s.prototype.observe=function(i){if(i instanceof window.Element){r.has(i)||(r.set(i,new Set),o.add(i),a.set(i,window.getComputedStyle(i)));var n=r.get(i);n.has(this)||n.add(this),cancelAnimationFrame(t),t=requestAnimationFrame(d)}},s.prototype.unobserve=function(i){if(i instanceof window.Element&&r.has(i)){var n=r.get(i);n.has(this)&&(n.delete(this),n.size||(r.delete(i),o.delete(i))),n.size||r.delete(i),o.size||cancelAnimationFrame(t)}},A.DOMRectReadOnly=c,A.ResizeObserver=s,A.ResizeObserverEntry=h,A}; // eslint-disable-line\nmpl.toolbar_items = [[\"Home\", \"Reset original view\", \"fa fa-home\", \"home\"], [\"Back\", \"Back to previous view\", \"fa fa-arrow-left\", \"back\"], [\"Forward\", \"Forward to next view\", \"fa fa-arrow-right\", \"forward\"], [\"\", \"\", \"\", \"\"], [\"Pan\", \"Left button pans, Right button zooms\\nx/y fixes axis, CTRL fixes aspect\", \"fa fa-arrows\", \"pan\"], [\"Zoom\", \"Zoom to rectangle\\nx/y fixes axis\", \"fa fa-square-o\", \"zoom\"], [\"\", \"\", \"\", \"\"], [\"Download\", \"Download plot\", \"fa fa-floppy-o\", \"download\"]];\n\nmpl.extensions = [\"eps\", \"jpeg\", \"pgf\", \"pdf\", \"png\", \"ps\", \"raw\", \"svg\", \"tif\", \"webp\"];\n\nmpl.default_extension = \"png\";/* global mpl */\n\nvar comm_websocket_adapter = function (comm) {\n    // Create a \"websocket\"-like object which calls the given IPython comm\n    // object with the appropriate methods. Currently this is a non binary\n    // socket, so there is still some room for performance tuning.\n    var ws = {};\n\n    ws.binaryType = comm.kernel.ws.binaryType;\n    ws.readyState = comm.kernel.ws.readyState;\n    function updateReadyState(_event) {\n        if (comm.kernel.ws) {\n            ws.readyState = comm.kernel.ws.readyState;\n        } else {\n            ws.readyState = 3; // Closed state.\n        }\n    }\n    comm.kernel.ws.addEventListener('open', updateReadyState);\n    comm.kernel.ws.addEventListener('close', updateReadyState);\n    comm.kernel.ws.addEventListener('error', updateReadyState);\n\n    ws.close = function () {\n        comm.close();\n    };\n    ws.send = function (m) {\n        //console.log('sending', m);\n        comm.send(m);\n    };\n    // Register the callback with on_msg.\n    comm.on_msg(function (msg) {\n        //console.log('receiving', msg['content']['data'], msg);\n        var data = msg['content']['data'];\n        if (data['blob'] !== undefined) {\n            data = {\n                data: new Blob(msg['buffers'], { type: data['blob'] }),\n            };\n        }\n        // Pass the mpl event to the overridden (by mpl) onmessage function.\n        ws.onmessage(data);\n    });\n    return ws;\n};\n\nmpl.mpl_figure_comm = function (comm, msg) {\n    // This is the function which gets called when the mpl process\n    // starts-up an IPython Comm through the \"matplotlib\" channel.\n\n    var id = msg.content.data.id;\n    // Get hold of the div created by the display call when the Comm\n    // socket was opened in Python.\n    var element = document.getElementById(id);\n    var ws_proxy = comm_websocket_adapter(comm);\n\n    function ondownload(figure, _format) {\n        window.open(figure.canvas.toDataURL());\n    }\n\n    var fig = new mpl.figure(id, ws_proxy, ondownload, element);\n\n    // Call onopen now - mpl needs it, as it is assuming we've passed it a real\n    // web socket which is closed, not our websocket->open comm proxy.\n    ws_proxy.onopen();\n\n    fig.parent_element = element;\n    fig.cell_info = mpl.find_output_cell(\"<div id='\" + id + \"'></div>\");\n    if (!fig.cell_info) {\n        console.error('Failed to find cell for figure', id, fig);\n        return;\n    }\n    fig.cell_info[0].output_area.element.on(\n        'cleared',\n        { fig: fig },\n        fig._remove_fig_handler\n    );\n};\n\nmpl.figure.prototype.handle_close = function (fig, msg) {\n    var width = fig.canvas.width / fig.ratio;\n    fig.cell_info[0].output_area.element.off(\n        'cleared',\n        fig._remove_fig_handler\n    );\n    fig.resizeObserverInstance.unobserve(fig.canvas_div);\n\n    // Update the output cell to use the data from the current canvas.\n    fig.push_to_output();\n    var dataURL = fig.canvas.toDataURL();\n    // Re-enable the keyboard manager in IPython - without this line, in FF,\n    // the notebook keyboard shortcuts fail.\n    IPython.keyboard_manager.enable();\n    fig.parent_element.innerHTML =\n        '<img src=\"' + dataURL + '\" width=\"' + width + '\">';\n    fig.close_ws(fig, msg);\n};\n\nmpl.figure.prototype.close_ws = function (fig, msg) {\n    fig.send_message('closing', msg);\n    // fig.ws.close()\n};\n\nmpl.figure.prototype.push_to_output = function (_remove_interactive) {\n    // Turn the data on the canvas into data in the output cell.\n    var width = this.canvas.width / this.ratio;\n    var dataURL = this.canvas.toDataURL();\n    this.cell_info[1]['text/html'] =\n        '<img src=\"' + dataURL + '\" width=\"' + width + '\">';\n};\n\nmpl.figure.prototype.updated_canvas_event = function () {\n    // Tell IPython that the notebook contents must change.\n    IPython.notebook.set_dirty(true);\n    this.send_message('ack', {});\n    var fig = this;\n    // Wait a second, then push the new image to the DOM so\n    // that it is saved nicely (might be nice to debounce this).\n    setTimeout(function () {\n        fig.push_to_output();\n    }, 1000);\n};\n\nmpl.figure.prototype._init_toolbar = function () {\n    var fig = this;\n\n    var toolbar = document.createElement('div');\n    toolbar.classList = 'btn-toolbar';\n    this.root.appendChild(toolbar);\n\n    function on_click_closure(name) {\n        return function (_event) {\n            return fig.toolbar_button_onclick(name);\n        };\n    }\n\n    function on_mouseover_closure(tooltip) {\n        return function (event) {\n            if (!event.currentTarget.disabled) {\n                return fig.toolbar_button_onmouseover(tooltip);\n            }\n        };\n    }\n\n    fig.buttons = {};\n    var buttonGroup = document.createElement('div');\n    buttonGroup.classList = 'btn-group';\n    var button;\n    for (var toolbar_ind in mpl.toolbar_items) {\n        var name = mpl.toolbar_items[toolbar_ind][0];\n        var tooltip = mpl.toolbar_items[toolbar_ind][1];\n        var image = mpl.toolbar_items[toolbar_ind][2];\n        var method_name = mpl.toolbar_items[toolbar_ind][3];\n\n        if (!name) {\n            /* Instead of a spacer, we start a new button group. */\n            if (buttonGroup.hasChildNodes()) {\n                toolbar.appendChild(buttonGroup);\n            }\n            buttonGroup = document.createElement('div');\n            buttonGroup.classList = 'btn-group';\n            continue;\n        }\n\n        button = fig.buttons[name] = document.createElement('button');\n        button.classList = 'btn btn-default';\n        button.href = '#';\n        button.title = name;\n        button.innerHTML = '<i class=\"fa ' + image + ' fa-lg\"></i>';\n        button.addEventListener('click', on_click_closure(method_name));\n        button.addEventListener('mouseover', on_mouseover_closure(tooltip));\n        buttonGroup.appendChild(button);\n    }\n\n    if (buttonGroup.hasChildNodes()) {\n        toolbar.appendChild(buttonGroup);\n    }\n\n    // Add the status bar.\n    var status_bar = document.createElement('span');\n    status_bar.classList = 'mpl-message pull-right';\n    toolbar.appendChild(status_bar);\n    this.message = status_bar;\n\n    // Add the close button to the window.\n    var buttongrp = document.createElement('div');\n    buttongrp.classList = 'btn-group inline pull-right';\n    button = document.createElement('button');\n    button.classList = 'btn btn-mini btn-primary';\n    button.href = '#';\n    button.title = 'Stop Interaction';\n    button.innerHTML = '<i class=\"fa fa-power-off icon-remove icon-large\"></i>';\n    button.addEventListener('click', function (_evt) {\n        fig.handle_close(fig, {});\n    });\n    button.addEventListener(\n        'mouseover',\n        on_mouseover_closure('Stop Interaction')\n    );\n    buttongrp.appendChild(button);\n    var titlebar = this.root.querySelector('.ui-dialog-titlebar');\n    titlebar.insertBefore(buttongrp, titlebar.firstChild);\n};\n\nmpl.figure.prototype._remove_fig_handler = function (event) {\n    var fig = event.data.fig;\n    if (event.target !== this) {\n        // Ignore bubbled events from children.\n        return;\n    }\n    fig.close_ws(fig, {});\n};\n\nmpl.figure.prototype._root_extra_style = function (el) {\n    el.style.boxSizing = 'content-box'; // override notebook setting of border-box.\n};\n\nmpl.figure.prototype._canvas_extra_style = function (el) {\n    // this is important to make the div 'focusable\n    el.setAttribute('tabindex', 0);\n    // reach out to IPython and tell the keyboard manager to turn it's self\n    // off when our div gets focus\n\n    // location in version 3\n    if (IPython.notebook.keyboard_manager) {\n        IPython.notebook.keyboard_manager.register_events(el);\n    } else {\n        // location in version 2\n        IPython.keyboard_manager.register_events(el);\n    }\n};\n\nmpl.figure.prototype._key_event_extra = function (event, _name) {\n    // Check for shift+enter\n    if (event.shiftKey && event.which === 13) {\n        this.canvas_div.blur();\n        // select the cell after this one\n        var index = IPython.notebook.find_cell_index(this.cell_info[0]);\n        IPython.notebook.select(index + 1);\n    }\n};\n\nmpl.figure.prototype.handle_save = function (fig, _msg) {\n    fig.ondownload(fig, null);\n};\n\nmpl.find_output_cell = function (html_output) {\n    // Return the cell and output element which can be found *uniquely* in the notebook.\n    // Note - this is a bit hacky, but it is done because the \"notebook_saving.Notebook\"\n    // IPython event is triggered only after the cells have been serialised, which for\n    // our purposes (turning an active figure into a static one), is too late.\n    var cells = IPython.notebook.get_cells();\n    var ncells = cells.length;\n    for (var i = 0; i < ncells; i++) {\n        var cell = cells[i];\n        if (cell.cell_type === 'code') {\n            for (var j = 0; j < cell.output_area.outputs.length; j++) {\n                var data = cell.output_area.outputs[j];\n                if (data.data) {\n                    // IPython >= 3 moved mimebundle to data attribute of output\n                    data = data.data;\n                }\n                if (data['text/html'] === html_output) {\n                    return [cell, data, j];\n                }\n            }\n        }\n    }\n};\n\n// Register the function which deals with the matplotlib target/channel.\n// The kernel may be null if the page has been refreshed.\nif (IPython.notebook.kernel !== null) {\n    IPython.notebook.kernel.comm_manager.register_target(\n        'matplotlib',\n        mpl.mpl_figure_comm\n    );\n}\n",
      "text/plain": [
       "<IPython.core.display.Javascript object>"
      ]
     },
     "metadata": {},
     "output_type": "display_data"
    },
    {
     "data": {
      "text/html": [
       "<div id='822dcccb-4fcf-44be-bcd9-3d91c969a19b'></div>"
      ],
      "text/plain": [
       "<IPython.core.display.HTML object>"
      ]
     },
     "metadata": {},
     "output_type": "display_data"
    }
   ],
   "source": [
    "from noggin import create_plot\n",
    "plotter, fig, ax = create_plot([\"loss\", \"accuracy\"]) # <COGLINE>"
   ]
  },
  {
   "cell_type": "markdown",
   "id": "cf9076e4",
   "metadata": {},
   "source": [
    "이제 정의한 모델에 적절한 값을 넣어서 RNN을 구축해보자. 우선. 수열의 각 원소는 One-hot 인코딩되어 있기에 C = 10(input_dim)이다. 그리고 hidden-descriptor의 차원은 D = 50(dim_recurrent)으로 설정하겠다. 마지막으로 우리는 수열의 앞부분과 뒷부분의 일치 여부를 판정하는, 두 가지 중 하나로 분류하는 문제를 다루고 있기 때문에, K = 2(dim_output)으로 설정해준다.\n",
    "\n",
    "역전파에 사용할 Adam optimizer를 세팅해보자. Adam optimizer에 RNN의 매개변수들을 입력하자."
   ]
  },
  {
   "cell_type": "code",
   "execution_count": 15,
   "id": "baeabc4b",
   "metadata": {},
   "outputs": [],
   "source": [
    "\n",
    "model = RNN(dim_input=10, dim_recurrent=50, dim_output=2)\n",
    "optimizer = Adam(model.parameters)\n"
   ]
  },
  {
   "cell_type": "markdown",
   "id": "bee787df",
   "metadata": {},
   "source": [
    "10만 번의 iteration을 통해 학습시켜보자. 사전에 생성된 데이터셋을 가지고 학습하는 방식이 아니라, 모든 iteration마다 generate_sequence를 통해 새로운 데이터를 만들어 입력하는 방식을 취할 것이다. 패턴의 최소 길이는 1, 최대 길이는 10으로 설정해놓도록 하자.\n",
    "\n",
    "plot의 경우, 모든 batch에 대해 plot을 해주는 방식은 지양하도록 하자. 정말 많은 수열들이 입력되고 처리되기 때문에 모든 손실과 정확도를 plot하는 것은 성능을 대단히 떨어뜨릴 것이다. 아래와 같은 방식을 통해 각 batch마다 손실과 정확도를 세팅해줄 수 있다."
   ]
  },
  {
   "cell_type": "markdown",
   "id": "728a01df",
   "metadata": {},
   "source": [
    "\n",
    "#### plotter.set_train_batch({\"loss\":loss.item(), \"accuracy\":acc}, batch_size=1, plot=False)\n"
   ]
  },
  {
   "cell_type": "markdown",
   "id": "b667b6ee",
   "metadata": {},
   "source": [
    "그리고 500번째 batch마다 아래의 코드를 실행해준다."
   ]
  },
  {
   "cell_type": "markdown",
   "id": "75c1f611",
   "metadata": {},
   "source": [
    "\n",
    "#### plotter.set_train_epoch()\n"
   ]
  },
  {
   "cell_type": "markdown",
   "id": "328363f6",
   "metadata": {},
   "source": [
    "이로써 모든 수열에 대한 손실과 정확도를 출력해주는 것이 아니라, 일종의 평균치만 출력해주게 된다.\n",
    "\n",
    "한 번의 iteration이 성공적으로 진행되었다면, mg.turn_memory_guarding_off()를 실행해보자. 이를 통해 나머지 iteration들을 빠르게 진행할 수 있을 것이다. 이에 대해 좀 더 자세히 알고 싶다면, 구글링을 통해 찾아보도록 하자.\n",
    "\n",
    "**Note** : 손실을 계산하기 위해 우리는 오직 최종 분류 점수, (1, K) 모양의 만을 넘겨줄 것이다."
   ]
  },
  {
   "cell_type": "code",
   "execution_count": 16,
   "id": "51bfb503",
   "metadata": {},
   "outputs": [
    {
     "ename": "ValueError",
     "evalue": "matmul: Input operand 1 has a mismatch in its core dimension 0, with gufunc signature (n?,k),(k,m?)->(n?,m?) (size 50 is different from 10)",
     "output_type": "error",
     "traceback": [
      "\u001b[1;31m---------------------------------------------------------------------------\u001b[0m",
      "\u001b[1;31mValueError\u001b[0m                                Traceback (most recent call last)",
      "Cell \u001b[1;32mIn[16], line 7\u001b[0m\n\u001b[0;32m      4\u001b[0m \u001b[39mfor\u001b[39;00m k \u001b[39min\u001b[39;00m \u001b[39mrange\u001b[39m(\u001b[39m100000\u001b[39m):\n\u001b[0;32m      5\u001b[0m     x, target, sequence \u001b[39m=\u001b[39m generate_sequence(palindrome\u001b[39m=\u001b[39m\u001b[39mFalse\u001b[39;00m)\n\u001b[1;32m----> 7\u001b[0m     output, _ \u001b[39m=\u001b[39m model(x)\n\u001b[0;32m      9\u001b[0m     \u001b[39m# 우리는 오로지 마지막 예측 점수만을 활용하고자 한다.\u001b[39;00m\n\u001b[0;32m     10\u001b[0m     \u001b[39m# output[-1:]는 (1, D) 모양의 y_T 벡터를 리턴한다.\u001b[39;00m\n\u001b[0;32m     11\u001b[0m     \u001b[39m#\u001b[39;00m\n\u001b[0;32m     12\u001b[0m     \u001b[39m# output[-1]는 (D,) 모양의 벡터를 리턴해야만 하는데, 이럴 경우 모양으로 인한 문제가 발생할 수 있다.\u001b[39;00m\n\u001b[0;32m     13\u001b[0m     output \u001b[39m=\u001b[39m output[\u001b[39m-\u001b[39m\u001b[39m1\u001b[39m:]\n",
      "Cell \u001b[1;32mIn[10], line 60\u001b[0m, in \u001b[0;36mRNN.__call__\u001b[1;34m(self, x, h)\u001b[0m\n\u001b[0;32m     54\u001b[0m h \u001b[39m=\u001b[39m [] \u001b[39m# 최초 hidden state 값은 저장하지 않을 것이다.\u001b[39;00m\n\u001b[0;32m     56\u001b[0m \u001b[39mfor\u001b[39;00m x_t \u001b[39min\u001b[39;00m x:\n\u001b[0;32m     57\u001b[0m     \u001b[39m# x_t[np.newaxis]는 (C,) 모양의 x_t를 (1, C) 모양으로 바꾸어준다.\u001b[39;00m\n\u001b[0;32m     58\u001b[0m     \u001b[39m#\u001b[39;00m\n\u001b[0;32m     59\u001b[0m     \u001b[39m# h_t는 (1, D) 모양의 hidden descriptor이다.\u001b[39;00m\n\u001b[1;32m---> 60\u001b[0m     h_t \u001b[39m=\u001b[39m relu(\u001b[39mself\u001b[39m\u001b[39m.\u001b[39mfc_x2h(x_t[np\u001b[39m.\u001b[39mnewaxis]) \u001b[39m+\u001b[39m \u001b[39mself\u001b[39;49m\u001b[39m.\u001b[39;49mfc_h2h(h_t))\n\u001b[0;32m     61\u001b[0m     h\u001b[39m.\u001b[39mappend(h_t)\n\u001b[0;32m     63\u001b[0m \u001b[39m# T개의 descriptor들이 있는 (T, D)모양의 배열 (각 descriptor는 (D,) 모양이다)\u001b[39;00m\n",
      "File \u001b[1;32mc:\\Users\\com\\anaconda3\\envs\\ml\\lib\\site-packages\\mynn\\layers\\dense.py:71\u001b[0m, in \u001b[0;36mdense.__call__\u001b[1;34m(self, x)\u001b[0m\n\u001b[0;32m     58\u001b[0m \u001b[39mdef\u001b[39;00m \u001b[39m__call__\u001b[39m(\u001b[39mself\u001b[39m, x):\n\u001b[0;32m     59\u001b[0m \u001b[39m    \u001b[39m\u001b[39m\"\"\" Perform the forward-pass of the densely-connected layer over `x`.\u001b[39;00m\n\u001b[0;32m     60\u001b[0m \n\u001b[0;32m     61\u001b[0m \u001b[39m    Parameters\u001b[39;00m\n\u001b[1;32m   (...)\u001b[0m\n\u001b[0;32m     69\u001b[0m \u001b[39m        The result of applying the dense layer wx + b.\u001b[39;00m\n\u001b[0;32m     70\u001b[0m \u001b[39m    \"\"\"\u001b[39;00m\n\u001b[1;32m---> 71\u001b[0m     out \u001b[39m=\u001b[39m matmul(x, \u001b[39mself\u001b[39;49m\u001b[39m.\u001b[39;49mweight)\n\u001b[0;32m     72\u001b[0m     \u001b[39mreturn\u001b[39;00m out \u001b[39m+\u001b[39m \u001b[39mself\u001b[39m\u001b[39m.\u001b[39mbias \u001b[39mif\u001b[39;00m \u001b[39mself\u001b[39m\u001b[39m.\u001b[39mbias \u001b[39mis\u001b[39;00m \u001b[39mnot\u001b[39;00m \u001b[39mNone\u001b[39;00m \u001b[39melse\u001b[39;00m out\n",
      "File \u001b[1;32mc:\\Users\\com\\anaconda3\\envs\\ml\\lib\\site-packages\\mygrad\\ufuncs\\_ufunc_creators.py:272\u001b[0m, in \u001b[0;36mMyGradBinaryUfuncNoMask.__call__\u001b[1;34m(cls, x, y, out, dtype, constant)\u001b[0m\n\u001b[0;32m    270\u001b[0m     \u001b[39mreturn\u001b[39;00m out\n\u001b[0;32m    271\u001b[0m \u001b[39melse\u001b[39;00m:\n\u001b[1;32m--> 272\u001b[0m     \u001b[39mreturn\u001b[39;00m Tensor\u001b[39m.\u001b[39;49m_op(\n\u001b[0;32m    273\u001b[0m         \u001b[39mcls\u001b[39;49m\u001b[39m.\u001b[39;49m_wrapped_op,\n\u001b[0;32m    274\u001b[0m         x,\n\u001b[0;32m    275\u001b[0m         y,\n\u001b[0;32m    276\u001b[0m         op_kwargs\u001b[39m=\u001b[39;49m{\u001b[39m\"\u001b[39;49m\u001b[39mdtype\u001b[39;49m\u001b[39m\"\u001b[39;49m: dtype},\n\u001b[0;32m    277\u001b[0m         constant\u001b[39m=\u001b[39;49mconstant,\n\u001b[0;32m    278\u001b[0m         out\u001b[39m=\u001b[39;49mout,\n\u001b[0;32m    279\u001b[0m     )\n",
      "File \u001b[1;32mc:\\Users\\com\\anaconda3\\envs\\ml\\lib\\site-packages\\mygrad\\tensor_base.py:1092\u001b[0m, in \u001b[0;36mTensor._op\u001b[1;34m(cls, Op, op_args, op_kwargs, constant, out, *input_vars)\u001b[0m\n\u001b[0;32m   1090\u001b[0m     \u001b[39mif\u001b[39;00m _track\u001b[39m.\u001b[39mTRACK_GRAPH \u001b[39mand\u001b[39;00m _mem\u001b[39m.\u001b[39mMEM_GUARD:\n\u001b[0;32m   1091\u001b[0m         _mem\u001b[39m.\u001b[39mrelease_writeability_lock_on_op(_uniques_bases_then_arrs)\n\u001b[1;32m-> 1092\u001b[0m     \u001b[39mraise\u001b[39;00m e\n\u001b[0;32m   1094\u001b[0m \u001b[39mif\u001b[39;00m \u001b[39mnot\u001b[39;00m _track\u001b[39m.\u001b[39mTRACK_GRAPH:\n\u001b[0;32m   1095\u001b[0m     \u001b[39m# execute operation without tracking creator or any graph\u001b[39;00m\n\u001b[0;32m   1096\u001b[0m     \u001b[39m# information\u001b[39;00m\n\u001b[0;32m   1097\u001b[0m     \u001b[39mreturn\u001b[39;00m \u001b[39mcls\u001b[39m(\n\u001b[0;32m   1098\u001b[0m         op_out,\n\u001b[0;32m   1099\u001b[0m         constant\u001b[39m=\u001b[39mconstant,  \u001b[39m# constant not determined by graph info\u001b[39;00m\n\u001b[1;32m   (...)\u001b[0m\n\u001b[0;32m   1102\u001b[0m         _base\u001b[39m=\u001b[39m\u001b[39mNone\u001b[39;00m,\n\u001b[0;32m   1103\u001b[0m     )\n",
      "File \u001b[1;32mc:\\Users\\com\\anaconda3\\envs\\ml\\lib\\site-packages\\mygrad\\tensor_base.py:1086\u001b[0m, in \u001b[0;36mTensor._op\u001b[1;34m(cls, Op, op_args, op_kwargs, constant, out, *input_vars)\u001b[0m\n\u001b[0;32m   1084\u001b[0m \u001b[39mtry\u001b[39;00m:\n\u001b[0;32m   1085\u001b[0m     \u001b[39mif\u001b[39;00m out \u001b[39mis\u001b[39;00m \u001b[39mNone\u001b[39;00m:\n\u001b[1;32m-> 1086\u001b[0m         op_out: np\u001b[39m.\u001b[39mndarray \u001b[39m=\u001b[39m f(\u001b[39m*\u001b[39;49mtensor_vars, \u001b[39m*\u001b[39;49mop_args, \u001b[39m*\u001b[39;49m\u001b[39m*\u001b[39;49mop_kwargs)\n\u001b[0;32m   1087\u001b[0m     \u001b[39melse\u001b[39;00m:\n\u001b[0;32m   1088\u001b[0m         op_out: np\u001b[39m.\u001b[39mndarray \u001b[39m=\u001b[39m f(\u001b[39m*\u001b[39mtensor_vars, \u001b[39m*\u001b[39mop_args, \u001b[39m*\u001b[39m\u001b[39m*\u001b[39mop_kwargs, out\u001b[39m=\u001b[39mout)\n",
      "File \u001b[1;32mc:\\Users\\com\\anaconda3\\envs\\ml\\lib\\site-packages\\mygrad\\operation_base.py:363\u001b[0m, in \u001b[0;36mBinaryUfunc.__call__\u001b[1;34m(self, x1, x2, out, where, dtype)\u001b[0m\n\u001b[0;32m    361\u001b[0m     \u001b[39mreturn\u001b[39;00m \u001b[39mself\u001b[39m\u001b[39m.\u001b[39mnumpy_ufunc(x1\u001b[39m.\u001b[39mdata, x2\u001b[39m.\u001b[39mdata, out\u001b[39m=\u001b[39mout, where\u001b[39m=\u001b[39mwhere, dtype\u001b[39m=\u001b[39mdtype)\n\u001b[0;32m    362\u001b[0m \u001b[39melse\u001b[39;00m:\n\u001b[1;32m--> 363\u001b[0m     \u001b[39mreturn\u001b[39;00m \u001b[39mself\u001b[39;49m\u001b[39m.\u001b[39;49mnumpy_ufunc(x1\u001b[39m.\u001b[39;49mdata, x2\u001b[39m.\u001b[39;49mdata, out\u001b[39m=\u001b[39;49mout, dtype\u001b[39m=\u001b[39;49mdtype)\n",
      "\u001b[1;31mValueError\u001b[0m: matmul: Input operand 1 has a mismatch in its core dimension 0, with gufunc signature (n?,k),(k,m?)->(n?,m?) (size 50 is different from 10)"
     ]
    }
   ],
   "source": [
    "\n",
    "mg.turn_memory_guarding_off()\n",
    "plot_every = 500\n",
    "\n",
    "for k in range(100000):\n",
    "    x, target, sequence = generate_sequence(palindrome=False)\n",
    "    \n",
    "    output, _ = model(x)\n",
    "    \n",
    "    # 우리는 오로지 마지막 예측 점수만을 활용하고자 한다.\n",
    "    # output[-1:]는 (1, D) 모양의 y_T 벡터를 리턴한다.\n",
    "    #\n",
    "    # output[-1]는 (D,) 모양의 벡터를 리턴해야만 하는데, 이럴 경우 모양으로 인한 문제가 발생할 수 있다.\n",
    "    output = output[-1:]\n",
    "        \n",
    "    loss = softmax_crossentropy(output, target)\n",
    "    \n",
    "    acc = float(np.argmax(output.data.squeeze()) == target.item())\n",
    "\n",
    "    plotter.set_train_batch({\"loss\":loss.item(), \"accuracy\":acc}, batch_size=1, plot=False)\n",
    "    \n",
    "    if k % plot_every == 0 and k > 0:\n",
    "        plotter.set_train_epoch()\n",
    "\n",
    "    loss.backward()\n",
    "    optimizer.step()\n"
   ]
  },
  {
   "cell_type": "markdown",
   "id": "cd210de7",
   "metadata": {},
   "source": [
    "<h2>6. 수열의 길이에 따른 정확도 차이</h2>\n",
    "\n",
    "수열의 길이에 따른 정확도를 plot으로 표현해보자. 우선, 임의로 수열들을 생성하고 학습된 신경망에 입력한 후, 예측 분류 점수를 출력 받는다. 이어서 이 예측이 옳은지 아닌지 기록해 놓는다. 이 때, 수열의 길이가 2인 것, 4인 것 등등 각각에 대한 정확도를 따로 계산한다.\n",
    "\n",
    "**Hint** : 임의로 생성된 수열 하나하나에 대한 정확도를 측정해가면서, 수열의 길이 별로 수열의 총 개수와 옳은 예측의 개수를 기록해 놓는다.\n",
    "\n",
    "**MyGrad Note** : output = model(x)과 같은 형태로 많은 수열들을 가지고 신경망 모델을 평가할 것이기 때문에 mg.no_autodiff 설정해주는 것이 중요하다."
   ]
  },
  {
   "cell_type": "markdown",
   "id": "f1be1f32",
   "metadata": {},
   "source": [
    "**with mg.no_autodiff:**"
   ]
  },
  {
   "cell_type": "markdown",
   "id": "07f69a41",
   "metadata": {},
   "source": [
    "위 코드를 통해 mygrad는 빨리 작동할 수 있게 된다."
   ]
  },
  {
   "cell_type": "code",
   "execution_count": 10,
   "id": "8b7a69b2",
   "metadata": {},
   "outputs": [
    {
     "name": "stdout",
     "output_type": "stream",
     "text": [
      "i = 0\n",
      "i = 5000\n",
      "i = 10000\n",
      "i = 15000\n",
      "i = 20000\n",
      "i = 25000\n",
      "i = 30000\n",
      "i = 35000\n",
      "i = 40000\n",
      "i = 45000\n",
      "i = 50000\n",
      "i = 55000\n",
      "i = 60000\n",
      "i = 65000\n",
      "i = 70000\n",
      "i = 75000\n",
      "i = 80000\n",
      "i = 85000\n",
      "i = 90000\n",
      "i = 95000\n"
     ]
    },
    {
     "data": {
      "application/javascript": "/* Put everything inside the global mpl namespace */\n/* global mpl */\nwindow.mpl = {};\n\nmpl.get_websocket_type = function () {\n    if (typeof WebSocket !== 'undefined') {\n        return WebSocket;\n    } else if (typeof MozWebSocket !== 'undefined') {\n        return MozWebSocket;\n    } else {\n        alert(\n            'Your browser does not have WebSocket support. ' +\n                'Please try Chrome, Safari or Firefox ≥ 6. ' +\n                'Firefox 4 and 5 are also supported but you ' +\n                'have to enable WebSockets in about:config.'\n        );\n    }\n};\n\nmpl.figure = function (figure_id, websocket, ondownload, parent_element) {\n    this.id = figure_id;\n\n    this.ws = websocket;\n\n    this.supports_binary = this.ws.binaryType !== undefined;\n\n    if (!this.supports_binary) {\n        var warnings = document.getElementById('mpl-warnings');\n        if (warnings) {\n            warnings.style.display = 'block';\n            warnings.textContent =\n                'This browser does not support binary websocket messages. ' +\n                'Performance may be slow.';\n        }\n    }\n\n    this.imageObj = new Image();\n\n    this.context = undefined;\n    this.message = undefined;\n    this.canvas = undefined;\n    this.rubberband_canvas = undefined;\n    this.rubberband_context = undefined;\n    this.format_dropdown = undefined;\n\n    this.image_mode = 'full';\n\n    this.root = document.createElement('div');\n    this.root.setAttribute('style', 'display: inline-block');\n    this._root_extra_style(this.root);\n\n    parent_element.appendChild(this.root);\n\n    this._init_header(this);\n    this._init_canvas(this);\n    this._init_toolbar(this);\n\n    var fig = this;\n\n    this.waiting = false;\n\n    this.ws.onopen = function () {\n        fig.send_message('supports_binary', { value: fig.supports_binary });\n        fig.send_message('send_image_mode', {});\n        if (fig.ratio !== 1) {\n            fig.send_message('set_device_pixel_ratio', {\n                device_pixel_ratio: fig.ratio,\n            });\n        }\n        fig.send_message('refresh', {});\n    };\n\n    this.imageObj.onload = function () {\n        if (fig.image_mode === 'full') {\n            // Full images could contain transparency (where diff images\n            // almost always do), so we need to clear the canvas so that\n            // there is no ghosting.\n            fig.context.clearRect(0, 0, fig.canvas.width, fig.canvas.height);\n        }\n        fig.context.drawImage(fig.imageObj, 0, 0);\n    };\n\n    this.imageObj.onunload = function () {\n        fig.ws.close();\n    };\n\n    this.ws.onmessage = this._make_on_message_function(this);\n\n    this.ondownload = ondownload;\n};\n\nmpl.figure.prototype._init_header = function () {\n    var titlebar = document.createElement('div');\n    titlebar.classList =\n        'ui-dialog-titlebar ui-widget-header ui-corner-all ui-helper-clearfix';\n    var titletext = document.createElement('div');\n    titletext.classList = 'ui-dialog-title';\n    titletext.setAttribute(\n        'style',\n        'width: 100%; text-align: center; padding: 3px;'\n    );\n    titlebar.appendChild(titletext);\n    this.root.appendChild(titlebar);\n    this.header = titletext;\n};\n\nmpl.figure.prototype._canvas_extra_style = function (_canvas_div) {};\n\nmpl.figure.prototype._root_extra_style = function (_canvas_div) {};\n\nmpl.figure.prototype._init_canvas = function () {\n    var fig = this;\n\n    var canvas_div = (this.canvas_div = document.createElement('div'));\n    canvas_div.setAttribute('tabindex', '0');\n    canvas_div.setAttribute(\n        'style',\n        'border: 1px solid #ddd;' +\n            'box-sizing: content-box;' +\n            'clear: both;' +\n            'min-height: 1px;' +\n            'min-width: 1px;' +\n            'outline: 0;' +\n            'overflow: hidden;' +\n            'position: relative;' +\n            'resize: both;' +\n            'z-index: 2;'\n    );\n\n    function on_keyboard_event_closure(name) {\n        return function (event) {\n            return fig.key_event(event, name);\n        };\n    }\n\n    canvas_div.addEventListener(\n        'keydown',\n        on_keyboard_event_closure('key_press')\n    );\n    canvas_div.addEventListener(\n        'keyup',\n        on_keyboard_event_closure('key_release')\n    );\n\n    this._canvas_extra_style(canvas_div);\n    this.root.appendChild(canvas_div);\n\n    var canvas = (this.canvas = document.createElement('canvas'));\n    canvas.classList.add('mpl-canvas');\n    canvas.setAttribute(\n        'style',\n        'box-sizing: content-box;' +\n            'pointer-events: none;' +\n            'position: relative;' +\n            'z-index: 0;'\n    );\n\n    this.context = canvas.getContext('2d');\n\n    var backingStore =\n        this.context.backingStorePixelRatio ||\n        this.context.webkitBackingStorePixelRatio ||\n        this.context.mozBackingStorePixelRatio ||\n        this.context.msBackingStorePixelRatio ||\n        this.context.oBackingStorePixelRatio ||\n        this.context.backingStorePixelRatio ||\n        1;\n\n    this.ratio = (window.devicePixelRatio || 1) / backingStore;\n\n    var rubberband_canvas = (this.rubberband_canvas = document.createElement(\n        'canvas'\n    ));\n    rubberband_canvas.setAttribute(\n        'style',\n        'box-sizing: content-box;' +\n            'left: 0;' +\n            'pointer-events: none;' +\n            'position: absolute;' +\n            'top: 0;' +\n            'z-index: 1;'\n    );\n\n    // Apply a ponyfill if ResizeObserver is not implemented by browser.\n    if (this.ResizeObserver === undefined) {\n        if (window.ResizeObserver !== undefined) {\n            this.ResizeObserver = window.ResizeObserver;\n        } else {\n            var obs = _JSXTOOLS_RESIZE_OBSERVER({});\n            this.ResizeObserver = obs.ResizeObserver;\n        }\n    }\n\n    this.resizeObserverInstance = new this.ResizeObserver(function (entries) {\n        var nentries = entries.length;\n        for (var i = 0; i < nentries; i++) {\n            var entry = entries[i];\n            var width, height;\n            if (entry.contentBoxSize) {\n                if (entry.contentBoxSize instanceof Array) {\n                    // Chrome 84 implements new version of spec.\n                    width = entry.contentBoxSize[0].inlineSize;\n                    height = entry.contentBoxSize[0].blockSize;\n                } else {\n                    // Firefox implements old version of spec.\n                    width = entry.contentBoxSize.inlineSize;\n                    height = entry.contentBoxSize.blockSize;\n                }\n            } else {\n                // Chrome <84 implements even older version of spec.\n                width = entry.contentRect.width;\n                height = entry.contentRect.height;\n            }\n\n            // Keep the size of the canvas and rubber band canvas in sync with\n            // the canvas container.\n            if (entry.devicePixelContentBoxSize) {\n                // Chrome 84 implements new version of spec.\n                canvas.setAttribute(\n                    'width',\n                    entry.devicePixelContentBoxSize[0].inlineSize\n                );\n                canvas.setAttribute(\n                    'height',\n                    entry.devicePixelContentBoxSize[0].blockSize\n                );\n            } else {\n                canvas.setAttribute('width', width * fig.ratio);\n                canvas.setAttribute('height', height * fig.ratio);\n            }\n            /* This rescales the canvas back to display pixels, so that it\n             * appears correct on HiDPI screens. */\n            canvas.style.width = width + 'px';\n            canvas.style.height = height + 'px';\n\n            rubberband_canvas.setAttribute('width', width);\n            rubberband_canvas.setAttribute('height', height);\n\n            // And update the size in Python. We ignore the initial 0/0 size\n            // that occurs as the element is placed into the DOM, which should\n            // otherwise not happen due to the minimum size styling.\n            if (fig.ws.readyState == 1 && width != 0 && height != 0) {\n                fig.request_resize(width, height);\n            }\n        }\n    });\n    this.resizeObserverInstance.observe(canvas_div);\n\n    function on_mouse_event_closure(name) {\n        /* User Agent sniffing is bad, but WebKit is busted:\n         * https://bugs.webkit.org/show_bug.cgi?id=144526\n         * https://bugs.webkit.org/show_bug.cgi?id=181818\n         * The worst that happens here is that they get an extra browser\n         * selection when dragging, if this check fails to catch them.\n         */\n        var UA = navigator.userAgent;\n        var isWebKit = /AppleWebKit/.test(UA) && !/Chrome/.test(UA);\n        if(isWebKit) {\n            return function (event) {\n                /* This prevents the web browser from automatically changing to\n                 * the text insertion cursor when the button is pressed. We\n                 * want to control all of the cursor setting manually through\n                 * the 'cursor' event from matplotlib */\n                event.preventDefault()\n                return fig.mouse_event(event, name);\n            };\n        } else {\n            return function (event) {\n                return fig.mouse_event(event, name);\n            };\n        }\n    }\n\n    canvas_div.addEventListener(\n        'mousedown',\n        on_mouse_event_closure('button_press')\n    );\n    canvas_div.addEventListener(\n        'mouseup',\n        on_mouse_event_closure('button_release')\n    );\n    canvas_div.addEventListener(\n        'dblclick',\n        on_mouse_event_closure('dblclick')\n    );\n    // Throttle sequential mouse events to 1 every 20ms.\n    canvas_div.addEventListener(\n        'mousemove',\n        on_mouse_event_closure('motion_notify')\n    );\n\n    canvas_div.addEventListener(\n        'mouseenter',\n        on_mouse_event_closure('figure_enter')\n    );\n    canvas_div.addEventListener(\n        'mouseleave',\n        on_mouse_event_closure('figure_leave')\n    );\n\n    canvas_div.addEventListener('wheel', function (event) {\n        if (event.deltaY < 0) {\n            event.step = 1;\n        } else {\n            event.step = -1;\n        }\n        on_mouse_event_closure('scroll')(event);\n    });\n\n    canvas_div.appendChild(canvas);\n    canvas_div.appendChild(rubberband_canvas);\n\n    this.rubberband_context = rubberband_canvas.getContext('2d');\n    this.rubberband_context.strokeStyle = '#000000';\n\n    this._resize_canvas = function (width, height, forward) {\n        if (forward) {\n            canvas_div.style.width = width + 'px';\n            canvas_div.style.height = height + 'px';\n        }\n    };\n\n    // Disable right mouse context menu.\n    canvas_div.addEventListener('contextmenu', function (_e) {\n        event.preventDefault();\n        return false;\n    });\n\n    function set_focus() {\n        canvas.focus();\n        canvas_div.focus();\n    }\n\n    window.setTimeout(set_focus, 100);\n};\n\nmpl.figure.prototype._init_toolbar = function () {\n    var fig = this;\n\n    var toolbar = document.createElement('div');\n    toolbar.classList = 'mpl-toolbar';\n    this.root.appendChild(toolbar);\n\n    function on_click_closure(name) {\n        return function (_event) {\n            return fig.toolbar_button_onclick(name);\n        };\n    }\n\n    function on_mouseover_closure(tooltip) {\n        return function (event) {\n            if (!event.currentTarget.disabled) {\n                return fig.toolbar_button_onmouseover(tooltip);\n            }\n        };\n    }\n\n    fig.buttons = {};\n    var buttonGroup = document.createElement('div');\n    buttonGroup.classList = 'mpl-button-group';\n    for (var toolbar_ind in mpl.toolbar_items) {\n        var name = mpl.toolbar_items[toolbar_ind][0];\n        var tooltip = mpl.toolbar_items[toolbar_ind][1];\n        var image = mpl.toolbar_items[toolbar_ind][2];\n        var method_name = mpl.toolbar_items[toolbar_ind][3];\n\n        if (!name) {\n            /* Instead of a spacer, we start a new button group. */\n            if (buttonGroup.hasChildNodes()) {\n                toolbar.appendChild(buttonGroup);\n            }\n            buttonGroup = document.createElement('div');\n            buttonGroup.classList = 'mpl-button-group';\n            continue;\n        }\n\n        var button = (fig.buttons[name] = document.createElement('button'));\n        button.classList = 'mpl-widget';\n        button.setAttribute('role', 'button');\n        button.setAttribute('aria-disabled', 'false');\n        button.addEventListener('click', on_click_closure(method_name));\n        button.addEventListener('mouseover', on_mouseover_closure(tooltip));\n\n        var icon_img = document.createElement('img');\n        icon_img.src = '_images/' + image + '.png';\n        icon_img.srcset = '_images/' + image + '_large.png 2x';\n        icon_img.alt = tooltip;\n        button.appendChild(icon_img);\n\n        buttonGroup.appendChild(button);\n    }\n\n    if (buttonGroup.hasChildNodes()) {\n        toolbar.appendChild(buttonGroup);\n    }\n\n    var fmt_picker = document.createElement('select');\n    fmt_picker.classList = 'mpl-widget';\n    toolbar.appendChild(fmt_picker);\n    this.format_dropdown = fmt_picker;\n\n    for (var ind in mpl.extensions) {\n        var fmt = mpl.extensions[ind];\n        var option = document.createElement('option');\n        option.selected = fmt === mpl.default_extension;\n        option.innerHTML = fmt;\n        fmt_picker.appendChild(option);\n    }\n\n    var status_bar = document.createElement('span');\n    status_bar.classList = 'mpl-message';\n    toolbar.appendChild(status_bar);\n    this.message = status_bar;\n};\n\nmpl.figure.prototype.request_resize = function (x_pixels, y_pixels) {\n    // Request matplotlib to resize the figure. Matplotlib will then trigger a resize in the client,\n    // which will in turn request a refresh of the image.\n    this.send_message('resize', { width: x_pixels, height: y_pixels });\n};\n\nmpl.figure.prototype.send_message = function (type, properties) {\n    properties['type'] = type;\n    properties['figure_id'] = this.id;\n    this.ws.send(JSON.stringify(properties));\n};\n\nmpl.figure.prototype.send_draw_message = function () {\n    if (!this.waiting) {\n        this.waiting = true;\n        this.ws.send(JSON.stringify({ type: 'draw', figure_id: this.id }));\n    }\n};\n\nmpl.figure.prototype.handle_save = function (fig, _msg) {\n    var format_dropdown = fig.format_dropdown;\n    var format = format_dropdown.options[format_dropdown.selectedIndex].value;\n    fig.ondownload(fig, format);\n};\n\nmpl.figure.prototype.handle_resize = function (fig, msg) {\n    var size = msg['size'];\n    if (size[0] !== fig.canvas.width || size[1] !== fig.canvas.height) {\n        fig._resize_canvas(size[0], size[1], msg['forward']);\n        fig.send_message('refresh', {});\n    }\n};\n\nmpl.figure.prototype.handle_rubberband = function (fig, msg) {\n    var x0 = msg['x0'] / fig.ratio;\n    var y0 = (fig.canvas.height - msg['y0']) / fig.ratio;\n    var x1 = msg['x1'] / fig.ratio;\n    var y1 = (fig.canvas.height - msg['y1']) / fig.ratio;\n    x0 = Math.floor(x0) + 0.5;\n    y0 = Math.floor(y0) + 0.5;\n    x1 = Math.floor(x1) + 0.5;\n    y1 = Math.floor(y1) + 0.5;\n    var min_x = Math.min(x0, x1);\n    var min_y = Math.min(y0, y1);\n    var width = Math.abs(x1 - x0);\n    var height = Math.abs(y1 - y0);\n\n    fig.rubberband_context.clearRect(\n        0,\n        0,\n        fig.canvas.width / fig.ratio,\n        fig.canvas.height / fig.ratio\n    );\n\n    fig.rubberband_context.strokeRect(min_x, min_y, width, height);\n};\n\nmpl.figure.prototype.handle_figure_label = function (fig, msg) {\n    // Updates the figure title.\n    fig.header.textContent = msg['label'];\n};\n\nmpl.figure.prototype.handle_cursor = function (fig, msg) {\n    fig.canvas_div.style.cursor = msg['cursor'];\n};\n\nmpl.figure.prototype.handle_message = function (fig, msg) {\n    fig.message.textContent = msg['message'];\n};\n\nmpl.figure.prototype.handle_draw = function (fig, _msg) {\n    // Request the server to send over a new figure.\n    fig.send_draw_message();\n};\n\nmpl.figure.prototype.handle_image_mode = function (fig, msg) {\n    fig.image_mode = msg['mode'];\n};\n\nmpl.figure.prototype.handle_history_buttons = function (fig, msg) {\n    for (var key in msg) {\n        if (!(key in fig.buttons)) {\n            continue;\n        }\n        fig.buttons[key].disabled = !msg[key];\n        fig.buttons[key].setAttribute('aria-disabled', !msg[key]);\n    }\n};\n\nmpl.figure.prototype.handle_navigate_mode = function (fig, msg) {\n    if (msg['mode'] === 'PAN') {\n        fig.buttons['Pan'].classList.add('active');\n        fig.buttons['Zoom'].classList.remove('active');\n    } else if (msg['mode'] === 'ZOOM') {\n        fig.buttons['Pan'].classList.remove('active');\n        fig.buttons['Zoom'].classList.add('active');\n    } else {\n        fig.buttons['Pan'].classList.remove('active');\n        fig.buttons['Zoom'].classList.remove('active');\n    }\n};\n\nmpl.figure.prototype.updated_canvas_event = function () {\n    // Called whenever the canvas gets updated.\n    this.send_message('ack', {});\n};\n\n// A function to construct a web socket function for onmessage handling.\n// Called in the figure constructor.\nmpl.figure.prototype._make_on_message_function = function (fig) {\n    return function socket_on_message(evt) {\n        if (evt.data instanceof Blob) {\n            var img = evt.data;\n            if (img.type !== 'image/png') {\n                /* FIXME: We get \"Resource interpreted as Image but\n                 * transferred with MIME type text/plain:\" errors on\n                 * Chrome.  But how to set the MIME type?  It doesn't seem\n                 * to be part of the websocket stream */\n                img.type = 'image/png';\n            }\n\n            /* Free the memory for the previous frames */\n            if (fig.imageObj.src) {\n                (window.URL || window.webkitURL).revokeObjectURL(\n                    fig.imageObj.src\n                );\n            }\n\n            fig.imageObj.src = (window.URL || window.webkitURL).createObjectURL(\n                img\n            );\n            fig.updated_canvas_event();\n            fig.waiting = false;\n            return;\n        } else if (\n            typeof evt.data === 'string' &&\n            evt.data.slice(0, 21) === 'data:image/png;base64'\n        ) {\n            fig.imageObj.src = evt.data;\n            fig.updated_canvas_event();\n            fig.waiting = false;\n            return;\n        }\n\n        var msg = JSON.parse(evt.data);\n        var msg_type = msg['type'];\n\n        // Call the  \"handle_{type}\" callback, which takes\n        // the figure and JSON message as its only arguments.\n        try {\n            var callback = fig['handle_' + msg_type];\n        } catch (e) {\n            console.log(\n                \"No handler for the '\" + msg_type + \"' message type: \",\n                msg\n            );\n            return;\n        }\n\n        if (callback) {\n            try {\n                // console.log(\"Handling '\" + msg_type + \"' message: \", msg);\n                callback(fig, msg);\n            } catch (e) {\n                console.log(\n                    \"Exception inside the 'handler_\" + msg_type + \"' callback:\",\n                    e,\n                    e.stack,\n                    msg\n                );\n            }\n        }\n    };\n};\n\n\n/*\n * return a copy of an object with only non-object keys\n * we need this to avoid circular references\n * https://stackoverflow.com/a/24161582/3208463\n */\nfunction simpleKeys(original) {\n    return Object.keys(original).reduce(function (obj, key) {\n        if (typeof original[key] !== 'object') {\n            obj[key] = original[key];\n        }\n        return obj;\n    }, {});\n}\n\nmpl.figure.prototype.mouse_event = function (event, name) {\n    if (name === 'button_press') {\n        this.canvas.focus();\n        this.canvas_div.focus();\n    }\n\n    // from https://stackoverflow.com/q/1114465\n    var boundingRect = this.canvas.getBoundingClientRect();\n    var x = (event.clientX - boundingRect.left) * this.ratio;\n    var y = (event.clientY - boundingRect.top) * this.ratio;\n\n    this.send_message(name, {\n        x: x,\n        y: y,\n        button: event.button,\n        step: event.step,\n        guiEvent: simpleKeys(event),\n    });\n\n    return false;\n};\n\nmpl.figure.prototype._key_event_extra = function (_event, _name) {\n    // Handle any extra behaviour associated with a key event\n};\n\nmpl.figure.prototype.key_event = function (event, name) {\n    // Prevent repeat events\n    if (name === 'key_press') {\n        if (event.key === this._key) {\n            return;\n        } else {\n            this._key = event.key;\n        }\n    }\n    if (name === 'key_release') {\n        this._key = null;\n    }\n\n    var value = '';\n    if (event.ctrlKey && event.key !== 'Control') {\n        value += 'ctrl+';\n    }\n    else if (event.altKey && event.key !== 'Alt') {\n        value += 'alt+';\n    }\n    else if (event.shiftKey && event.key !== 'Shift') {\n        value += 'shift+';\n    }\n\n    value += 'k' + event.key;\n\n    this._key_event_extra(event, name);\n\n    this.send_message(name, { key: value, guiEvent: simpleKeys(event) });\n    return false;\n};\n\nmpl.figure.prototype.toolbar_button_onclick = function (name) {\n    if (name === 'download') {\n        this.handle_save(this, null);\n    } else {\n        this.send_message('toolbar_button', { name: name });\n    }\n};\n\nmpl.figure.prototype.toolbar_button_onmouseover = function (tooltip) {\n    this.message.textContent = tooltip;\n};\n\n///////////////// REMAINING CONTENT GENERATED BY embed_js.py /////////////////\n// prettier-ignore\nvar _JSXTOOLS_RESIZE_OBSERVER=function(A){var t,i=new WeakMap,n=new WeakMap,a=new WeakMap,r=new WeakMap,o=new Set;function s(e){if(!(this instanceof s))throw new TypeError(\"Constructor requires 'new' operator\");i.set(this,e)}function h(){throw new TypeError(\"Function is not a constructor\")}function c(e,t,i,n){e=0 in arguments?Number(arguments[0]):0,t=1 in arguments?Number(arguments[1]):0,i=2 in arguments?Number(arguments[2]):0,n=3 in arguments?Number(arguments[3]):0,this.right=(this.x=this.left=e)+(this.width=i),this.bottom=(this.y=this.top=t)+(this.height=n),Object.freeze(this)}function d(){t=requestAnimationFrame(d);var s=new WeakMap,p=new Set;o.forEach((function(t){r.get(t).forEach((function(i){var r=t instanceof window.SVGElement,o=a.get(t),d=r?0:parseFloat(o.paddingTop),f=r?0:parseFloat(o.paddingRight),l=r?0:parseFloat(o.paddingBottom),u=r?0:parseFloat(o.paddingLeft),g=r?0:parseFloat(o.borderTopWidth),m=r?0:parseFloat(o.borderRightWidth),w=r?0:parseFloat(o.borderBottomWidth),b=u+f,F=d+l,v=(r?0:parseFloat(o.borderLeftWidth))+m,W=g+w,y=r?0:t.offsetHeight-W-t.clientHeight,E=r?0:t.offsetWidth-v-t.clientWidth,R=b+v,z=F+W,M=r?t.width:parseFloat(o.width)-R-E,O=r?t.height:parseFloat(o.height)-z-y;if(n.has(t)){var k=n.get(t);if(k[0]===M&&k[1]===O)return}n.set(t,[M,O]);var S=Object.create(h.prototype);S.target=t,S.contentRect=new c(u,d,M,O),s.has(i)||(s.set(i,[]),p.add(i)),s.get(i).push(S)}))})),p.forEach((function(e){i.get(e).call(e,s.get(e),e)}))}return s.prototype.observe=function(i){if(i instanceof window.Element){r.has(i)||(r.set(i,new Set),o.add(i),a.set(i,window.getComputedStyle(i)));var n=r.get(i);n.has(this)||n.add(this),cancelAnimationFrame(t),t=requestAnimationFrame(d)}},s.prototype.unobserve=function(i){if(i instanceof window.Element&&r.has(i)){var n=r.get(i);n.has(this)&&(n.delete(this),n.size||(r.delete(i),o.delete(i))),n.size||r.delete(i),o.size||cancelAnimationFrame(t)}},A.DOMRectReadOnly=c,A.ResizeObserver=s,A.ResizeObserverEntry=h,A}; // eslint-disable-line\nmpl.toolbar_items = [[\"Home\", \"Reset original view\", \"fa fa-home\", \"home\"], [\"Back\", \"Back to previous view\", \"fa fa-arrow-left\", \"back\"], [\"Forward\", \"Forward to next view\", \"fa fa-arrow-right\", \"forward\"], [\"\", \"\", \"\", \"\"], [\"Pan\", \"Left button pans, Right button zooms\\nx/y fixes axis, CTRL fixes aspect\", \"fa fa-arrows\", \"pan\"], [\"Zoom\", \"Zoom to rectangle\\nx/y fixes axis\", \"fa fa-square-o\", \"zoom\"], [\"\", \"\", \"\", \"\"], [\"Download\", \"Download plot\", \"fa fa-floppy-o\", \"download\"]];\n\nmpl.extensions = [\"eps\", \"jpeg\", \"pgf\", \"pdf\", \"png\", \"ps\", \"raw\", \"svg\", \"tif\", \"webp\"];\n\nmpl.default_extension = \"png\";/* global mpl */\n\nvar comm_websocket_adapter = function (comm) {\n    // Create a \"websocket\"-like object which calls the given IPython comm\n    // object with the appropriate methods. Currently this is a non binary\n    // socket, so there is still some room for performance tuning.\n    var ws = {};\n\n    ws.binaryType = comm.kernel.ws.binaryType;\n    ws.readyState = comm.kernel.ws.readyState;\n    function updateReadyState(_event) {\n        if (comm.kernel.ws) {\n            ws.readyState = comm.kernel.ws.readyState;\n        } else {\n            ws.readyState = 3; // Closed state.\n        }\n    }\n    comm.kernel.ws.addEventListener('open', updateReadyState);\n    comm.kernel.ws.addEventListener('close', updateReadyState);\n    comm.kernel.ws.addEventListener('error', updateReadyState);\n\n    ws.close = function () {\n        comm.close();\n    };\n    ws.send = function (m) {\n        //console.log('sending', m);\n        comm.send(m);\n    };\n    // Register the callback with on_msg.\n    comm.on_msg(function (msg) {\n        //console.log('receiving', msg['content']['data'], msg);\n        var data = msg['content']['data'];\n        if (data['blob'] !== undefined) {\n            data = {\n                data: new Blob(msg['buffers'], { type: data['blob'] }),\n            };\n        }\n        // Pass the mpl event to the overridden (by mpl) onmessage function.\n        ws.onmessage(data);\n    });\n    return ws;\n};\n\nmpl.mpl_figure_comm = function (comm, msg) {\n    // This is the function which gets called when the mpl process\n    // starts-up an IPython Comm through the \"matplotlib\" channel.\n\n    var id = msg.content.data.id;\n    // Get hold of the div created by the display call when the Comm\n    // socket was opened in Python.\n    var element = document.getElementById(id);\n    var ws_proxy = comm_websocket_adapter(comm);\n\n    function ondownload(figure, _format) {\n        window.open(figure.canvas.toDataURL());\n    }\n\n    var fig = new mpl.figure(id, ws_proxy, ondownload, element);\n\n    // Call onopen now - mpl needs it, as it is assuming we've passed it a real\n    // web socket which is closed, not our websocket->open comm proxy.\n    ws_proxy.onopen();\n\n    fig.parent_element = element;\n    fig.cell_info = mpl.find_output_cell(\"<div id='\" + id + \"'></div>\");\n    if (!fig.cell_info) {\n        console.error('Failed to find cell for figure', id, fig);\n        return;\n    }\n    fig.cell_info[0].output_area.element.on(\n        'cleared',\n        { fig: fig },\n        fig._remove_fig_handler\n    );\n};\n\nmpl.figure.prototype.handle_close = function (fig, msg) {\n    var width = fig.canvas.width / fig.ratio;\n    fig.cell_info[0].output_area.element.off(\n        'cleared',\n        fig._remove_fig_handler\n    );\n    fig.resizeObserverInstance.unobserve(fig.canvas_div);\n\n    // Update the output cell to use the data from the current canvas.\n    fig.push_to_output();\n    var dataURL = fig.canvas.toDataURL();\n    // Re-enable the keyboard manager in IPython - without this line, in FF,\n    // the notebook keyboard shortcuts fail.\n    IPython.keyboard_manager.enable();\n    fig.parent_element.innerHTML =\n        '<img src=\"' + dataURL + '\" width=\"' + width + '\">';\n    fig.close_ws(fig, msg);\n};\n\nmpl.figure.prototype.close_ws = function (fig, msg) {\n    fig.send_message('closing', msg);\n    // fig.ws.close()\n};\n\nmpl.figure.prototype.push_to_output = function (_remove_interactive) {\n    // Turn the data on the canvas into data in the output cell.\n    var width = this.canvas.width / this.ratio;\n    var dataURL = this.canvas.toDataURL();\n    this.cell_info[1]['text/html'] =\n        '<img src=\"' + dataURL + '\" width=\"' + width + '\">';\n};\n\nmpl.figure.prototype.updated_canvas_event = function () {\n    // Tell IPython that the notebook contents must change.\n    IPython.notebook.set_dirty(true);\n    this.send_message('ack', {});\n    var fig = this;\n    // Wait a second, then push the new image to the DOM so\n    // that it is saved nicely (might be nice to debounce this).\n    setTimeout(function () {\n        fig.push_to_output();\n    }, 1000);\n};\n\nmpl.figure.prototype._init_toolbar = function () {\n    var fig = this;\n\n    var toolbar = document.createElement('div');\n    toolbar.classList = 'btn-toolbar';\n    this.root.appendChild(toolbar);\n\n    function on_click_closure(name) {\n        return function (_event) {\n            return fig.toolbar_button_onclick(name);\n        };\n    }\n\n    function on_mouseover_closure(tooltip) {\n        return function (event) {\n            if (!event.currentTarget.disabled) {\n                return fig.toolbar_button_onmouseover(tooltip);\n            }\n        };\n    }\n\n    fig.buttons = {};\n    var buttonGroup = document.createElement('div');\n    buttonGroup.classList = 'btn-group';\n    var button;\n    for (var toolbar_ind in mpl.toolbar_items) {\n        var name = mpl.toolbar_items[toolbar_ind][0];\n        var tooltip = mpl.toolbar_items[toolbar_ind][1];\n        var image = mpl.toolbar_items[toolbar_ind][2];\n        var method_name = mpl.toolbar_items[toolbar_ind][3];\n\n        if (!name) {\n            /* Instead of a spacer, we start a new button group. */\n            if (buttonGroup.hasChildNodes()) {\n                toolbar.appendChild(buttonGroup);\n            }\n            buttonGroup = document.createElement('div');\n            buttonGroup.classList = 'btn-group';\n            continue;\n        }\n\n        button = fig.buttons[name] = document.createElement('button');\n        button.classList = 'btn btn-default';\n        button.href = '#';\n        button.title = name;\n        button.innerHTML = '<i class=\"fa ' + image + ' fa-lg\"></i>';\n        button.addEventListener('click', on_click_closure(method_name));\n        button.addEventListener('mouseover', on_mouseover_closure(tooltip));\n        buttonGroup.appendChild(button);\n    }\n\n    if (buttonGroup.hasChildNodes()) {\n        toolbar.appendChild(buttonGroup);\n    }\n\n    // Add the status bar.\n    var status_bar = document.createElement('span');\n    status_bar.classList = 'mpl-message pull-right';\n    toolbar.appendChild(status_bar);\n    this.message = status_bar;\n\n    // Add the close button to the window.\n    var buttongrp = document.createElement('div');\n    buttongrp.classList = 'btn-group inline pull-right';\n    button = document.createElement('button');\n    button.classList = 'btn btn-mini btn-primary';\n    button.href = '#';\n    button.title = 'Stop Interaction';\n    button.innerHTML = '<i class=\"fa fa-power-off icon-remove icon-large\"></i>';\n    button.addEventListener('click', function (_evt) {\n        fig.handle_close(fig, {});\n    });\n    button.addEventListener(\n        'mouseover',\n        on_mouseover_closure('Stop Interaction')\n    );\n    buttongrp.appendChild(button);\n    var titlebar = this.root.querySelector('.ui-dialog-titlebar');\n    titlebar.insertBefore(buttongrp, titlebar.firstChild);\n};\n\nmpl.figure.prototype._remove_fig_handler = function (event) {\n    var fig = event.data.fig;\n    if (event.target !== this) {\n        // Ignore bubbled events from children.\n        return;\n    }\n    fig.close_ws(fig, {});\n};\n\nmpl.figure.prototype._root_extra_style = function (el) {\n    el.style.boxSizing = 'content-box'; // override notebook setting of border-box.\n};\n\nmpl.figure.prototype._canvas_extra_style = function (el) {\n    // this is important to make the div 'focusable\n    el.setAttribute('tabindex', 0);\n    // reach out to IPython and tell the keyboard manager to turn it's self\n    // off when our div gets focus\n\n    // location in version 3\n    if (IPython.notebook.keyboard_manager) {\n        IPython.notebook.keyboard_manager.register_events(el);\n    } else {\n        // location in version 2\n        IPython.keyboard_manager.register_events(el);\n    }\n};\n\nmpl.figure.prototype._key_event_extra = function (event, _name) {\n    // Check for shift+enter\n    if (event.shiftKey && event.which === 13) {\n        this.canvas_div.blur();\n        // select the cell after this one\n        var index = IPython.notebook.find_cell_index(this.cell_info[0]);\n        IPython.notebook.select(index + 1);\n    }\n};\n\nmpl.figure.prototype.handle_save = function (fig, _msg) {\n    fig.ondownload(fig, null);\n};\n\nmpl.find_output_cell = function (html_output) {\n    // Return the cell and output element which can be found *uniquely* in the notebook.\n    // Note - this is a bit hacky, but it is done because the \"notebook_saving.Notebook\"\n    // IPython event is triggered only after the cells have been serialised, which for\n    // our purposes (turning an active figure into a static one), is too late.\n    var cells = IPython.notebook.get_cells();\n    var ncells = cells.length;\n    for (var i = 0; i < ncells; i++) {\n        var cell = cells[i];\n        if (cell.cell_type === 'code') {\n            for (var j = 0; j < cell.output_area.outputs.length; j++) {\n                var data = cell.output_area.outputs[j];\n                if (data.data) {\n                    // IPython >= 3 moved mimebundle to data attribute of output\n                    data = data.data;\n                }\n                if (data['text/html'] === html_output) {\n                    return [cell, data, j];\n                }\n            }\n        }\n    }\n};\n\n// Register the function which deals with the matplotlib target/channel.\n// The kernel may be null if the page has been refreshed.\nif (IPython.notebook.kernel !== null) {\n    IPython.notebook.kernel.comm_manager.register_target(\n        'matplotlib',\n        mpl.mpl_figure_comm\n    );\n}\n",
      "text/plain": [
       "<IPython.core.display.Javascript object>"
      ]
     },
     "metadata": {},
     "output_type": "display_data"
    },
    {
     "data": {
      "text/html": [
       "<img src=\"data:image/png;base64,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\" width=\"640\">"
      ],
      "text/plain": [
       "<IPython.core.display.HTML object>"
      ]
     },
     "metadata": {},
     "output_type": "display_data"
    }
   ],
   "source": [
    "\n",
    "length_total = defaultdict(int)\n",
    "length_correct = defaultdict(int)\n",
    "\n",
    "with mg.no_autodiff:\n",
    "    for i in range(100000):\n",
    "        if i % 5000 == 0:\n",
    "            print(\"i = %s\" % i)\n",
    "        x, target, sequence = generate_sequence()\n",
    "\n",
    "        output, _ = model(x)\n",
    "        output = output[-1:]\n",
    "\n",
    "        length_total[len(sequence)] += 1\n",
    "        if np.argmax(output.data.squeeze()) == target.item():\n",
    "            length_correct[len(sequence)] += 1\n",
    "\n",
    "fig, ax = plt.subplots()\n",
    "x, y = [], []\n",
    "for i in range(2, 20, 2):\n",
    "    x.append(i)\n",
    "    y.append(length_correct[i] / length_total[i])\n",
    "ax.plot(x, y)\n"
   ]
  },
  {
   "cell_type": "markdown",
   "id": "9e453d31",
   "metadata": {},
   "source": [
    "수열의 길이가 증가함에 따라 정확도는 어떤 양상을 보이는가? 무엇이 긴 수열을 다루기 어렵게 만드는가? 한 번 생각해보자.\n",
    "\n",
    "학습할 때 사용되는 수열들의 길이를 이전보다 길게 했을 때는 어떻게 되는가? palindrome을 분류하는 문제로 바꿔서 데이터셋을 만들고 학습시킨 경우에는 정확도가 어떻게 되는가? 직접 시도해보고, 답을 도출해내보자.\n",
    "\n",
    "이제 Computational Graph를 통해 순전파가 이루어지는 과정을 살펴보자. Computational Graph는 연산 과정을 시각화해서 보여주는 것으로, 책에 수록된 그림 3.4-7과 같다."
   ]
  },
  {
   "cell_type": "code",
   "execution_count": null,
   "id": "7f1305a7",
   "metadata": {},
   "outputs": [],
   "source": []
  }
 ],
 "metadata": {
  "kernelspec": {
   "display_name": "Python 3 (ipykernel)",
   "language": "python",
   "name": "python3"
  },
  "language_info": {
   "codemirror_mode": {
    "name": "ipython",
    "version": 3
   },
   "file_extension": ".py",
   "mimetype": "text/x-python",
   "name": "python",
   "nbconvert_exporter": "python",
   "pygments_lexer": "ipython3",
   "version": "3.8.16"
  }
 },
 "nbformat": 4,
 "nbformat_minor": 5
}
