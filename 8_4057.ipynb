{
 "cells": [
  {
   "cell_type": "markdown",
   "metadata": {
    "id": "WD280gxjYdYX"
   },
   "source": [
    "# **실습 4. BoW 모델 직접 구현해보기**"
   ]
  },
  {
   "cell_type": "markdown",
   "metadata": {
    "id": "4coTdMIlYgQf"
   },
   "source": [
    "## **1. 말뭉치(corpus)내의 모든 구두점 삭제하기**\n",
    "\n",
    "이번 실습에서는 이론 문서에서 간략히 만났던 BoW를 파이썬을 통해 구현해볼 것이다. 본격적인 시작 전, 문자열 내 구두점 구두점을 영어로 'punctuation'이라고 한다. 앞으로 코드에서도 자주 등장하는 단어이니 기억해두자.\n",
    " 제거 작업이 우선되어야 한다. 과연 효율적인 방법은 없을까? 이하 두 가지의 힌트를 활용한 두 가지의 방법을 제시하겠다.\n",
    "\n",
    " >힌트1. 파이썬 string 모듈 사용하기\n",
    ": string 모듈 내의 ‘punctuation’ 메서드를 사용하면, 간단하게 모든 구두점을 꺼내쓸 수 있다.  \n",
    "```\n",
    "import string\n",
    ">>> string.punctuation\n",
    "'!\"#$%&\\'()*+,-./:;<=>?@[\\\\]^_`{|}~'\n",
    "```  \n",
    ">힌트2. 반복문 활용 < 파이썬 정규 표현식 사용하기  \n",
    ": 파이썬 정규표현식(regular expressions)은 'regex'나 're'로 생략하여 호출할 수 있다. 정규표현식의 규칙은 구글링을 통해 익히도록 하자.\n",
    "\n",
    "\n",
    "\n",
    ">방법1 : string모듈 & 반복문 활용\n",
    "import string\n",
    "for p in string.punctuation:\n",
    "    corpus = corpus.replace(p, \"\")   \n",
    "\n",
    ">방법2(추천) : string모듈 & 파이썬 정규표현식 활용\n",
    "\n",
    "\n",
    "```\n",
    "import re, string\n",
    "punc_regex = re.compile('[{}]'.format(re.escape(string.punctuation)))\n",
    "\n",
    "def strip_punc(corpus):\n",
    "    \"\"\" 문자열 내 포함된 모든 구두점을 제거.\n",
    "    매개변수\n",
    "    ----------\n",
    "    corpus : str\n",
    "\n",
    "    반환 값\n",
    "    -------\n",
    "    str\n",
    "        모든 구두점이 제거된 말뭉치\"\"\"\n",
    "    return punc_regex.sub(‘’, corpus)\n",
    " >>> strip_punc(\"moo. meow! cat? cow~\")\n",
    "'moo meow cat cow'\n",
    "```\n",
    "\n",
    "\n",
    "\n"
   ]
  },
  {
   "cell_type": "markdown",
   "metadata": {
    "id": "M1-LtPThZkuz"
   },
   "source": [
    "## **2. TF descriptor 계산하기**\n",
    "\n",
    "‘용어-빈도 설명자(Term-Frequency descriptor)’란 문서 내의 단어의 빈도를 설명해주는 값이다. 편의를 위해 한글 표현 대신 TF descriptor라 통일하여 부르겠다. 지금부터는 문서 당 TF descriptor를 계산해볼 것인데, 하나의 문서에 대한 TF-descriptor를 계산하는 방법은 이하 네 단계로 요약될 수 있다.\n",
    "\n",
    "①구두점 제거 → ②소문자화 → ③토큰화 → ④개수 세기\n",
    "\n",
    "여기서 ‘토큰화(Tokenization)’란, 말뭉치를 토큰(token), 즉 의미 있는 분석 단위로 쪼개어 나타내는 작업을 의미한다. 토큰화의 결과물은 각 단어가 포함된 리스트 혹은 튜플의 형태가 되어야 한다. 이제 간단한 예시를 통해 TF descriptor를 계산하는 과정을 구체적으로 이해해보자. 아래 input 문장에서 각 단어의 구두점과 소문자를 제거한 후 토큰 단위로 쪼개면 이하의 결과를 얻을 수 있다.\n",
    "\n",
    "\n",
    "\n",
    "```\n",
    "Input document:\n",
    "\"Apples rule. Apples are the best. Truly, they are. Truly... Truly\"\n",
    "\n",
    "Document -> remove punctuation and lowercase -> tokenize:\n",
    "['apples',\n",
    " 'rule',\n",
    " 'apples',\n",
    " 'are',\n",
    " 'the',\n",
    " 'best',\n",
    " 'truly',\n",
    " 'they',\n",
    " 'are',\n",
    " 'truly',\n",
    " 'truly']\n",
    "\n",
    "```\n",
    "이번에는 문서에 대한 TF descriptor를 만들어보겠다. TF descriptor는 문서를 구성하는 토큰이 발생하는 횟수를 알파벳 순서대로 나타내어 준다. 이때 토큰의 첫 알파벳을 기준으로 정렬이 이루어진다. 예를 들면, \"Bad apple seed. Bad apple.\"의 문서에 대한 TF-descriptor 결과물은 아래와 같은 3차원 배열 array([2., 2., 1.])이 될 것이다. 이때 실수가 아닌 정수(ints)로 구성되도록 한다.  \n",
    "\n",
    "\n",
    "```\n",
    "index proceeds in alphabetical order\n",
    "    ------------------------------------\n",
    "    tf[0] -> count of \"apple\" = 2\n",
    "    tf[1] -> count of \"bad\" = 2\n",
    "    tf[2] -> count of \"seed\" = 1\n",
    "\"Bad apple seed. Bad apple.\" -> array([2., 2., 1.])\n",
    "```\n",
    "유의할 것은, BoW 모델에서는 단순히 ‘apple이 한 번이라도 발생하였다’는 사실을 넘어서 ‘apple이 2번 나타났다’라는 횟수 정보가 중요하다는 점이다. 따라서 단어들 간 중복이 허용되므로, 예시의 단어가방은 {'apple', 'apple', 'bad', 'bad', 'seed'}로 표현될 것이다. \n",
    "\n",
    "이번에는 여러분이 이하 문서에 대한 TF-descriptor를 직접 구해보도록 하자.  \n",
    "doc = \"Apples rule. Apples are the best. Truly, they are. Truly... Truly\"  \n",
    "\n",
    "- input으로 문자열 형식과 같은 document를 받음.\n",
    "- 딕셔너리를 행렬로 변환할 것.\n",
    "- 이때 각 단어는 알파벳순으로 정렬되어야 함. (sorted 사용하면 '정렬'된 '행렬'이 됨.)\n",
    "- descriptor은 따로 np.array 사용해야 함.\n",
    "- counter 값은 정수(ints)가 아닌(floats)형태 (dytpe 지정)\n",
    "\n",
    ">힌트1: 코드 작성의 순서는 이하와 같다.  \n",
    "문서 내 구두점 제거 → 소문자화 → 토큰화 → collections 모듈의 Counter 클래스를 활용하여 각 토큰에 대한 counter 생성 → numpy의 array를 활용하여 각 토큰의 개수를 나타내는 descriptor 배열 생성\n",
    "\n",
    ">힌트2: Counter 클래스는 딕셔너리를 반환하므로 인덱스를 활용하면 descriptor 산출에 유용할 것이며, 이때 sorted 함수를 활용하여 각 토큰을 알파벳 순으로 정렬한 후 descriptor 값을 산출해야 한다.  \n",
    "\n",
    "위의 힌트를 바탕으로 코드를 정확히 작성하였다면 아래와 같은 결과가 나올 것이다.\n",
    "\n",
    "\n",
    "```\n",
    "print(sorted(counter))\n",
    ">>> ['apples', 'are', 'best', 'rule', 'the', 'they', 'truly']\n",
    "print(descriptor)\n",
    ">>> [2. 2. 1. 1. 1. 1. 3.]\n",
    "```\n",
    "\n",
    "\n"
   ]
  },
  {
   "cell_type": "code",
   "execution_count": 1,
   "metadata": {
    "id": "VlpofumAqhZE"
   },
   "outputs": [
    {
     "name": "stdout",
     "output_type": "stream",
     "text": [
      "['apples', 'are', 'best', 'rule', 'the', 'they', 'truly']\n",
      "[2. 2. 1. 1. 1. 1. 3.]\n"
     ]
    }
   ],
   "source": [
    "import re, string\n",
    "\n",
    "punc_regex = re.compile('[{}]'.format(re.escape(string.punctuation)))\n",
    "\n",
    "def strip_punc(corpus):\n",
    "    return punc_regex.sub('', corpus)\n",
    "\n",
    "from collections import Counter\n",
    "import numpy as np\n",
    "doc = \"Apples rule. Apples are the best. Truly, they are. Truly... Truly\"\n",
    "\n",
    "doc = strip_punc(doc)\n",
    "counter = Counter(doc.lower().split())\n",
    "descriptor = np.array([counter[word] for word in sorted(counter)], dtype=float)\n",
    "print(sorted(counter))\n",
    "print(descriptor)"
   ]
  },
  {
   "cell_type": "markdown",
   "metadata": {
    "id": "jsc41RB-rPBc"
   },
   "source": [
    "## **3. BoW 활용하여 여러 문서의 TF 계산하기**\n",
    "\n",
    "지금까지는 하나의 문서에 대해 TF를 계산하였다. 지금부터는 여러 문서에 대해 BoW 모델을 적용해볼 것이다. 이하 두 개의 문서가 있다고 해보자:  \n",
    "doc_1 = \"I am a dog.\"  \n",
    "doc_2 = \"I am a cat!\"  \n",
    "\n",
    "만약 우리가 이 두 문서에 대한 TF descriptor를 만들기 위해 이전의 섹션에서 활용한 코드를 쓴다면, 아마 이하와 같은 결과를 얻을 것이다.  \n",
    "\"I am a dog.\" -> array([1., 1., 1., 1.])  \n",
    "\"I am a cat!\" -> array([1., 1., 1., 1.])  \n",
    "\n",
    "그런데 무언가 어색하지 않은가? 결과를 보면, 두 문장의 의미는 서로 다름에도 불구하고 동일한 TF descriptor를 공유하고 있다. 두 문장이 각자의 단어 가방을 바탕으로 TF descriptor을 계산했기 때문에, 문장 간 비교가 불가능해진 것이다. 비교를 위해서는 하나의 통일된 비교 기준이 필요하다. 이에 따라, 우리는 하나로 통일된 단어 사전을 별도로 만들어 이를 바탕으로 doc_1과 doc_2의 TF descriptor를 계산해볼 것이다. 지금부터는 이 통합된 단어 사전 리스트를 ‘vocabulary’라고 지칭하겠다.  \n",
    "\n",
    "![image.png](data:image/png;base64,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)"
   ]
  },
  {
   "cell_type": "markdown",
   "metadata": {
    "id": "A0EtRRuZrSvl"
   },
   "source": [
    "\n",
    "\n",
    "```\n",
    "index proceeds in alphabetical order\n",
    "    ------------------------------------\n",
    "    tf[0] -> count of \"a\"\n",
    "    tf[1] -> count of \"am\"\n",
    "    tf[2] -> count of \"cat\"\n",
    "    tf[3] -> count of \"dog\"\n",
    "    tf[4] -> count of \"I\"\n",
    "\n",
    "\"I am a dog.\" -> array([1., 1., 0., 1., 1.])\n",
    "\"I am a cat!\" -> array([1., 1., 1., 0., 1.])\n",
    "```\n",
    "\n",
    "지금까지 여러 문서에 대한 TF-descriptor 산출 방식까지 이해해보았다. 지금부터는 본격적으로 여러 문서에 대한 TF-descriptor을 산출하는 코드를 직접 짜볼 것이다. \n",
    "\n",
    "우선적으로 함수는 세 개를 만들어야 한다.  \n",
    "① to_counter: 문서 내 각 단어의 개수(word count)를 구하는 함수  \n",
    "② to_vocab: 여러 문서에 대한 통합된 vocabulary를 만드는 함수  \n",
    "③ to_tf: 단어별 빈도를 계산하는 함수  \n",
    "\n",
    ">첫째, ‘to_counter' 함수를 만들어보자. 함수 내 코드 순서 및 조건은 이하와 같다. \n",
    "\n",
    ">1. 문서에서 모든 구두점을 제거\n",
    "2. 소문자로 변환\n",
    "3. 문서를 토큰화\n",
    "4. 문서에 대한 <word -> count> 매핑을 반환 (<collections.Counter>을 사용할 것)\n"
   ]
  },
  {
   "cell_type": "code",
   "execution_count": 2,
   "metadata": {
    "id": "_dud9-A-rXg4"
   },
   "outputs": [],
   "source": [
    "def to_counter(doc):\n",
    "    \"\"\" \n",
    "    각 문서의 word-count를 만드는 함수\n",
    "    구두점 제거 이후 모든 글자를 소문자로 만들어야 함\n",
    "    \n",
    "    매개변수\n",
    "    ----------\n",
    "    doc : str\n",
    "    \n",
    "    반환 값\n",
    "    -------\n",
    "    collections.Counter\n",
    "        lower-cased word -> count\n",
    "    \n",
    "    예시\n",
    "    --------\n",
    "    >>> to_counter(\"I am a dog.\")\n",
    "    Counter({'a': 1, 'am': 1, 'dog': 1, 'i': 1})\n",
    "    \"\"\"\n",
    "    \n",
    "    return Counter(strip_punc(doc).lower().split())"
   ]
  },
  {
   "cell_type": "markdown",
   "metadata": {
    "id": "JgqoPhtUrar7"
   },
   "source": [
    "이하의 결과가 나타나는지 직접 확인하라: \n",
    "\n",
    "\n",
    "```\n",
    ">>> to_counter(\"I am a dog.\")\n",
    "Counter({'a': 1, 'am': 1, 'dog': 1, 'i': 1})\n",
    "```\n",
    "\n"
   ]
  },
  {
   "cell_type": "code",
   "execution_count": 3,
   "metadata": {
    "id": "DhPA6K6grex1"
   },
   "outputs": [
    {
     "data": {
      "text/plain": [
       "Counter({'i': 1, 'am': 1, 'a': 1, 'dog': 1})"
      ]
     },
     "execution_count": 3,
     "metadata": {},
     "output_type": "execute_result"
    }
   ],
   "source": [
    "# 여기에 코드 작성\n",
    "to_counter(\"I am a dog.\")"
   ]
  },
  {
   "cell_type": "markdown",
   "metadata": {
    "id": "YHW3cfqVrf6l"
   },
   "source": [
    ">둘째, ‘to_vocab’ 함수를 만들어보자.  \n",
    "\n",
    "> 우리는 to_counter을 통해 우리는 문서 각각에 대한 word-counter를 만들 수 있게 되었고, 이제는 to_vocab을 통해 전체 말뭉치에 대한 하나의 vocabulary를 리스트 형태로 만들 것이다. to_vocab은 여러 word-counter에 대한 이터러블(ex. 각 문서에 대한 단어 수의 리스트)을 입력받으면, 전체 단어를 알파벳 순으로 정렬한 후 그것을 리스트 형식으로 반환해줄 것이다.  \n",
    "*Tip: 파이썬에 내장된 ’집합(set)‘ 객체를 사용하면, 시퀀스를 구성하는 각 요소를 중복 없이 가지고 올 수 있다.\n"
   ]
  },
  {
   "cell_type": "code",
   "execution_count": 13,
   "metadata": {},
   "outputs": [],
   "source": [
    "def unzip(pairs):\n",
    "    \"\"\"    \n",
    "    매개변수\n",
    "    ----------\n",
    "    pairs : Iterable[Tuple[Any, ...]]\n",
    "        ((a0, b0, c0, ...), (a1, b1, c1, ...), ...(a2, b2, c2, ...)) 형태의 이터러블\n",
    "    \n",
    "    반환 값\n",
    "    -------\n",
    "    Tuple[Tuples[Any, ...], ...]\n",
    "       ‘여러 쌍들(pairs)’이 ‘풀어진(unzipped)’ 내용물로 구성된 하나의 튜플; i.e. \n",
    "       ((a0, a1, ...), (b0, b1, ...), (c0, c1, ...), ...)\n",
    "    \"\"\"\n",
    "    return tuple(zip(*pairs))"
   ]
  },
  {
   "cell_type": "code",
   "execution_count": 4,
   "metadata": {
    "id": "0jLJXcGNrhtx"
   },
   "outputs": [],
   "source": [
    "def to_vocab(counters):\n",
    "    \"\"\" \n",
    "    입력: 여러 counter에 대한 이터러블\n",
    "    반환: 모든 counter들에 걸쳐 축적된 단어를 중복 없이 정렬한 리스트\n",
    "    \n",
    "    [word_counter0, word_counter1, ...] -> sorted list of unique words\n",
    "    \n",
    "    매개변수\n",
    "    ----------\n",
    "    counters : Iterable[collections.Counter]\n",
    "        각 문서의 {word -> count} 카운터들을 포함하는 하나의 이터러블\n",
    "    \n",
    "    반환 값\n",
    "    -------\n",
    "    List[str]\n",
    "        `counters`에 포함된 단어를 중복 없이 알파벳 순으로 정렬한 하나의 리스트\n",
    "    \"\"\"\n",
    "    vocab = set()\n",
    "    for counter in counters:\n",
    "        vocab.update(counter)\n",
    "    return sorted(vocab)"
   ]
  },
  {
   "cell_type": "markdown",
   "metadata": {
    "id": "ilpKXaykrknX"
   },
   "source": [
    "이하의 결과가 나타나는지 확인하라:  \n",
    "\n",
    "\n",
    "```\n",
    ">>> count1 = to_counter(\"I am a dog.\")\n",
    ">>> count2 = to_counter(\"I am a cat!\")\n",
    ">>> to_vocab([count1, count2])\n",
    "['a', 'am', 'cat', 'dog', 'i']\n",
    "```\n",
    "\n"
   ]
  },
  {
   "cell_type": "code",
   "execution_count": 6,
   "metadata": {
    "id": "O1K3kFM0rn9m"
   },
   "outputs": [
    {
     "data": {
      "text/plain": [
       "['a', 'am', 'cat', 'dog', 'i']"
      ]
     },
     "execution_count": 6,
     "metadata": {},
     "output_type": "execute_result"
    }
   ],
   "source": [
    "# 여기에 코드 작성\n",
    "count1 = to_counter(\"I am a dog.\")\n",
    "count2 = to_counter(\"I am a cat!\")\n",
    "to_vocab([count1, count2])"
   ]
  },
  {
   "cell_type": "markdown",
   "metadata": {
    "id": "ZROPY2CirouG"
   },
   "source": [
    "이제 우리가 갖게 된 것은 (1) 여러 문서의 word-counts, (2) 문서 전체에 대해 알파벳 순으로 정렬된 vocabulary 리스트이다. 이 둘을 활용하면 TF descriptors를 만들 수 있다! \n",
    "\n",
    ">셋째, ‘to_tf’ 함수를 만들어보자.  \n",
    "\n",
    ">이 함수의 입력값은 앞선 두 함수를 통해 얻은 (1) 한 문서의 word-counts (Counter 인스턴스 형태) 및 (2) 문서 전체에 대한 vocabulary이다. 반환값은 해당 문서의 TF descriptor를 나타내는, 실수로 구성된 한 개의 행렬이다.   \n",
    "\n",
    "\n",
    "만약 아직 보지 못한 key를 사용하는 counter를 입력 받으면 어떻게 될까? 무엇이 반환될까? 이 행동이 우리에게 유용한 것일까?\n"
   ]
  },
  {
   "cell_type": "code",
   "execution_count": 7,
   "metadata": {
    "id": "75IYtVc8rv3_"
   },
   "outputs": [],
   "source": [
    "import numpy as np\n",
    "def to_tf(counter, vocab):\n",
    "    \"\"\"\n",
    "    Given a vocabulary and a document's word-count, constructs an array of term-frquencies.\n",
    "    \n",
    "    Parameters\n",
    "    ----------\n",
    "    counter : Counter\n",
    "        The word -> count mapping for a document.\n",
    "    \n",
    "    vocab : List[str]\n",
    "        The list of all words that we are including in our vocabulary.\n",
    "    \n",
    "    Returns\n",
    "    -------\n",
    "    numpy.ndarray, shape-(N_vocab,)\n",
    "        A 1D array with the count associated with each vocabulary word in ascending order.\n",
    "        Make sure to use a dtype of 'float' for this array.\n",
    "    \"\"\"\n",
    "    return np.array([counter[word] for word in vocab], dtype=float)"
   ]
  },
  {
   "cell_type": "markdown",
   "metadata": {
    "id": "WCOJy2KLrxgF"
   },
   "source": [
    "최종적으로, 만든 함수 세 개를 모두 활용하여 여러 문서에 대한 descriptor들을 만들어보자.\n",
    "\n",
    "\n",
    "---\n",
    "\n",
    "\n",
    "doc_1 = \"I am a dog.\"  \n",
    "doc_2 = \"I am a cat!\"  \n",
    "doc_3 = \"I am not a dog\"  \n",
    "doc_4 = \"I am not a cat, am I!?!\"  \n",
    "\n",
    "이 문서에 사용된 단어를 중복 없이 세어보면 총 6개이다(단어의 종류가 6가지라는 뜻이다). 따라서 여러분이 만든 vocabulary가 6의 길이를 가져야 하고, 이에 따라 각 문서의 TF descriptor 역시 길이가 6이어야 한다. <numpy.vstack>를 사용하여 이 네 개의 문서의  descriptor들에 대한 (4, 6)크기의 행렬을 생성하라.\n"
   ]
  },
  {
   "cell_type": "code",
   "execution_count": 8,
   "metadata": {
    "id": "9GyTfas1r1ga"
   },
   "outputs": [
    {
     "name": "stdout",
     "output_type": "stream",
     "text": [
      "[[1. 1. 0. 1. 1. 0.]\n",
      " [1. 1. 1. 0. 1. 0.]\n",
      " [1. 1. 0. 1. 1. 1.]\n",
      " [1. 2. 1. 0. 2. 1.]]\n"
     ]
    }
   ],
   "source": [
    "doc_1 = \"I am a dog.\"\n",
    "doc_2 = \"I am a cat!\"\n",
    "doc_3 = \"I am not a dog\"\n",
    "doc_4 = \"I am not a cat, am I!?!\"\n",
    "\n",
    "word_counts = [to_counter(doc) for doc in [doc_1, doc_2, doc_3, doc_4]]\n",
    "bag = to_vocab(word_counts)\n",
    "tfs = np.vstack([to_tf(counter, bag) for counter in word_counts])\n",
    "print(tfs)"
   ]
  },
  {
   "cell_type": "markdown",
   "metadata": {
    "id": "BJuVBmEIr27z"
   },
   "source": [
    "## **4. BoW 모델 개선하기: 함수 to_vocab 업데이트하기**\n",
    "\n",
    "TF descriptor 벡터의 길이, 즉 차원 수는 vocabulary의 단어 개수에 따라 결정된다. 여기서 잠깐. 현재의 방식대로라면 vocabulary와 TF-descriptors의 크기가 불필요하게 커질 수 있다. 예컨대, 만약 어떠한 글이 ‘The rumor spread as fast as lightning.’와 같은 간단한 비유를 사용할 때, vocabulary에는 ‘as'와 ’lightning'와 같이 크게 중요하지 않은 의미의 단어가 두 개나 추가될 것이다.\n",
    "\n",
    "이러한 문제를 해결하기 위해 vocabulary 생성 과정에 적절히 제한을 두는 건 어떨까? 지금부터는 to_vocab 함수를 변형하여, 전체 문서에서 가장 자주 사용되는 k개의 용어(term)만을 취할 수 있도록 조건을 추가해볼 것이다. 함수 내부에 optional argument을 만들어서, 사용자가 k값을 별도로 지정하는 경우 위의 조건이 반영되도록 하고, default 상태에서는 기존의 방식을 유지하도록 만들어보자. \n",
    "* 만약 입력한 k값이 vocabulary의 총 단어 개수보다 크더라도 함수가 구현될 수 있도록 코드를 구성해야 한다."
   ]
  },
  {
   "cell_type": "code",
   "execution_count": 25,
   "metadata": {
    "id": "2EBGB7gbr41_"
   },
   "outputs": [],
   "source": [
    "def to_vocab(counters, k=None):\n",
    "    \"\"\"\n",
    "    입력: counters 모음\n",
    "    출력: 최대 빈출 k개의 단어로 구성된, 정렬된 리스트 \n",
    "\n",
    "    \n",
    "    매개변수\n",
    "    ----------\n",
    "    counters : Sequence[collections.Counter]\n",
    "        counters로 구성된 리스트; 한 문서에 대한 단어 계산표 \n",
    "    \n",
    "    k : Optional[int]\n",
    "        특정 k값이 지정되면, 오직 최대 k개 단어만 반환됨.\n",
    "        \n",
    "    반환 값\n",
    "    -------\n",
    "    List[str]\n",
    "        중복되지 않은 문자열에 대한 정렬된 리스트.\"\"\"\n",
    "    # 여기에 코드 작성\n",
    "    vocab = Counter()\n",
    "    for counter in counters:\n",
    "        # update 사용\n",
    "        vocab.update(counter)\n",
    "        \n",
    "    # 여기에 코드 작성    \n",
    "    # 최대 빈출 k개의 단어로 구성된,정렬된 리스트를 출력한다.  \n",
    "    # Hint1: counter의 most_common() 함수 사용하기\n",
    "    # Hint2: sorted를 사용\n",
    "    \n",
    "    # vocab.most_common(k)\n",
    "    most_freq = [] \n",
    "    for key, val in vocab.most_common(k):\n",
    "        # print(key, val)\n",
    "        most_freq.append(key)\n",
    "    \n",
    "    # return ________\n",
    "    return sorted(most_freq)"
   ]
  },
  {
   "cell_type": "markdown",
   "metadata": {
    "id": "4OJi6AfJr6ea"
   },
   "source": [
    "업데이트된 to_vocab을 확인하기 위해 마지막 예시의 네 개 문서를 사용해보자. k를 2로 지정하여 새로운 vocabulary를 생성하라. vocabulary에 있는 단어는 무엇인가? k=6일 때와 k=<None>일 때 동일한 결과를 도출하는지 직접 확인해보아라."
   ]
  },
  {
   "cell_type": "code",
   "execution_count": 26,
   "metadata": {
    "id": "COaEOcAAr7MF"
   },
   "outputs": [
    {
     "name": "stdout",
     "output_type": "stream",
     "text": [
      "['am', 'i']\n"
     ]
    }
   ],
   "source": [
    "doc_1 = \"I am a dog.\"\n",
    "doc_2 = \"I am a cat!\"\n",
    "doc_3 = \"I am not a dog\"\n",
    "doc_4 = \"I am not a cat, am I!?!\"\n",
    "\n",
    "word_counts = [to_counter(doc) for doc in [doc_1, doc_2, doc_3, doc_4]]\n",
    "print(to_vocab(word_counts, k=2)) # 이 셀을 시행했을 때 ['am', 'i']가 출력되어야 한다."
   ]
  },
  {
   "cell_type": "markdown",
   "metadata": {},
   "source": [
    "정답: ['am', 'i']"
   ]
  },
  {
   "cell_type": "markdown",
   "metadata": {},
   "source": [
    "지금까지 to_vocab 함수를 변형하는 과정을 통해, k값을 설정했을 때 ‘가장 자주 나타난 단어’를 추출할 수 있게 되었다. 그러나 여전히 한계가 존재한다. 저번 노트에서 언급했던 Zipf's law를 떠올려보면, 오히려 가장 자주 출현하는 단어들은 대개 중요한 의미를 전달하지 못하고 중요한 단어는 문서 내에서 드물게 나타난다는 경향성이 있었다.\n",
    "\n",
    "\n",
    "---\n",
    "잠시 시간을 내어, 문서에서 ‘가장 자주 나타나는 단어’는 실제로 어떠한 특징을 가지고 있는지 직접 확인해보도록 하자. 우리가 이용할 문서는 wikipedia 텍스트 파일이다. 아래 코드와 같이 path_to_wikipedia에 파일을 저장한 경로를 입력해주어야 하며, wiki라는 변수를 생성한 후 해당 파일의 텍스트를 변수 wiki에 저장할 수 있다.\n"
   ]
  },
  {
   "cell_type": "code",
   "execution_count": 28,
   "metadata": {},
   "outputs": [],
   "source": [
    "path_to_wikipedia = \"wikipedia2text-extracted.txt\"\n",
    "with open(path_to_wikipedia, \"rb\") as f:\n",
    "    wiki = f.read().decode()"
   ]
  },
  {
   "cell_type": "markdown",
   "metadata": {},
   "source": [
    "wiki에서 텍스트의 상위 50개의 빈출 단어를 출력하라. 출력을 위해 사용되는 함수는 to_counter 함수(wikipedia 텍스트를 처리하고 단어 개수를 반환)와 방금 업데이트한 to_vocab 함수(vocabulary를 형성)이다. 이때, to_vocab 함수의 경우 입력 값으로 반드시 이터러블 객체(ex. 리스트, 단어 개수 등)의 형태만을 받을 수 있음을 명심하라.\n",
    "\n"
   ]
  },
  {
   "cell_type": "code",
   "execution_count": 29,
   "metadata": {},
   "outputs": [
    {
     "name": "stdout",
     "output_type": "stream",
     "text": [
      "['a', 'after', 'all', 'also', 'an', 'and', 'are', 'as', 'at', 'be', 'been', 'but', 'by', 'first', 'for', 'from', 'had', 'has', 'have', 'he', 'his', 'in', 'into', 'is', 'it', 'its', 'many', 'more', 'most', 'new', 'not', 'of', 'on', 'one', 'or', 'other', 'some', 'such', 'that', 'the', 'their', 'there', 'they', 'this', 'to', 'was', 'were', 'which', 'who', 'with']\n"
     ]
    }
   ],
   "source": [
    "wiki_count = to_counter(wiki)\n",
    "wik = to_vocab([wiki_count], k=50)\n",
    "print(wik) # 바로 위의 to_vocab을 잘 구현하였다면, 이 셀을 시행했을 때 아래의 정답이 나올 것이다."
   ]
  },
  {
   "cell_type": "markdown",
   "metadata": {},
   "source": [
    "정답: ['a', 'after', 'all', 'also', 'an', 'and', 'are', 'as', 'at', 'be', 'been', 'but', 'by', 'first', 'for', 'from', 'had', 'has', 'have', 'he', 'his', 'in', 'into', 'is', 'it', 'its', 'many', 'more', 'most', 'new', 'not', 'of', 'on', 'one', 'or', 'other', 'some', 'such', 'that', 'the', 'their', 'there', 'they', 'this', 'to', 'was', 'were', 'which', 'who', 'with']"
   ]
  },
  {
   "cell_type": "markdown",
   "metadata": {
    "id": "yDFcMVpkr8vM"
   },
   "source": [
    "\n",
    "출력된 결과로부터 무엇을 알 수 있는가? 빈출 단어는 중요한 의미를 전달하는 단어인가, 혹은 형식적인 의미만을 가지는가? \n",
    "\n",
    "\n",
    "---\n",
    "\n",
    "위 활동의 결과에서 추측할 수 있듯, 최대 빈출 상위 50개의 단어는 대부분 단순히 내용을 '연결해주는', 이른바 불용어(stop words)라 알려진 것이다. 이대로라면 우리의 TF descriptor는 다소 중요하지 않은 불용어를 중심으로 설명될 것이다. 따라서, 이번에는 to_vocab 함수를 업데이트하여 이러한 문제를 해결하도록 하자. 이번에는 input에 불용어 시퀀스까지 입력받을 수 있도록 할 것이다. 해당 시퀀스는 전체 vocabulary를 만들 때 제외되고,  이를 통해 최대 빈출 top k 단어에 불용어가 포함되지 않도록 만들 수 있다. \n",
    "\n"
   ]
  },
  {
   "cell_type": "code",
   "execution_count": 30,
   "metadata": {
    "id": "Rm3jxTMxsLrX"
   },
   "outputs": [],
   "source": [
    "def to_vocab(counters, k=None, stop_words=tuple()):\n",
    "    \"\"\" \n",
    "    [word, word, ...] -> 최대 빈출 상위 k개의 겹치지 않는 단어 리스트\n",
    "    단 불용어에 해당되는 것은 제외\n",
    "    \n",
    "    매개 변수\n",
    "    ----------\n",
    "    counters : Iterable[Iterable[str]]\n",
    "    \n",
    "    k : Integer\n",
    "        특정 값을 입력하는 경우, 최대 빈출 상위 k개의 단어만 반환된다.\n",
    "\n",
    "    \n",
    "    stop_words : collection[str]\n",
    "        어휘(vocabulary)를 구성하는 과정에서 무시될 단어의 모음\n",
    "    \"\"\"\n",
    "    # 여기에 코드 작성\n",
    "    vocab = Counter()\n",
    "    for counter in counters:\n",
    "        #update 사용\n",
    "        vocab.update(counter)\n",
    "        \n",
    "    for word in set(stop_words):\n",
    "        #pop 사용 (강의 내용 확인하기!)\n",
    "        # 여기에 코드 작성  \n",
    "        vocab.pop(word, None)\n",
    "        \n",
    "    # 여기에 코드 작성      \n",
    "    # 이 이후는 위에서 구현한 to_vocab과 유사  \n",
    "    # 최대 빈출 k개의 단어로 구성된,정렬된 리스트를 출력한다.  \n",
    "    # Hint1: counter의 most_common() 함수 사용하기\n",
    "    # Hint2: sorted를 사용\n",
    "    \n",
    "    # ________________\n",
    "    # ________________\n",
    "    # ________________\n",
    "    # ________________\n",
    "    \n",
    "    # return ________\n",
    "    \n",
    "    # vocab.most_common(k)\n",
    "    most_freq = [] \n",
    "    for key, val in vocab.most_common(k):\n",
    "        # print(key, val)\n",
    "        most_freq.append(key)\n",
    "    \n",
    "    # return ________\n",
    "    return sorted(most_freq)"
   ]
  },
  {
   "cell_type": "markdown",
   "metadata": {
    "id": "vnlR1sd5sNpH"
   },
   "source": [
    "아래 코드를 통해 MySQL에서 제공하는 불용어 데이터베이스 “stopwords.txt”를 list 또는 set에 저장해줄 수 있다. 코드를 직접 실행시켜보아라. 총 몇 개의 불용어가 존재하는가?"
   ]
  },
  {
   "cell_type": "code",
   "execution_count": 31,
   "metadata": {
    "id": "wJfGy6gNsOGP"
   },
   "outputs": [
    {
     "name": "stdout",
     "output_type": "stream",
     "text": [
      "['a', 'able', 'about', 'above', 'according'] ['your', 'yours', 'yourself', 'yourselves', 'zero']\n"
     ]
    }
   ],
   "source": [
    "with open(\"stopwords.txt\", 'r') as r:\n",
    "    stops = []\n",
    "    for line in r:\n",
    "        stops += [i.strip() for i in line.split('\\t')]\n",
    "        \n",
    "print(stops[:5], stops[-5:])"
   ]
  },
  {
   "cell_type": "markdown",
   "metadata": {
    "id": "C6da9k4xsPZN"
   },
   "source": [
    "이제 wikipedia에 대한 vocabulary을 다시 조립해보자. 최다 빈출 50개 단어를 유지하되, 불용어 목록에 해당되는 것이 있다면 제외시키도록 하자."
   ]
  },
  {
   "cell_type": "code",
   "execution_count": 32,
   "metadata": {
    "id": "REkgnTmWsQZz"
   },
   "outputs": [
    {
     "name": "stdout",
     "output_type": "stream",
     "text": [
      "['american', 'area', 'began', 'british', 'called', 'century', 'city', 'country', 'due', 'early', 'form', 'found', 'french', 'government', 'great', 'high', 'i', 'important', 'include', 'including', 'international', 'large', 'largest', 'life', 'made', 'major', 'million', 'modern', 'music', 'national', 'north', 'number', 'part', 'people', 'political', 'population', 'power', 'public', 'river', 'south', 'state', 'states', 'system', 'time', 'united', 'war', 'work', 'world', 'year', 'years']\n"
     ]
    }
   ],
   "source": [
    "#현재는 wik vocabulary\n",
    "#wik 에서 stops에 해당되는 것을 제외시킨 후 상위 50개 단어 추출\n",
    "\n",
    "# 여기에 코드 작성\n",
    "wiki_count = to_counter(wiki)\n",
    "wik2 = to_vocab([wiki_count], k=50, stop_words=stops)\n",
    "print(wik2) # 바로 위의 to_vocab을 잘 구현하였다면, 이 셀을 시행했을 때 아래의 정답이 나올 것이다."
   ]
  },
  {
   "cell_type": "markdown",
   "metadata": {},
   "source": [
    "정답: ['american', 'area', 'began', 'british', 'called', 'century', 'city', 'country', 'due', 'early', 'form', 'found', 'french', 'government', 'great', 'high', 'i', 'important', 'include', 'including', 'international', 'large', 'largest', 'life', 'made', 'major', 'million', 'modern', 'music', 'national', 'north', 'number', 'part', 'people', 'political', 'population', 'power', 'public', 'river', 'south', 'state', 'states', 'system', 'time', 'united', 'war', 'work', 'world', 'year', 'years']"
   ]
  },
  {
   "cell_type": "markdown",
   "metadata": {
    "id": "_Qgkv3FYsTF1"
   },
   "source": [
    "## **5. 개선한 BoW 단어장을 활용하여 TF 다시 계산하기**\n",
    "\n",
    "우리는 지금까지 함수 ‘to_counter', 'to_vocab', 'to_tf'를 만들었고, to_vocab 함수의 업데이트를 통해 vocabulary에 특정 불용어가 제외된, 가장 인기 있는 단어만을 고려할 수 있게 되었다. 이를 통해 우리의 TF descriptor는 보다 간결하고 분별력이 높아졌을 것이다. 그렇다면 지금까지 만든 함수가 완벽한 상태라 볼 수 있을까? 이번에는 이하 네 개의 문서에 대한 TF descriptor를 계산해보며 직접 그 성능을 확인해보자. 이때 MySQL에 등록된 불용어 리스트를 활용해야 한다.\n",
    "\n",
    "doc_1 = \"I am a dog.\"  \n",
    "doc_2 = \"I am a cat!\"  \n",
    "doc_3 = \"I am not a dog\"  \n",
    "doc_4 = \"I am not a cat, am I!?!  "
   ]
  },
  {
   "cell_type": "code",
   "execution_count": 33,
   "metadata": {
    "id": "Sykl246QsWEE"
   },
   "outputs": [
    {
     "data": {
      "text/plain": [
       "array([[0., 1., 1.],\n",
       "       [1., 0., 1.],\n",
       "       [0., 1., 1.],\n",
       "       [1., 0., 2.]])"
      ]
     },
     "execution_count": 33,
     "metadata": {},
     "output_type": "execute_result"
    }
   ],
   "source": [
    "doc_1 = \"I am a dog\"\n",
    "doc_2 = \"I am a cat!\"\n",
    "doc_3 = \"I am not a dog?\"\n",
    "doc_4 = \"I am not a cat, am I!?!\"\n",
    "\n",
    "word_counts = [to_counter(doc) for doc in [doc_1, doc_2, doc_3, doc_4]]\n",
    "vocab = to_vocab(word_counts, stop_words=stops)\n",
    "tfs = np.vstack([to_tf(counter, vocab) for counter in word_counts])\n",
    "tfs # 바로 위의 to_vocab을 잘 구현하였다면, 이 셀을 시행했을 때 아래의 정답이 나올 것이다."
   ]
  },
  {
   "cell_type": "markdown",
   "metadata": {},
   "source": [
    "정답: </br>\n",
    "array([[0., 1., 1.],</br>\n",
    "       &nbsp;&nbsp;&nbsp;&nbsp;&nbsp;&nbsp;&nbsp;&nbsp;&nbsp;[1., 0., 1.],</br>\n",
    "       &nbsp;&nbsp;&nbsp;&nbsp;&nbsp;&nbsp;&nbsp;&nbsp;&nbsp;[0., 1., 1.],</br>\n",
    "       &nbsp;&nbsp;&nbsp;&nbsp;&nbsp;&nbsp;&nbsp;&nbsp;&nbsp;[1., 0., 2.]])"
   ]
  },
  {
   "cell_type": "markdown",
   "metadata": {
    "id": "u0FPdUZ3sXoF"
   },
   "source": [
    "출력된 결과를 살펴보면, 우리의 함수는 불용어를 단순화시키는 데에는 성공하였지만 여전히 문제가 존재한다. 우선, 더 이상 ‘부정어’를 식별할 수 없게 되었다. doc_1과 doc_3는 분명 서로 다른 의미를 지니고 있지만 동일한 descriptor을 갖고 있다. 이 지점에서 우리는 BoW 모델이 단어 간 순서를 완전히 무시한다는 사실을 떠올려야 한다. 이러한 성질때문에, BoW는 부정되는 대상이 무엇인지 구별할 수 없으며 \"Ryan is taller than Megan\"와 \"Megan is taller than Ryan”를 같은 문장으로 인식할 것이다. 이처럼 BoW 모델은 굉장히 단순한 만큼 문장을 다소 거칠게 분석한다는 단점이 있다.  \n",
    "\n",
    "BoW의 또 다른 문제는, ‘어떻게 descriptor 크기를 일관되게 조정할 것이냐’이다. 비교하는 문서 간 길이가 다르면, descriptor의 크기만을 가지고 가중치를 비교할 수 없다. 대개 긴 문서가 짧은 문서보다 더 많은 단어를 가지기에 훨씬 더 큰 크기의 descriptor 벡터를 가질 것이기 때문이다. 단순히 문서가 길다는 이유만으로 더 높은 가중치가 매겨져서는 안 된다. 따라서 TF를 계산하는 방법에 변화가 필요한데, 기존의 토큰 ‘개수’ 대신 토큰의 발생 ‘빈도’를 기준으로 계산해보는 방법은 어떨까? 실제로도 TF에서 F는 ‘빈도’를 의미하는 frequency이며, 문서 당 단어의 개수가 아닌 빈도를 기준으로 중요도를 판단하는 방법을 의미한다. 우리의 함수 ‘to_tf' 역시 이제부터 개수가 아닌 빈도를 고려하도록 개선해야 한다.  \n"
   ]
  },
  {
   "cell_type": "markdown",
   "metadata": {
    "id": "_BOyg9q3suak"
   },
   "source": [
    "![image.png](data:image/png;base64,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)\n",
    "\n",
    "![image.png](data:image/png;base64,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)"
   ]
  },
  {
   "cell_type": "markdown",
   "metadata": {
    "id": "RSFhSey7tRv-"
   },
   "source": [
    "count를 frequency로 변환하는 과정을 포함하여 to_tf 함수 코드를 업데이트하라."
   ]
  },
  {
   "cell_type": "code",
   "execution_count": 3,
   "metadata": {
    "id": "Wkc1CdUYtMjD"
   },
   "outputs": [],
   "source": [
    "def to_tf(counter, vocab):\n",
    "    \"\"\"\n",
    "    파라미터\n",
    "    ----------\n",
    "    counter : collections.Counter\n",
    "        한 문서에 대한 The word -> count 매핑.\n",
    "        \n",
    "    vocab : Sequence[str]\n",
    "        우리가 다루는 여러 단어를 정렬한 리스트.\n",
    "    \n",
    "    반환 값\n",
    "    -------\n",
    "    numpy.ndarray\n",
    "        문서에 대한 TF descriptor.\n",
    "        이 TF descriptor는, 주어진 문서 내 vocab에 발생하는 각 용어(term)의 빈도값으로 구성됨.\"\"\"\n",
    "    \n",
    "    # 여기에 코드 작성\n",
    "    x = np.array([counter[word] for word in vocab], dtype=float)\n",
    "    return x / x.sum()"
   ]
  },
  {
   "cell_type": "markdown",
   "metadata": {
    "id": "gtjnv2qfs7x4"
   },
   "source": [
    "이번에는 counts 대신, 문서 당 frequencies 값을 사용하여 이하 네 개의 문서에 대한 TF descriptors를 다시 생성하라.\n"
   ]
  },
  {
   "cell_type": "code",
   "execution_count": null,
   "metadata": {
    "id": "ExfM9Hq9tUdx"
   },
   "outputs": [],
   "source": [
    "doc_1 = \"I am a dog\"\n",
    "doc_2 = \"I am a cat!\"\n",
    "doc_3 = \"I am not a dog?\"\n",
    "doc_4 = \"I am not a cat, am I!?!\"\n",
    "\n",
    "word_counts = [to_counter(doc) for doc in [doc_1, doc_2, doc_3, doc_4]]\n",
    "vocab = to_vocab(word_counts, stop_words=stops)\n",
    "tfs = np.vstack([to_tf(counter, vocab) for counter in word_counts])\n",
    "tfs"
   ]
  },
  {
   "cell_type": "markdown",
   "metadata": {},
   "source": [
    "정답: array([[0.&nbsp;&nbsp;&nbsp;, 0.5&nbsp;&nbsp;&nbsp;, 0.5&nbsp;&nbsp;&nbsp;],</br>\n",
    "&nbsp;&nbsp;&nbsp;&nbsp;&nbsp;&nbsp;&nbsp;&nbsp;&nbsp;&nbsp;&nbsp;&nbsp;&nbsp;&nbsp;&nbsp;&nbsp;&nbsp;&nbsp;&nbsp;[0.5&nbsp;&nbsp;&nbsp;, 0.&nbsp;&nbsp;&nbsp;, 0.5&nbsp;&nbsp;&nbsp;],</br>\n",
    "&nbsp;&nbsp;&nbsp;&nbsp;&nbsp;&nbsp;&nbsp;&nbsp;&nbsp;&nbsp;&nbsp;&nbsp;&nbsp;&nbsp;&nbsp;&nbsp;&nbsp;&nbsp;&nbsp;[0.&nbsp;&nbsp;&nbsp;, 0.5&nbsp;&nbsp;&nbsp;, 0.5&nbsp;&nbsp;&nbsp;],</br>\n",
    "&nbsp;&nbsp;&nbsp;&nbsp;&nbsp;&nbsp;&nbsp;&nbsp;&nbsp;&nbsp;&nbsp;&nbsp;&nbsp;&nbsp;&nbsp;&nbsp;&nbsp;&nbsp;&nbsp;[0.33333333, 0.&nbsp;&nbsp;&nbsp;&nbsp;, 0.66666667]])"
   ]
  },
  {
   "cell_type": "markdown",
   "metadata": {
    "id": "1HkxR21dtWCz"
   },
   "source": [
    "## **6. IDF 계산하기**\n",
    "\n",
    "만약 어떤 용어가 모든 문서에서 거의 같은 비율로 나타난다면, 해당 용어는 서로 다른 문서를 구별해주는 힘이 없게 된다고 볼 수 있다. 이를 달리 표현하자면, 문서 전반적으로는 자주 나타나지 않지만 특정 문서에서 자주 나타나는 용어야말로, 해당 문서를 설명해주는 의미 있는 지표가 되고, 해당 용어를 인코딩 과정에서 중요하게 고려하여야 한다.\n",
    "\n",
    "우리가 만든 현재의 TF-descriptor에 ‘IDF’를 곱해주면 위 기능을 구현할 수 있다. IDF는 한글로 역문서빈도라 일컬으며, Inverse Document Frequency의 줄임말이다. 아래 수식과 예시를 통해 IDF의 개념을 이해해볼 수 있다.  \n",
    "\n",
    "![image.png](data:image/png;base64,iVBORw0KGgoAAAANSUhEUgAAAtEAAAC7CAYAAACjOcISAAAAAXNSR0IArs4c6QAAAARnQU1BAACxjwv8YQUAAAAJcEhZcwAAFiUAABYlAUlSJPAAACPBSURBVHhe7d07durKFoXhxWkLcuBBC6AF4ISI1BmEkDgjJHMCIWROiUiMWgAtYDiw1BefWnqAJCQsgcTD+//uqHu2MeYhQMwqrSrVfgwBAAAAkNt/wX8BAAAA5ESIBgAAAAoiRAMAAAAFEaIBAACAggjRAAAAQEGEaAAAAKAgQjQAAABQECEaAAAAKIgQDQAAABREiAYAAAAKIkQDAAAABRGiAQAAgIII0QAAAEBBhGgAAACgIEI0AAAAUBAhGgAAACiIEA0AAAAURIgGAAAACiJEAwAAAAURogEAAICCCNEAgJK5MmvVpFY7tNbMDX6XdHxdr7Vm5jcAcL8I0QCAktVluPmRH2cqzeCS7fIzIxT713WmwTWbU1k75m83Q/MbALhfhGgAQDXqL9JrNv0gvV3K54mh5fpLT5omQDsmPLdJzwAeACEaAFAN+12WvQ8Z9/WHrYzebe/iNO7nUhpjRp8BPA5CNACgEvZqJ72XurTfgrKOxUrSY7Qrn8uGdNvBjwDwAAjRAIAK2LLa9cRk6KCsQy9byCotRbufsmx0hQwN4JEQogEA5bNXsuu9BOUZdRn6NR2ymByvuuGVcjAMDeDBEKIBAKULSzn22l3xS6OTEwwp5QDwmAjRAICSRUo59try5i1jt5VlNEVTygHgQRGiAQDlipVyHHjL2Jn/bkfv+wmGlHIAeFSEaABAqUyGlvEwGaGN+jBY7i6cYEgpB4DHRYgGAJTHnclEsssz2t1ggqGmaC3l6L1RygHgIRGiAQCl+bU8I5xguJjI4H0Zn3wIAA+EEA0AKImWZ4g8W8GPqQ4TDBdHkw8B4HEQogEAl3NtGbQsGW238uUkV4KOCycYNlMmHwLAoyBEA8CVuCZozgYtac1Oh8yH4s6kVatJzerIYutftOhYUqsNMk7xbXgTDJuUcgB4aLUfI/g3AKAKOkr7egiZzakjm7TVKwAAD4ORaACoWr0t882POF4tMADgLyBEA7iNsAwgbIPg4H/y8mhrtWQws+WoGOLU3+zbifKCK6k/NYJ/AQAeHSEawG3Uh7L5WUu/KdKfOvIzD5ZFi16+/hGtOAub8zEWWXbEqrUkVlZ84m/85si0uZPvP1SKbHoOYmt9daSj0BrMvA6Gaw+CyxPbCQBQGkI0gBuy5Fn/85SsDw4uT6jvyyJERlZyZDn9b3x1eemJfDnBjw/PXwmjsxDprU0HRDsKulEWI9PBqMnrSqTRpHQEAKpEiAbwcOrDD5k2FzIpMMxaH24kHOy+V649M+H4MLLsla/Yx8/RHviTFPvrjQzbQQdER+PX/tkA5fnNdDY2Jlyb3zN/EQAqQYgG8IB0ZLkp2+XncX10kpY2PEBNg5ZmWJ2lyDgYWTbNGTdk17GkFdaLe2xZLfS/fTk6MWBwNsBc2wUAcBFCNICH5E3S235JZRUaJnzvR4QTLZZpy2Duq7PYeiPL83Bk2ai3597o8nbRKdYRqGy72DJI2R7lt9tPAgWA3xCiATwm69k7613SopMIZFo4fA4TYA8TE+Ot3LIQV2YTfYwpI8uq/Sa6Mt529B4Ey7Z0vaqNlImS7re51Gg+y8kzb5+tLfOU7VF+m5t7AoD7RogG8JicLwnOXRJztDpHWCd8r9xPWeoT6XczgmNd/JXxFrIKhmfbb1PTgdjK6D0+Xmu/j8ylTZl+DDmdNgBUjBAN4CG537t8I65aEnHO7LprlnMUpZMInbX0dx2ptQYyGJjWqkln15ep88tkQtcVezaQVstfDi8pujzezZ8nANwxQjSAB+TK53Irzd5LdSOuVyvnCOy+808GdGcyeF3J84cjzkdXum9v8rYxj20zPxmgXdcW23Hk+2uROoqvt/va0bmN5racsUiHdaYBIAshGsDDsQeWjLZ9Gf+F9dvqL9LT4u7MyYCu6KD7oWbaldnrSBbbnXx9mhAtllj1eq7OhK6z3W635eU5fQ1pLQeR6Zt4cxvNdd90Pe5EyQgAwEeIBvAwdCT1ULbwVyaf1WU41rrtjHWv7XfTYRBparj1LjDX/1jL1PzJbtSRjmVCdFBm0moNZJZ2WvRc/KXzGpET33groCxWrJQBACkI0QBuw51Jq6YjysGKGmEBbvLyICBqs14neoo+cZJlC1m3dWe8Om5j++XEg257Ls60KduRFTu5ip58pdVZSLO/Tq/r7k9l7TjiOGtZm1TdkJ2MTLDWUB1fWzoHb2WPpjxHi8y9FVD+2unSAaActR8t8AMAVEjXV+5IcrE9XUkkWl+tofl9oqUawQXNvkzHb4ezEiqd+KfL9k2djAmTrsy03MVcJXn7IXfWEmvZM52RyCoeOpGys4tPTNTOibWU3m+TFQHgH8RINABULn195WTArbeHMtcJguF1dMQ9GqA1jJsAvZVT9eB1GfoLSQMAKkSIBoCHYYk/J3Ahk0FK7bPreqPZAz15S3Mqb0WKxjNOXgMASEeIBoCHUZfhxvHqn2U32U8o3LfXV3ldiXQ/HPmJlmrkUX+Shmzl62iJkIZE5hoCAALURAPAP8UVe/AqnUVD1rrCSSQg24OaTJ4jtdZaJ73qyk8lC2MDwGNjJBoA/hEakms1ywRonbm4kI6lPx9OqKKnE5fRu/gLhLgym+yk7y9OnYOG85Y3It6KLdWnEx2Dy9NKUADgQRGiAeAf0Z5HJi3uW2TljfpQPtYiEy9cv8pX7yPn2Rk1QL/L99tG1n1/Cb/w8pm5/Mlc/mN+sV2sMk4oAwCPhxANANirt+eyCcL1POe6du5MA7Su3e2fXbEZLDatwfpp7peMeGtkN58lugw1ADwyQjQA4HyuLZ9Pwclv3E9ZbpvSe6mbYD3wgrU/kG3L+2grzd5LscmOAHDHmFgIACiF1lx3dlNxPkTeP18OI9neiVxE1j9/5VTtAMBINACgFLasdHnq3pN8fj5FSkF0gqKePrFLgAbwpxCiAQAXc2cTWUhfevItT8NIXLbfZbRtyjQ484vrsj4HgL+BEA0AuJArn0tdNm8nJkHHRpxtf3haXrya6Zl8OtGqaFsGrYH5fwB4PIRoAMBlvNFmPdP4h0QHoQ8lHi9SNwF68P4U+72OXu96b5R5AHhIhGgAwEXs1U6azb6Mj5bEs+S5KbIdvcpAJxruF522ZVCriWWS93ZkSa014yQsAB4Oq3MAAG5ASzlW0t2wYgeAx8RINADg+uyV7Bqs2AHgcRGiAQBXpxMOG10iNIDHRYgGAFyZTjjsCxkawCMjRAMArsteycI7+Yotts2UQgCPiRANALgq93snslvJzLak3U6u6AEAj4HVOQAAAICCGIkGAAAACiJEAwAAAAURogEAAICCCNEAAABAQYRoAAAAoCBCNAAAAFAQIRoAAAAoiBANAAAAFESIBgAAAAoiRAMAAAAFEaIBAACAggjRAAAAQEGEaAAAAKAgQjQAAABQECEaAAAAKIgQDQAAABR0JyHalVmrJrXaobVmbvC7pOPreq01M78BAAAAqncnIbouw82P/DhTaQaXbJefGaHYv64zDa7ZnMraMX+7GZrfAAAAANW7r3KO+ov0mk0/SG+X8nliaLn+0pOmCdCOCc/tCtOzO2vJwA5+SJH+ex0tb4k/mG7L4N5Hye3BiZH/YnR7lHVbvzKPuxZufHcmLY5GAACAK7mvEG2/y7L3IeO+/rCV0Xt2enU/l9IYnzn6rOErWQ4SaVcLgTnYg/THGGunUr4nGuofiemApDzfS1+fqwZ9AADwJ91ViLZXO+m91KX9FpR1LFYmRqVx5XPZkG47+LGo9lx+fn6C5si02Zf1/ucf2QxPR3MNYWGgs0ZbWXQOAe/XPHuG/vrw2I7a2utx3EZKZ0S3x3ZkHV1+3nZpyzzxfPdlPGfT9455jJnlQgAAAL+7oxBty2rXE5Ohg7IOvWwhq7Tw5X7KstE1EasMjnxtd/JdIFHVh5tYqIuG3Hk5D+oxxDojpmlNe38t635TplqnHvldWdvF+RKvo3UeHZG3ZNlz5Gf8JRblHwAA4Ez3E6Ltlex6L0F5Rl2Gfk2HLCbHQccr5Th7GDrB/ZadbOXLCX+eSSsygqojq/hFuM1eRT5MWm7PP0ReLxmBzmI6WouGPBXO0GFZiD7A4EiDdgC8h6mXDzKOeAAAAKS7mxAdlnLstbvil0YnJxheWMqRYL+PpDGdyi4M6/WhbCIjqL+VDzhfW9kVGcY+Q7Rc5Kh1FsG1TtCR++1WlvsNmag1znMbRyK34WVTs732K6QEq62Yy7qr8H5KCKra0Zq+5T8Cse8QTeTZGxnfSKxSZ/9ad2XlXe8R68YBAMAt3EmIjpRy7LXlzQuw0fBnHJVy+OtGnzVRzB5IR9YyHw5l3BjJa+HbcOV7Zx5hMIx9qJW2pKwB7PbcD6Mn2y+1EjpyL33TJdnXASdqjc+qq47cRmR5weSkvcPjn+cPv6lMaO+IjH+pV4/Zh+REeD4SPpffrgcAAOC7jxAdK+U48JaxM//djt73o5jHpRz+qOdvkwGP6KS4ybM4QQBtzx3pLa1iYdx+l1FjKtPdxBvBPNRK62TF4Do3Z8v7qCHj+dzrKJxY8OSOaUepkz4Kvej4HRdrZLpbAAAA13EXIdpk6PQRxvowWO4unGBYTimHt2zcqps4QYsfxsdfVo4l45SOjO5k+jaU4bgho9cyJ6klyi1yt2TJhB8+Ze2PArfna5FOGSUL2Y8va3UOv51X0mEPLNNZWad3lPprv+MSOVGPr6xtCAAAcOz2IdqdyUSyV9pod4MJhpqitZSjV6AmNoNXYpBRAnHqd1H2QEdGP/zD/+25rM8qB8lyvLTbvmnpRRgcj1q8ZELDp65EcXg65nadniytS4P0icd3shUt6fCDcGc33R8xyC/7MWqde3PqpP7u8rITAADwL7h5iP51pY1wguFiIoP35QXLm6XRkdriI486kj15dmIjoxq+dRT7Pk7i4deJJx+jR+uEvSBd4ohrYkWTaLtkdQ7tqCy0w8Ap3QEAwJ25cYjW8gyRZyv4MdVhguHiaPJh9bTOOTkIqoE5rbQg6/LzaRg+Z9T4lzpxb8JdOSOu3mTKcHWOo+bI88SE6TOTdN6jAgAAANd2uxDt2jJo6SoWukbz6ZQYTjBspkw+/Ofo+sZ3Eyz9GvV15kixhvm19DPPPAkAAPCYrh+iw0P/VkcWwXIKi45ORDtRXuBNMGxmlHL4pQv3UUbxr6nLS28nncwz//kTGxf9ss4uCQAAcB+uH6L3a/cm2+nygvY8aw3fM5e421tIJ1HHe9RuenrorYyslMcUa7dbUcJb1m9/5r9ks+RrbF5bSjIAAMAfUzMB9if4NwAAAIAcbr46BwAAAPBoCNEAAABAQYRoAAAAoCBCNAAAAFAQIRoAAAAoiBANAAAAFESIBgAAAAoiRAMAAAAFEaIBAACAggjRAAAAQEGEaAAAAKAgQjQAAABQECEaAAAAKIgQDQAAABREiAYAAAAKIkQDAAAABRGiAQAAgIII0RVzZy0Z2MEP1+LOpNWaiRv8eH9sGeR6fK7MWi2ZpV3x7p9jCeyBtFKffAElbid9L1/8ePIwz7sWfmj+hdcZAPCQCNFeUKtJrZZoeb649Qs+8jfVBwwTPiP3F2slBg17kHL7yZbSM9CQlXrdoF2zM1F14Dt3G8Wd6CTkcvx+uHqH7Szp7+MyXq+rBX0AwD/v3w7RXgi25Gv8Iz8/iTb+Eqt2IuDo31pL6Tnh3zjSW1oVf4G3ZZ58nNqcqTQbT1IPrlWG/jrlfqJt3g6ueVAfbiLXWUvf/G8d+ZuUP3loJ7fRuh9cqyLee7cjZgNH7nct0impM6ejwYmQa422sh1ZR5cXD+7H72Nn2gx+dwlXPpfmMS4/S+tQAgCQ5Z8O0fb7SBomhKSGu/bcBKGGjN7TE4L/txsZ7pNrXYabtTRG73L1wUDnS+TZCn64E+637Mz/vgulmeRRAUtG262MrOhll4zc/h3p710NpyW9B/X9Hw262lHrr2Xdb8p033H0WxmdI30L914u6Qbqe8eSZc/xO8CUgAAAKnbDEO2KPfAP/8dHzsyXYXj5wL7TL0JbVou+dI/CQ1u6/YWsykjR0brQX9ir3YUBpHz2+1J604YsPzNewe1ILC8UDyKBTzsi8YB23KIdl3+VK9+7Zka/yZLnZtHOywlhydKryIdJy+35h8ir36Epr3REP08NeTrrdQ1LQ/QB/shG3xzaAfAeZvL9BQBAeW4UojVAv8v320b0qPf2y9lfPjOXP5nL9XD4drGS8DdVaM/9w9+pYUBDbGcn07eMYbbms4krx6znMg5LF2BCzkTGpQfLhdkuh9HflHZipE/rUjv6mIZvXolL6vZtTsXxQvHcdD1SJMsJzhhZTCs9iLfLAtbJbdRZBNc6wf2U5XYb6WgkaoUzb6MuT42t7D82MY58bc8NpKHI4/CyqXmdNsOgXOjQ0emuwsd6YVC1V7KbvqW/D7KE4b42kWdvZDzRuaoPZeO9v7qy8q7HEQwAQLluEqLdmQboufnS0xE1zaN+HNVg/TQ3ocp8Gbr+L1KDapxfAnBeHah/+FuD9D64hE0DtJMx6umVKmSLhiutIy0mKGnQALXo+LeTGSBN2NG67LSgvx/pLb5t2nM/JJ1s+1AV5T92a9kTxzvG75e4eNu3wLClN0HRK/c93J/TWxY6RB+vz85qGQE+h1zb6Jc6B/dzKdI3vch9DW+iVvhEXXX7bSq7TjIYavjtFA+kRyKPI/I6JyftHbbB+dvRe8zmtR4X7QXuQ/JvRybC58IRDABAua4fol1bPp80QOu/dSSu6ZUiuLOBF6z9L2Nb3k34bPZeUoJakj8y5h3GPdd+VDRsjpyc51R/kkbwzzTRCWfFJ0wFI30aoPpr/3YyA6sGpo/0cBB5Tvm2TWIUNHc7jELaA0tGDfOYY49XQ4zZnrtOzjCvr33DBOh4MNNQvG6MJFaiHukolFdacC3+8xybTuM4+bzy8ELkWL5i9eL+RMOLPgtXFb6HU0J/2IG0RlK0GwoAwDVcP0TX2zIMvjF1ctS22ZMXmcm7vB3CoL2ShfSLj07lkgyLHVlEwpjf0ia0JQ5Zb79SS02cr2t85etz8CdRlReYEqOgudsh7Hojk6mjrwU7OidKZXbRYt9IR8G/28s7AqeVdft+eJS1v+38sqJzyg2OX7NfBr9zyH6OWatz+K14SUfY6Up9X4QdSJ3QGFx0UPXrDADA7244sVAnE5kc1HuSz88nme+/SE3AmJhf9LvHo1OluDws6m2kTiDU+uTUCYfl8UodHm7EMcm8Bqmj64ETHZTGyWLfMl7bU07cfvTIwVGL376GR+0AHQKvuV2nJ0vrHup2q96Gyg/BnZ3pBJ2V+rMfox75aU6d1N8Ve4wAAJx2sxDtzibeaHNPvuUpHJpW9ruMts39hD7XTaYK8wXcKnFEaT9BKdlOB5rjmlQT/l9HYh54dV/U9kAsr9ShnGXFTsrcLnlLJ7JHC0+XdbTlbbqTTmLU0JusaEJX1jzPx6Aj0DWZPKccQdDyDC9I39lo6cXvg2P2oCML7XCc6kgBAHDnbhSi/ZMiiE7PexrGQqftD0+Lt2Kb+QL/dOJfsxq+d71ygqo3qhuuPnDU/KW8MgPfPvSEoaLs8ooU3tq91Y+mnd4ujjxPzPM9laC8lTVW0k39+x/5kNeTq214kwK9+YiHwGZ9jQuFruQkuHJpGD5n1PiXshavzvl+Rksvfh9kyC77AQDgcdwmRHujzVrS+rGvj/aFJR4vUjcBevD+FPm9P7K5r8s8Y8mzOA3yItOPrGBmAs/HNLJyQor9CgF+Kz1A774vfI7n0O3SkHVmYNUguJb+YpU5YqodoX5Q75umPvyQqSwlawlpT/JkH/ceuvTxXuUx+qPZYefiVLusE3H5+wAAgL/sJiFaTw7SbKZNHNQTReiiC68y+HyReSyUaB2k+dI2f+ctfbb/cvdDRfHAUJeXnsjoNSuMB+UZuVYIqUD7zQTNYMLjxR2GInS77KSTeZ+6vfVwfHbNervbl0Ws1CXOm1AmwdEGFOSPZsc6GBntsk7d5e8DAAD+spuE6PZ8I5tN2khlGBA2kYmGEXpShkbyS9v/m3MCg1c2sD+zWbJFzoB2E5GwdOXa0dPbxZKvsXlMp0ZdvVHk5PJrh6Y1wdd4TtWebCW5ektae+zVIC5+HwAA8IfVTEj7Cf599+xBTVbdK0yqAwAAAE642eocxWm9dLXLxwEAAAB5PE6I1hOwePWXttj29SqEAQAAgKSHCdHu905kt5KZbUm7fas6ZQAAAODBaqIBAACAe/BANdEAAADAfSBEAwAAAAURogEAAICCCNEAAABAQYRoAAAAoCBCNAAAAFAQIRoAAAAoiBANAAAAFESIBgAAAAoiRAMAAAAFEaIBAACAggjRAAAAQEF/N0TbA2nN3OCHvFyZtVri/5n+eyC2d/l9cmctGdzzAzyLLYPWzGz929HtWvy9c10Xv/buTFo33s4IRfc7t37/Rx9LUgmPzeyXaxfutKre7z3K5//eHyPwL3jQEG125rWa1IKWe2eiwWH/dxqQo7dTRWDWL6Tw9iMtzxdR7LEWeI4XqmznnBXaCoY5fXyxbZnWfv2GPRUUypLx2p98n2X9jbYi78/450PbX+ps2YNynk9Zt5OX3l9Vr0euz0XQKvl8azhOuS+/FXjvVr3fS9x+rn1xRLXh9cTn/9LOC4BK3ChEXzKioQGhI7L+kZ8fv42/rPw7tuZUHO/v5tL2Luibm4r+XBJvZ23J1/jwOPdt/CVW7USI07+1ltJzwr9xpLcs8Bz/uH7ktU9t81JfyeK8QJHx2jvPMjFfiukhqi7DTcrf/KzNuzQn730X/3zo30vneh0xHNPw1ZF15PUotxNXH24ir/fpthnWg79SyeBmyWi7lZEVvSznY+2Hzy/Zcu5bq97v6efS+pJx9LF5++IqBlDOkfH5X/el2XsxvwVwb243Et14OmunYA86sps6Es1J7flaGqP3O9kR+uz3kTRMkEnNc+252TE2ZPSe/oj9v93I4btOd6739xyRxoSSyU6mJgikvvb1oWycqewm1Ywspb/v2jI3wY33z63Y8j5qyHr/opjX48Tn/xI62p0WOr2R6tSeW1bHLdqi+6LqVLvfCz+XiUBv9sXOdCeTO+5g2qud9F6I0MA9um6IDg/5DVbmh1VwyLnIiIwr37tmyg6lLd3+QlZ/IiHYslr0pXsUwEp6jiXUJJ5tOxJrP7oVNGsk2+DX1+PI1/Xv9Ar8z8ezFfwYY8lzcyff95sV/i73W3b9bjy8Wc/S3H2X3pGynpuy/XKCn+Ka6W+MvWi5id+qLnmKqni/533mG/KUkkXrT43MbXZz7kwmMr5KJwZAcdcN0ToCqyMbXZHFQqRbeJQje0eoXx67O0oIOjquh9BT86oG2c5Opm9H3xi+5rOJPMf0OV7DdmQlvkyT7czDn/tSmkhzpnL0rPZhu6LDrBpqTHRfflbxfqnLcNzwDoenvvbeIeuRNMbDs47EnFaXp8ZW0vNA9mcHFXO+jjuK9SdpbL/Mq1IuDYRpHNNrbJx48TVAH8pNwjaWLysRpKv8bFa638vuRLrfu187GFGV7R+P2DLQ8hPvCEZ8noM1+pOjAMDDuUE5h9kZTJ7F0drQc+qiM3a0WV8exYX1gFobGFx0Fv8Qugbp+A7WNA3QTkbnwQt42RaR2yu2Iw1qHzum97Lo+LeRsv3z1VaWXD+edFS3Xi49bCz9vkhV5Q1eZ9GR58nhtdq3oCYztdQjfI2Sf1PriHnVcmm/TWV3VG/rzyPYTd8u2p7pE/H8xxy7PDziFLa0z7lXu511nXhgyBoRjY+cRq+jjynlb349CnP6fv3nf3iN9KbSt8nx5ekhbWF2D3pbl+5rLuWPAh/KTUJtMW+neGezqs9mZfu9UNi5TQRc856wRg0Z5xzJud7+Ud+LE3nel5/o98nhPpzpdQZUAJx29RCtNc1mjyX1+lA+ekt5Tft2PCVj9EZHE8rR9OpZNQSVsp86Gn395XZ1hCr4Z5ropLpiO9Kg9nFtwmM4AWhTxWho9aJfqKntVOfMfGl2TGAYz+cy7i8qrIXMqjX97Qs2fP8V/buA1lx7I4jRbeJPNIxPKCuu3e3LInlc3f2UpUwlPKji1d6uuvHHnpy8pWH2VeQjep3Ie9GdfQdHqYLm9GT5Gn9Nd5OWrLqJ6yQDUkF57nfR8R6493vNnKnbREPp7rBNVHq5QDip+fJ9zb5DEe0kR5p/cfDzUer3SyaOPwtay316BDsm5X79lt4JiqlsvxehndtgYu/+semATtkdggv5r+XKvBevU4sO4HxXD9Ht+WEUTnv1xb7Ysw/J/Xa48jqSI1kdWRzVAafNfk98+Wd0FPQ5ViP5uPO2gqGlhJroXCNBmZ0D8zxNmuiv/S9Nf0KqlTqS+Njio1ba0ke+C2q/yXQ3iQUi93Mpsl85IDmBLmDCy3pf16qvgcn0Jzpw9eEwHmrqL9KTxGei9xF/Ttopv3CCWJ77bU4/4sEmbZvMJrKLrqag9c/BP/d05DXjqNo5dL8afb21adhsTp2jy9NWr9G/11WOYp9NbyQ053snLNXzmq4mE3YQtOUMg9fY73mdzPBxmZZrIOFK+8fgCI7fObyvYA8g3Q3KOS5Rl5de4vCiJ2tSyrUdh5d8LbrDzJhIoxNMKnuOZTzuXyS/vKLtGiPiXvlAcmUX87x1pYxOGcu/XemL9qaSnz8/NO8PhZ8IhvsR27zhMQgUfjsud0jrMJcyQazw/Sa3iSt+vyJyPR1lXazir7PWSZ+5QlFVjoN4Mvyaz0tln9Xr7vfSy3D0MzwQ52hw5wr7RxV0RI47LRnlSQBu7sFCtGaxcWL0UHcwBeo9I6Ohrdm3uSCsS9SfL/wCTkrWfe7b6R3icV2reY6vI5ELa1rvgoaUGwz9enXQJkAfHfnQcG+C9OX10dlftJkjgl57rBGnup8Y/RIHeyWL5KoTFwtqjmMlIfnKHYpOEIs7/35j20TLWxrJ1RS0tngnnf37XkfjT0wsvpVYByKjnTOPJadr7/fSJ6Lf4wo2Oim4qonQAC7xcCHaDyvRCXuWLHsp4ShNYjR0MxzGgs9mWNbBVbP719rQZN3nvn2IvJ4Y/fSCndZ4nvEcL1TtGbnyqGa0S0fZMref9764lzCbLPWJt9u+NobZVuPGUvT7XNevjQXBEytO2KuF9HU48bdVKYIaayc2HJdvScJDSZeuUuJfFnVy3sQF9+uXfQTbRNc6Thk21TKktYQ1w149y13Wu2Z39rQVOOnPOa6239Mjl+aTFnZ8Qtop/GXVnlvsH715RGs98cyho1+8FBJAFR4wRKv4qN/97Uz8Q7rTj6wwWJfhhzftPXtU5yjwl/gcK1iftlr/QqmEypqMeGjZ74NgJDV1O8TbpSGg3dUThQxktetJfMn25IhrwB5IZz/RLuM6UYmQrSEiuTrJIjZiacTuwytDjp/MxJ3J62+rOuS433T+yg/Lz9nRhMKoaLlErjrjXLI/G7qKRfZybOV9NrwBg9ht63Y7HOHbtzxHoKrc7wX8UPoj68ZIrP1jMp8fPRnLuoyjUuXRspPJs5ag6XeGToqkrAO4Jw8aou+dXyc5SszsPwgOU97iVK46EUqCkpYKD82W60o1iQ/t9wAetouDiTeZzsTLlLWudYTMeZ7Ew5OugBA5upB6nTDMaIjyDjQdfrfqHpdV9NeJFUhS7uMw8muaHhXSlWmy5LzfTO2uNEaj+ITCq7j9Z0O3dfp9JFp5PYezaSjV9bD1oWinxnuPDGamA6qn6d/IsB2+D27cAQ9Ka3SS4f7z6nUwgvf9w+y7gb+NEF0R74vFq9o4fCkfmr9MVhWjLL+LhK2MsonKTyaQuRTWoeUZtMKt+O+hrEx0FKpS3mdH14neWGylB70fvb9D6NPwM28nwmPKfcQmyunv9XYj9+PfTvCDynW/wQ9HdOWgfu71hu/V6c9+/vXK75GOmHsnlIm9B0xHaTcyATry2ur7QIN0RlCtdv8YHFnwlt5Le78F73tv2Uj2k8Ct1cyXxU/wbwDAOXTkUCclZqdsAMAfQ4gGgItoPboeXeLkGADwL6GcAwDO5J9dTleRSJyEBQDw5zESDQAAABTESDQAAABQECEaAAAAKIgQDQAAABREiAYAAAAKIkQDAAAABRGiAQAAgIII0QAAAEBBhGgAAACgIEI0AAAAUBAhGgAAACiIEA0AAAAUIvI/+XrQGZeHuTQAAAAASUVORK5CYII=)"
   ]
  },
  {
   "cell_type": "markdown",
   "metadata": {
    "id": "wH9tc1x-tkS5"
   },
   "source": [
    "예시로 두 개의 문서 \"apple strawberry\", \"apple blueberry\"가 있다고 해보자. 이때 우리의 vocabulary는 순서대로 ‘apple, blueberry, strawberry’가 될 것이다. 그리고 각 단어에 대한 IDF 값의 배열은 $[\\log_{10}\\frac{2}{2},\\log_{10}\\frac{2}{1},\\log_{10}\\frac{2}{1}]$로 표현할 수 있다.  \n",
    ">이번에는 IDF를 계산하는 함수 ‘to_idf'를 직접 작성해보자. \n",
    "\n",
    ">해당 함수는 input값으로 ①순서대로 정렬된 vocabulary와 ②각 문서의 단어 수(Counter 인스턴스 형태)를 포함하는 list를 취한다. output으로는 모든 용어에 대한 IDF 값 배열을 생성해야 한다.  "
   ]
  },
  {
   "cell_type": "code",
   "execution_count": 34,
   "metadata": {
    "id": "UWBGeyc6wJkj"
   },
   "outputs": [],
   "source": [
    "def to_idf(vocab, counters):\n",
    "    \"\"\" \n",
    "    위 함수는 주어진 vocab과 각 counters(문장의 단어 수)는\n",
    "    우리의 vocabulary에 포함된 각 용어(term)에 대한 IDF값을 계산해준다.\n",
    "    \n",
    "    매개변수\n",
    "    ----------\n",
    "    vocab : Sequence[str]\n",
    "        우리가 관심을 두는 단어에 대한 정렬된 리스트\n",
    "\n",
    "    counters : Iterable[collections.Counter]\n",
    "        문서 당 단어 개수를 매핑시킨 것\n",
    "    \n",
    "    반환값\n",
    "    -------\n",
    "    numpy.ndarray\n",
    "        'vocab'의 항목과 일치하는 배열로, 각 용어 't'에 대한 IDF를 저장함\n",
    "                           log10(N / nt)\n",
    "        `N` : 문서의 개수\n",
    "        `nt`: 용어 t가 존재하는 문서의 개수\n",
    "    \"\"\"\n",
    "\n",
    "    N = len(counters)\n",
    "    nt = [sum(1 if t in counter else 0 for counter in counters) for t in vocab]\n",
    "    nt = np.array(nt, dtype=float)\n",
    "    return np.log10(N / nt)\n",
    "    "
   ]
  },
  {
   "cell_type": "markdown",
   "metadata": {
    "id": "NoFlkx_awPw3"
   },
   "source": [
    "위 함수를 활용하여 아래 두 문서에 대한 IDF 값을 구해보자.   \n",
    "doc-1: \"apple strawberry\"  \n",
    "doc-2: \"apple blueberry\"  \n"
   ]
  },
  {
   "cell_type": "code",
   "execution_count": 35,
   "metadata": {
    "id": "cvgTBRybwRxB"
   },
   "outputs": [
    {
     "data": {
      "text/plain": [
       "array([0.     , 0.30103, 0.30103])"
      ]
     },
     "execution_count": 35,
     "metadata": {},
     "output_type": "execute_result"
    }
   ],
   "source": [
    "doc_counters = [to_counter(\"apple strawberry\"), to_counter(\"apple blueberry\")] \n",
    "to_idf(to_vocab(doc_counters), doc_counters)"
   ]
  },
  {
   "cell_type": "markdown",
   "metadata": {
    "id": "Of1wbSatxGaA"
   },
   "source": [
    "## **7. TF-IDF 계산하기**\n",
    "\n",
    "앞서 TF에 IDF를 곱함으로써 6번에서 언급한 문제가 해결될 수 있다고 하였다. 이때 TF가 행렬의 형태를 띄기 때문에 둘을 곱하기 위해서는 행렬곱의 조건을 만족해야 하는데, IDF 배열의 모양이 descriptor (N_t,)  각각의 모양과 동일하기 때문에 조건이 충족된다고 볼 수 있다. (이때 N_t은 우리의 vocabulary 내의 용어 개수를 나타낸다.) 즉 IDF 배열과 TF descriptor 간에 행렬곱이 수행될 수 있다!\n",
    "\n",
    "이와 같이 IDF 벡터와 TF descriptor를 행렬곱하는 가중치 산정법을 ‘TF-IDF'이라 부른다. 우리는 TF-IDF를 통해 기존의 TF descriptor가 갖고 있던 문제를 상쇄시켜주어, 각 문서에서 실질적으로 중요한 용어를 강조할 수 있게 된다. 실제로 ‘TF-IDF'는 문서에 대한 숫자 인코딩 과정에서 매우 인기 있는 가중치 산정법이다.  \n",
    "아래 $TF,{\\rm IDF}_{t,d}$는 문서 d에 있는 용어 t에 대한 TF-IDF 값을 의미한다.\n",
    "\n",
    "$TF$,${\\rm IDF}_{t,d}=f_{t,d}\\log_{10}\\frac{N}{n_t}$\n",
    "\n",
    "아래 네 개의 문서에 대한 TF-IDF descriptors을 계산해보자. 이번에도 마찬가지로 vocabulary를 만들 때 불용어는 제외시켜야 한다.\n",
    "\n",
    ">doc_1 = \"Apple cider is delicious.\"  \n",
    "doc_2 = \"A recipe for apple cider, using apple.\"  \n",
    "doc_3 = \"Donuts are delicious\"  \n",
    "doc_4 = \"Apple cider donuts, anyone? Donuts?\"  \n",
    "\n",
    "결과는 아래와 같아야 한다.\n",
    "\n",
    "\n",
    "```\n",
    ">>> vocab\n",
    "['apple', 'cider', 'delicious', 'donuts', 'recipe']\n",
    "\n",
    ">>> tfs\n",
    "array([[ 0.33333333,  0.33333333,  0.33333333,  0.        ,  0.        ],\n",
    "       [ 0.5       ,  0.25      ,  0.        ,  0.        ,  0.25      ],\n",
    "       [ 0.        ,  0.        ,  0.5       ,  0.5       ,  0.        ],\n",
    "       [ 0.25      ,  0.25      ,  0.        ,  0.5       ,  0.        ]])\n",
    "\n",
    ">>> idf\n",
    "array([ 0.12493874,  0.12493874,  0.30103   ,  0.30103   ,  0.60205999])\n",
    "\n",
    ">>> tf_idf\n",
    "array([[ 0.04164625,  0.04164625,  0.10034333,  0.        ,  0.        ],\n",
    "       [ 0.06246937,  0.03123468,  0.        ,  0.        ,  0.150515  ],\n",
    "       [ 0.        ,  0.        ,  0.150515  ,  0.150515  ,  0.        ],\n",
    "       [ 0.03123468,  0.03123468,  0.        ,  0.150515  ,  0.        ]])\n",
    "```\n",
    "\n",
    "\n"
   ]
  },
  {
   "cell_type": "code",
   "execution_count": 39,
   "metadata": {
    "id": "l1XvtEo2xzdq"
   },
   "outputs": [
    {
     "name": "stdout",
     "output_type": "stream",
     "text": [
      "[[1. 1. 1. 0. 0.]\n",
      " [2. 1. 0. 0. 1.]\n",
      " [0. 0. 1. 1. 0.]\n",
      " [1. 1. 0. 2. 0.]]\n",
      "[0.12493874 0.12493874 0.30103    0.30103    0.60205999]\n",
      "[[0.12493874 0.12493874 0.30103    0.         0.        ]\n",
      " [0.24987747 0.12493874 0.         0.         0.60205999]\n",
      " [0.         0.         0.30103    0.30103    0.        ]\n",
      " [0.12493874 0.12493874 0.         0.60205999 0.        ]]\n"
     ]
    }
   ],
   "source": [
    "doc_1 = \"Apple cider is delicious.\"\n",
    "doc_2 = \"A recipe for apple cider, using apple.\"\n",
    "doc_3 = \"Donuts are delicious\"\n",
    "doc_4 = \"Apple cider donuts, anyone? Donuts?\"\n",
    "\n",
    "# 여기에 코드 작성\n",
    "word_counts = [to_counter(doc) for doc in [doc_1, doc_2, doc_3, doc_4]]\n",
    "vocab = to_vocab(word_counts, stop_words=stops)\n",
    "tfs = np.vstack([to_tf(counter, vocab) for counter in word_counts])\n",
    "idf = to_idf(vocab, word_counts)\n",
    "tf_idfs = tfs * idf\n",
    "\n",
    "print(tfs)\n",
    "print(idf)\n",
    "print(tf_idfs)"
   ]
  },
  {
   "cell_type": "markdown",
   "metadata": {
    "id": "X2BT-hZDx2IG"
   },
   "source": [
    "## **8. 유사도 계산하고 TF-IDF 성능 확인하기**\n",
    "\n",
    "지금까지, TF-IDF 가중치가 적용된 BoW 모델을 기반으로 여러 문서를 동일한 길이의 descriptor 벡터 세트로 조정하는 방법을 배웠다. 이 방법을 통해 우리에게 친숙했던 분석 방식과 머신러닝 기술을 NLP 문제를 해결하는 데 적용해볼 수 있었다. \n",
    "\n",
    "이번에는 문서 유사도를 평가해주는 간단한 거리 측정을 진행해볼 것이다. 이때 유클리드 거리를 사용하는 대신, '코사인 유사도'을 사용하여 descriptor 벡터 간의 '중첩' 정도를 측정해볼 것이다.\n",
    "\n"
   ]
  },
  {
   "cell_type": "markdown",
   "metadata": {
    "id": "Moytuerix7yr"
   },
   "source": [
    "코사인 유사도 = $cos\\theta=$${x•y}\\over{∥x∥∥y∥}$  \n",
    "\n",
    "$\\parallel x\\parallel$: x의 크기 ($\\parallel x\\parallel=\\sqrt{{x_0}^2+{x_1}^2+\\cdots}$라는 식이 성립함.)  \n",
    "$x•y$ : x, y 두 벡터의 점 곱(Dot product)\n",
    "\n"
   ]
  },
  {
   "cell_type": "markdown",
   "metadata": {
    "id": "CFKBXhqdzTww"
   },
   "source": [
    "이것은 문서의 특징 공간에서 두 개의 descriptor 벡터 (x, y) 사이에 형성된 각도  $\\theta$를 측정하는 수식이다. 만약 문서들이 서로 유사하다면 descriptor 벡터들 역시 가깝게 정렬되어 있을 것이다. 이번에는 코사인 유사도를 직접 계산해보도록 하자. 아래는 이차원 배열의 모든 행 사이의 코사인 유사도를 계산하는 코드이다.\n",
    "\n",
    "\n",
    "\n",
    "```\n",
    "from sklearn.metrics.pairwise import cosine_similarity\n",
    "\n",
    "cos_sim = cosine_similarity(tf_idfs)\n",
    "\n",
    "# set diagonal of `cos_sim` to 0\n",
    "np.einsum(\"ii->i\", cos_sim)[...] = 0\n",
    "\n",
    "```\n",
    "- tf_idfs: TF-IDF 벡터들의 배열 (크기: ($N_{doc}, N_{vocab}$))\n",
    "- cos_sim: 문서 간 코사인 유사도 (크기: ($N_{doc}, N_{doc}$))\n",
    "- cos_sim[i, j]: 문서 i와 문서 j 간 코사인 유사도\n",
    "- 대각 행렬의 경우 각 문서 자기 자신과의 유사도를 나타내기 때문에, 모두 1이 될 것이다. 이에 따라 대각행렬 값을 0으로 설정하면 이러한 사소한 문제를 해결할 수 있다.\n",
    "\n",
    "아래는 우리가 분석해볼 일곱 개의 문서이다.  \n",
    "\n",
    "\n",
    "\n",
    "\n",
    ">doc_1 = \"Cogworks students learn about artificial intelligence in the form of audio processing, face recognition, and natural language processing.\"  \n",
    "doc_2 = \"Some people think CogWorks is a intense, but these students are simply passionate about artificial intelligence.\"  \n",
    "doc_3 = \"Racecar students are learning about autonomous racing.\"  \n",
    "doc_4 = \"UAV kids are learning about autonomous aerial vehicles!\"  \n",
    "doc_5 = \"DC and Marvel Universes have longed challenged each other in the realm of superheroes.\"  \n",
    "doc_6 = \"Super Heroes produced by DC include Batman, Flash, the Green Lantern and Superman.\"  \n",
    "doc_7 = \"Super Heroes produced by Marvel include Hulk, Thor, Spiderman, and Wolverine.\"  \n",
    "\n",
    "\n",
    "---\n",
    "\n",
    "\n",
    "불용어를 제거한 vocabulary를 사용하여 7개의 문서에 대한 TF-IDF descriptor를 계산해본 후, 이 문서들의 모든 쌍들 사이의 코사인 유사도를 계산하라. 어떤 문서쌍이 서로 가장 유사한가? \n",
    "* np.round(cos_sim, 3)를 사용하여, 이차원 배열의 결과를 소수점 세 자리까지 나타내라.\n",
    "* matplotlib, ax.imshow() 함수를 사용하면, 행렬 형태의 계산 결과를 시각화할 수 있다.\n",
    "\n",
    "\n"
   ]
  },
  {
   "cell_type": "code",
   "execution_count": 40,
   "metadata": {
    "id": "LnkJ8xmEz-RM"
   },
   "outputs": [
    {
     "ename": "ImportError",
     "evalue": "numpy.core.multiarray failed to import",
     "output_type": "error",
     "traceback": [
      "\u001b[1;31m---------------------------------------------------------------------------\u001b[0m",
      "\u001b[1;31mRuntimeError\u001b[0m                              Traceback (most recent call last)",
      "File \u001b[1;32m__init__.pxd:943\u001b[0m, in \u001b[0;36mnumpy.import_array\u001b[1;34m()\u001b[0m\n",
      "\u001b[1;31mRuntimeError\u001b[0m: module compiled against API version 0xe but this version of numpy is 0xd",
      "\nDuring handling of the above exception, another exception occurred:\n",
      "\u001b[1;31mImportError\u001b[0m                               Traceback (most recent call last)",
      "Cell \u001b[1;32mIn[40], line 4\u001b[0m\n\u001b[0;32m      1\u001b[0m \u001b[39mimport\u001b[39;00m \u001b[39mmatplotlib\u001b[39;00m\u001b[39m.\u001b[39;00m\u001b[39mpyplot\u001b[39;00m \u001b[39mas\u001b[39;00m \u001b[39mplt\u001b[39;00m\n\u001b[0;32m      2\u001b[0m get_ipython()\u001b[39m.\u001b[39mrun_line_magic(\u001b[39m'\u001b[39m\u001b[39mmatplotlib\u001b[39m\u001b[39m'\u001b[39m, \u001b[39m'\u001b[39m\u001b[39mnotebook\u001b[39m\u001b[39m'\u001b[39m)\n\u001b[1;32m----> 4\u001b[0m \u001b[39mfrom\u001b[39;00m \u001b[39msklearn\u001b[39;00m\u001b[39m.\u001b[39;00m\u001b[39mmetrics\u001b[39;00m\u001b[39m.\u001b[39;00m\u001b[39mpairwise\u001b[39;00m \u001b[39mimport\u001b[39;00m cosine_similarity\n\u001b[0;32m      6\u001b[0m doc_1 \u001b[39m=\u001b[39m \u001b[39m\"\u001b[39m\u001b[39mCogworks students learn about artificial intelligence in the form of audio processing, face recognition, and natural language processing.\u001b[39m\u001b[39m\"\u001b[39m\n\u001b[0;32m      7\u001b[0m doc_2 \u001b[39m=\u001b[39m \u001b[39m\"\u001b[39m\u001b[39mSome people think CogWorks is a intense, but these students are simply passionate about artificial intelligence.\u001b[39m\u001b[39m\"\u001b[39m\n",
      "File \u001b[1;32mc:\\Users\\com\\anaconda3\\envs\\ml\\lib\\site-packages\\sklearn\\__init__.py:82\u001b[0m\n\u001b[0;32m     80\u001b[0m \u001b[39mfrom\u001b[39;00m \u001b[39m.\u001b[39;00m \u001b[39mimport\u001b[39;00m _distributor_init  \u001b[39m# noqa: F401\u001b[39;00m\n\u001b[0;32m     81\u001b[0m \u001b[39mfrom\u001b[39;00m \u001b[39m.\u001b[39;00m \u001b[39mimport\u001b[39;00m __check_build  \u001b[39m# noqa: F401\u001b[39;00m\n\u001b[1;32m---> 82\u001b[0m \u001b[39mfrom\u001b[39;00m \u001b[39m.\u001b[39;00m\u001b[39mbase\u001b[39;00m \u001b[39mimport\u001b[39;00m clone\n\u001b[0;32m     83\u001b[0m \u001b[39mfrom\u001b[39;00m \u001b[39m.\u001b[39;00m\u001b[39mutils\u001b[39;00m\u001b[39m.\u001b[39;00m\u001b[39m_show_versions\u001b[39;00m \u001b[39mimport\u001b[39;00m show_versions\n\u001b[0;32m     85\u001b[0m __all__ \u001b[39m=\u001b[39m [\n\u001b[0;32m     86\u001b[0m     \u001b[39m\"\u001b[39m\u001b[39mcalibration\u001b[39m\u001b[39m\"\u001b[39m,\n\u001b[0;32m     87\u001b[0m     \u001b[39m\"\u001b[39m\u001b[39mcluster\u001b[39m\u001b[39m\"\u001b[39m,\n\u001b[1;32m   (...)\u001b[0m\n\u001b[0;32m    128\u001b[0m     \u001b[39m\"\u001b[39m\u001b[39mshow_versions\u001b[39m\u001b[39m\"\u001b[39m,\n\u001b[0;32m    129\u001b[0m ]\n",
      "File \u001b[1;32mc:\\Users\\com\\anaconda3\\envs\\ml\\lib\\site-packages\\sklearn\\base.py:17\u001b[0m\n\u001b[0;32m     15\u001b[0m \u001b[39mfrom\u001b[39;00m \u001b[39m.\u001b[39;00m \u001b[39mimport\u001b[39;00m __version__\n\u001b[0;32m     16\u001b[0m \u001b[39mfrom\u001b[39;00m \u001b[39m.\u001b[39;00m\u001b[39m_config\u001b[39;00m \u001b[39mimport\u001b[39;00m get_config\n\u001b[1;32m---> 17\u001b[0m \u001b[39mfrom\u001b[39;00m \u001b[39m.\u001b[39;00m\u001b[39mutils\u001b[39;00m \u001b[39mimport\u001b[39;00m _IS_32BIT\n\u001b[0;32m     18\u001b[0m \u001b[39mfrom\u001b[39;00m \u001b[39m.\u001b[39;00m\u001b[39mutils\u001b[39;00m\u001b[39m.\u001b[39;00m\u001b[39m_set_output\u001b[39;00m \u001b[39mimport\u001b[39;00m _SetOutputMixin\n\u001b[0;32m     19\u001b[0m \u001b[39mfrom\u001b[39;00m \u001b[39m.\u001b[39;00m\u001b[39mutils\u001b[39;00m\u001b[39m.\u001b[39;00m\u001b[39m_tags\u001b[39;00m \u001b[39mimport\u001b[39;00m (\n\u001b[0;32m     20\u001b[0m     _DEFAULT_TAGS,\n\u001b[0;32m     21\u001b[0m )\n",
      "File \u001b[1;32mc:\\Users\\com\\anaconda3\\envs\\ml\\lib\\site-packages\\sklearn\\utils\\__init__.py:19\u001b[0m\n\u001b[0;32m     16\u001b[0m \u001b[39mimport\u001b[39;00m \u001b[39mnumpy\u001b[39;00m \u001b[39mas\u001b[39;00m \u001b[39mnp\u001b[39;00m\n\u001b[0;32m     17\u001b[0m \u001b[39mfrom\u001b[39;00m \u001b[39mscipy\u001b[39;00m\u001b[39m.\u001b[39;00m\u001b[39msparse\u001b[39;00m \u001b[39mimport\u001b[39;00m issparse\n\u001b[1;32m---> 19\u001b[0m \u001b[39mfrom\u001b[39;00m \u001b[39m.\u001b[39;00m\u001b[39mmurmurhash\u001b[39;00m \u001b[39mimport\u001b[39;00m murmurhash3_32\n\u001b[0;32m     20\u001b[0m \u001b[39mfrom\u001b[39;00m \u001b[39m.\u001b[39;00m\u001b[39mclass_weight\u001b[39;00m \u001b[39mimport\u001b[39;00m compute_class_weight, compute_sample_weight\n\u001b[0;32m     21\u001b[0m \u001b[39mfrom\u001b[39;00m \u001b[39m.\u001b[39;00m \u001b[39mimport\u001b[39;00m _joblib\n",
      "File \u001b[1;32msklearn\\utils\\murmurhash.pyx:26\u001b[0m, in \u001b[0;36minit sklearn.utils.murmurhash\u001b[1;34m()\u001b[0m\n",
      "File \u001b[1;32m__init__.pxd:945\u001b[0m, in \u001b[0;36mnumpy.import_array\u001b[1;34m()\u001b[0m\n",
      "\u001b[1;31mImportError\u001b[0m: numpy.core.multiarray failed to import"
     ]
    }
   ],
   "source": [
    "import matplotlib.pyplot as plt\n",
    "%matplotlib notebook\n",
    "\n",
    "from sklearn.metrics.pairwise import cosine_similarity\n",
    "\n",
    "doc_1 = \"Cogworks students learn about artificial intelligence in the form of audio processing, face recognition, and natural language processing.\"\n",
    "doc_2 = \"Some people think CogWorks is a intense, but these students are simply passionate about artificial intelligence.\"\n",
    "doc_3 = \"Racecar students are learning about autonomous racing.\"\n",
    "doc_4 = \"UAV kids are learning about autonomous aerial vehicles!\"\n",
    "doc_5 = \"DC and Marvel Universes have long challenged each other in the realm of superheroes.\"\n",
    "doc_6 = \"Super Heroes produced by DC include Batman, Flash, the Green Lantern and Superman.\"\n",
    "doc_7 = \"Super Heroes produced by Marvel include Hulk, Thor, Spiderman, and Wolverine.\"\n",
    "\n",
    "# 1. 각 문서에 대한 tf-idf 벡터를 계산하기\n",
    "# 2. np.vstack을 사용하여 (N_doc, N_vocab)의 배열 만들기\n",
    "# 3. (N_doc, N_doc)의 코사인 유사도 행렬 계산하기\n",
    "\n",
    "word_counts = [to_counter(doc) for doc in [doc_1, doc_2, doc_3, doc_4, doc_5, doc_6, doc_7]]\n",
    "vocab = to_vocab(word_counts, stop_words=stops)\n",
    "tfs = np.vstack([to_tf(counter, vocab) for counter in word_counts])\n",
    "idf = to_idf(vocab, word_counts)\n",
    "tf_idfs = tfs*idf\n",
    "cos_sim = cosine_similarity(tf_idfs)"
   ]
  },
  {
   "cell_type": "code",
   "execution_count": null,
   "metadata": {
    "id": "HMqtXghf0AFW"
   },
   "outputs": [],
   "source": [
    "# 1. 코사인 유사도의 대각행렬을 0으로 바꾸기\n",
    "# 2. 코사인 유사도 행렬을 출력하기 (소수점 세 자리까지 나타낼 것)\n",
    "# 3. matplotlib을 활용하여 도표와 축으로 시각화하기\n",
    "#    - `ax.imshow(cos_sim)`을 통해 문서 간 코사인 유사도를 히트맵으로 표현\n",
    "#    - `ax.set_title(...)`을 통해 도표 제목 생성\n",
    "\n",
    "\n",
    "np.einsum(\"ii->i\", cos_sim)[...] = 0\n",
    "print(np.round(cos_sim, 3))\n",
    "\n",
    "fig, ax = plt.subplots()\n",
    "\n",
    "ax.imshow(cos_sim)\n",
    "ax.set_title(\"Heatmap of Cosine-Similarities\\nBetween Documents (via TF-IDF Encodings)\")"
   ]
  }
 ],
 "metadata": {
  "colab": {
   "collapsed_sections": [],
   "name": "NLP_실습4",
   "provenance": []
  },
  "jupytext": {
   "formats": "ipynb,md"
  },
  "kernelspec": {
   "display_name": "Python 3 (ipykernel)",
   "language": "python",
   "name": "python3"
  },
  "language_info": {
   "codemirror_mode": {
    "name": "ipython",
    "version": 3
   },
   "file_extension": ".py",
   "mimetype": "text/x-python",
   "name": "python",
   "nbconvert_exporter": "python",
   "pygments_lexer": "ipython3",
   "version": "3.8.16"
  }
 },
 "nbformat": 4,
 "nbformat_minor": 1
}
